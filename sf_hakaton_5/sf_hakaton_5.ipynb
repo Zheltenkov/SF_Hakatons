{
 "cells": [
  {
   "cell_type": "markdown",
   "metadata": {},
   "source": [
    "# Условия \n",
    "\n",
    "Вы работаете в компании, которая занимается продажей автомобилей с пробегом в Москве. \n",
    "\n",
    "Основная задача компании и её менеджеров — максимально быстро находить выгодные предложения (проще говоря, купить ниже рынка, а продать дороже рынка). \n",
    "\n",
    "Руководство компании просит вашу команду создать модель, которая будет предсказывать стоимость автомобиля по его характеристикам.\n",
    "\n",
    "Если такая модель будет работать хорошо, то вы сможете быстро выявлять выгодные предложения (когда желаемая цена продавца ниже предсказанной рыночной цены). Это значительно ускорит работу менеджеров и повысит прибыль компании.\n",
    "\n",
    "# ПРОБЛЕМА\n",
    "\n",
    "Только вот незадача: исторически сложилось, что компания изначально не собирала данные. Есть только небольшой датасет с историей продаж за короткий период, которого для обучения модели будет явно мало. Его мы будем использовать для теста, остальное придется собрать самим.\n",
    "\n",
    "# Условия соревнования:\n",
    "\n",
    "* Данное соревнование является бессрочным и доступно для всех потоков.\n",
    "* Срок выполнения соревнования устанавливаеться индивидуально в каждом потоке.\n",
    "* Тестовая выборка представлена в ЛидерБорде целиком.\n",
    "* По этому лучшие и победные решения буду проверяться на их \"адекватность\" (чтоб не было подгонки под тестовую выборку).\n",
    "* Разрешено использовать внешние данные. (но их источник должен быть публичным и доступен всем участникам соревнования)\n",
    "* Разрешено использовать любые ML алгоритмы и библиотеки. (кроме DL)\n",
    "* Даже если удасться найти исходные объявления из теста - нельзя просто указать их цену. Делаем реальный ML продукт, который потом сможет нормально работать на новых данных."
   ]
  },
  {
   "cell_type": "code",
   "execution_count": 1,
   "metadata": {},
   "outputs": [],
   "source": [
    "import numpy as np # linear algebra\n",
    "import pandas as pd # data processing, CSV file I/O (e.g. pd.read_csv)\n",
    "import sys\n",
    "from pandas import Series\n",
    "from sklearn.model_selection import train_test_split\n",
    "from sklearn.model_selection import KFold\n",
    "from tqdm.notebook import tqdm\n",
    "from catboost import CatBoostRegressor\n",
    "from sklearn.feature_selection import f_classif, mutual_info_classif\n",
    "from sklearn.ensemble import GradientBoostingRegressor, ExtraTreesRegressor, RandomForestRegressor\n",
    "from sklearn.ensemble import (AdaBoostClassifier, GradientBoostingClassifier,RandomForestClassifier, ExtraTreesClassifier)\n",
    "from sklearn.linear_model import LogisticRegression\n",
    "from sklearn.metrics import auc, roc_auc_score, roc_curve\n",
    "from sklearn.metrics import confusion_matrix\n",
    "from sklearn.metrics import accuracy_score, precision_score, recall_score, f1_score\n",
    "from sklearn.metrics import precision_recall_curve\n",
    "from sklearn.metrics import plot_precision_recall_curve\n",
    "from sklearn.impute import KNNImputer\n",
    "\n",
    "import matplotlib.pyplot as plt\n",
    "import seaborn as sns\n",
    "from sklearn.impute import KNNImputer\n",
    "from datetime import datetime\n",
    "from datetime import timedelta"
   ]
  },
  {
   "cell_type": "code",
   "execution_count": 2,
   "metadata": {},
   "outputs": [],
   "source": [
    "# Определим отсутствующие данные\n",
    "def nan_in_table(df):\n",
    "    x = pd.DataFrame()\n",
    "    x['Всего NaN'] = df.isna().sum()\n",
    "    x['% NaN'] = round((x['Всего NaN'] / df.shape[0])*100, 2)\n",
    "    x = x.sort_values('% NaN', ascending=False) \n",
    "    x = x[x['Всего NaN'] > 0]\n",
    "    return x\n",
    "\n",
    "def bar_count(column, header=True):\n",
    "    fig = plt.figure(figsize=(15,10))\n",
    "    sns.set_style('whitegrid')  \n",
    "    plt.xticks(rotation=45, fontsize=15)\n",
    "    plt.legend(fontsize = 15)\n",
    "    \n",
    "    if header == True:\n",
    "        sns.countplot(x=column, data=df, hue=column, dodge=0, color='green')\n",
    "    else:\n",
    "        sns.countplot(x=column, data=df, dodge=0, color='green')\n",
    "    \n",
    "    val = []\n",
    "    for i in df[column].value_counts():\n",
    "        val.append(round((i/df[column].shape[0])*100,2))\n",
    "\n",
    "    res = {}\n",
    "    for i,j in zip(df[column].value_counts().index, val):\n",
    "        res[i] = j\n",
    "\n",
    "    for i in res.items():\n",
    "        print(f'{i[0]} : {i[1]}%')\n",
    "        \n",
    "def emissions_analys(column):\n",
    "\n",
    "    median = df[column].median()\n",
    "    IQR = df[column].quantile(0.75) - df[column].quantile(0.25)\n",
    "    perc25 = df[column].quantile(0.25)\n",
    "    perc75 = df[column].quantile(0.75)\n",
    "    start_int = perc25 - 1.5*IQR\n",
    "    stop_int = perc75 + 1.5*IQR\n",
    "\n",
    "    top_count = 0\n",
    "    bot_count = 0\n",
    "\n",
    "    for i in df[column]:\n",
    "        if i > stop_int:\n",
    "            top_count += 1\n",
    "        elif i < start_int:\n",
    "            bot_count += 1\n",
    "        else:\n",
    "            pass\n",
    "\n",
    "    res = bot_count + top_count\n",
    "    \n",
    "    print(f'Минимальное значение: {df[column].min()} |', f'Максимальное значение: {df[column].max()}', \n",
    "          f'Среднее значение: {int(df[column].mean())}')\n",
    "    print(60*'==')\n",
    "    print(f'25-й перцентиль: {perc25} |', f'75-й перцентиль: {perc75} |', \n",
    "          f'Границы выбросов: [{start_int}, {stop_int}]')\n",
    "    print(60*'==')\n",
    "    print(f'Всего выбросов: {res} |', f'Выбросы в нижней границе: {bot_count} |', \n",
    "          f'Выбросы в верхней границе: {top_count}')    \n",
    "    \n",
    "def distplot(df, column, bins=10):\n",
    "    fig = plt.figure(figsize=(6,6))\n",
    "    sns.set_style('whitegrid') \n",
    "    plot = sns.distplot(df[column],color='green', bins=bins)\n",
    "    plt.show()\n",
    "    \n",
    "def plot_confusion_matrix(y_true, y_pred, font_scale, classes,\n",
    "                          normalize=False,\n",
    "                          title=None):\n",
    "    \"\"\"\n",
    "    This function prints and plots the confusion matrix.\n",
    "    Normalization can be applied by setting `normalize=True`.\n",
    "    \"\"\"\n",
    "\n",
    "    list_of_labels = [['TP', 'FP'], ['FN', 'TN']]\n",
    "\n",
    "    if not title:\n",
    "        if normalize:\n",
    "            title = 'Нормализованная матрица ошибок'\n",
    "        else:\n",
    "            title = 'Матрица ошибок без нормализации'\n",
    "\n",
    "    # Compute confusion matrix\n",
    "    cm = confusion_matrix(y_true, y_pred)\n",
    "\n",
    "    cm[0, 0], cm[1, 1] = cm[1, 1], cm[0, 0]\n",
    "\n",
    "    # # Only use the labels that appear in the data\n",
    "    # classes = classes[unique_labels(y_true, y_pred)]\n",
    "    if normalize:\n",
    "        cm = cm.astype('float') / cm.sum(axis=1)[:, np.newaxis]\n",
    "\n",
    "    plt.style.use('seaborn-paper')\n",
    "    cmap = plt.cm.Blues\n",
    "    color_text = plt.get_cmap('PuBu')(0.85)\n",
    "\n",
    "    fig, ax = plt.subplots()\n",
    "    im = ax.imshow(cm, interpolation='nearest', cmap=cmap)\n",
    "    ax.figure.colorbar(im, ax=ax)\n",
    "    # We want to show all ticks...\n",
    "    ax.grid(False)\n",
    "    ax.set(xticks=np.arange(cm.shape[1]),\n",
    "           yticks=np.arange(cm.shape[0]),\n",
    "           # ... and label them with the respective list entries\n",
    "\n",
    "           title=title)\n",
    "    ax.title.set_fontsize(15)\n",
    "    ax.set_ylabel('Предсказанные значения', fontsize=14, color=color_text)\n",
    "    ax.set_xlabel('Целевая переменная', fontsize=14, color=color_text)\n",
    "    ax.set_xticklabels(classes, fontsize=12, color='black')\n",
    "    ax.set_yticklabels(classes, fontsize=12, color='black')\n",
    "\n",
    "    # Rotate the tick labels and set their alignment.\n",
    "    plt.setp(ax.get_xticklabels(), rotation=45, ha=\"right\",\n",
    "             rotation_mode=\"anchor\")\n",
    "\n",
    "    # Loop over data dimensions and create text annotations.\n",
    "    fmt = '.2f' if normalize else 'd'\n",
    "    thresh = cm.max() / 2.\n",
    "    for i in range(cm.shape[0]):\n",
    "        for j in range(cm.shape[1]):\n",
    "            ax.text(j, i, list_of_labels[i][j] + '\\n' + format(cm[i, j], fmt),\n",
    "                    ha=\"center\", va=\"center\",\n",
    "                    color=\"white\" if cm[i, j] > thresh else \"black\")\n",
    "    fig.tight_layout()\n",
    "    return ax\n",
    "\n",
    "def print_metrics(y_test, y_pred):\n",
    "    print('Accuracy: %.4f' % accuracy_score(y_test, y_pred))\n",
    "    print('Precision: %.4f' % precision_score(y_test, y_pred))\n",
    "    print('Recall: %.4f' % recall_score(y_test, y_pred))\n",
    "    print('F1: %.4f' % f1_score(y_test, y_pred))\n"
   ]
  },
  {
   "cell_type": "code",
   "execution_count": 3,
   "metadata": {},
   "outputs": [],
   "source": [
    "# всегда фиксируйте RANDOM_SEED, чтобы ваши эксперименты были воспроизводимы!\n",
    "RANDOM_SEED = 42"
   ]
  },
  {
   "cell_type": "markdown",
   "metadata": {},
   "source": [
    "# Data download"
   ]
  },
  {
   "cell_type": "code",
   "execution_count": 4,
   "metadata": {},
   "outputs": [],
   "source": [
    "# Загрузка и просмотр данных\n",
    "df_train = pd.read_csv('all_auto_ru_09_09_2020.csv') # датасет для обучения модели\n",
    "df_test = pd.read_csv('test.csv')\n",
    "\n",
    "pd.set_option('display.max_columns', None)"
   ]
  },
  {
   "cell_type": "code",
   "execution_count": 5,
   "metadata": {},
   "outputs": [
    {
     "data": {
      "text/plain": [
       "'train: shape(89378, 26)'"
      ]
     },
     "metadata": {},
     "output_type": "display_data"
    },
    {
     "data": {
      "text/plain": [
       "Index(['bodyType', 'brand', 'color', 'fuelType', 'modelDate', 'name',\n",
       "       'numberOfDoors', 'productionDate', 'vehicleConfiguration',\n",
       "       'vehicleTransmission', 'engineDisplacement', 'enginePower',\n",
       "       'description', 'mileage', 'Комплектация', 'Привод', 'Руль', 'Состояние',\n",
       "       'Владельцы', 'ПТС', 'Таможня', 'Владение', 'price', 'start_date',\n",
       "       'hidden', 'model'],\n",
       "      dtype='object')"
      ]
     },
     "metadata": {},
     "output_type": "display_data"
    },
    {
     "data": {
      "text/plain": [
       "'test: shape(34686, 32)'"
      ]
     },
     "metadata": {},
     "output_type": "display_data"
    },
    {
     "data": {
      "text/plain": [
       "Index(['bodyType', 'brand', 'car_url', 'color', 'complectation_dict',\n",
       "       'description', 'engineDisplacement', 'enginePower', 'equipment_dict',\n",
       "       'fuelType', 'image', 'mileage', 'modelDate', 'model_info', 'model_name',\n",
       "       'name', 'numberOfDoors', 'parsing_unixtime', 'priceCurrency',\n",
       "       'productionDate', 'sell_id', 'super_gen', 'vehicleConfiguration',\n",
       "       'vehicleTransmission', 'vendor', 'Владельцы', 'Владение', 'ПТС',\n",
       "       'Привод', 'Руль', 'Состояние', 'Таможня'],\n",
       "      dtype='object')"
      ]
     },
     "metadata": {},
     "output_type": "display_data"
    }
   ],
   "source": [
    "display(\"train: shape\" + str(df_train.shape), df_train.columns)\n",
    "display(\"test: shape\" +str(df_test.shape), df_test.columns)"
   ]
  },
  {
   "cell_type": "code",
   "execution_count": 6,
   "metadata": {},
   "outputs": [
    {
     "name": "stdout",
     "output_type": "stream",
     "text": [
      "Тренировочный датасет\n"
     ]
    },
    {
     "data": {
      "text/html": [
       "<div>\n",
       "<style scoped>\n",
       "    .dataframe tbody tr th:only-of-type {\n",
       "        vertical-align: middle;\n",
       "    }\n",
       "\n",
       "    .dataframe tbody tr th {\n",
       "        vertical-align: top;\n",
       "    }\n",
       "\n",
       "    .dataframe thead th {\n",
       "        text-align: right;\n",
       "    }\n",
       "</style>\n",
       "<table border=\"1\" class=\"dataframe\">\n",
       "  <thead>\n",
       "    <tr style=\"text-align: right;\">\n",
       "      <th></th>\n",
       "      <th>Всего NaN</th>\n",
       "      <th>% NaN</th>\n",
       "    </tr>\n",
       "  </thead>\n",
       "  <tbody>\n",
       "    <tr>\n",
       "      <th>hidden</th>\n",
       "      <td>89378</td>\n",
       "      <td>100.00</td>\n",
       "    </tr>\n",
       "    <tr>\n",
       "      <th>Состояние</th>\n",
       "      <td>89378</td>\n",
       "      <td>100.00</td>\n",
       "    </tr>\n",
       "    <tr>\n",
       "      <th>Владение</th>\n",
       "      <td>60177</td>\n",
       "      <td>67.33</td>\n",
       "    </tr>\n",
       "    <tr>\n",
       "      <th>Владельцы</th>\n",
       "      <td>13588</td>\n",
       "      <td>15.20</td>\n",
       "    </tr>\n",
       "    <tr>\n",
       "      <th>description</th>\n",
       "      <td>3254</td>\n",
       "      <td>3.64</td>\n",
       "    </tr>\n",
       "    <tr>\n",
       "      <th>price</th>\n",
       "      <td>410</td>\n",
       "      <td>0.46</td>\n",
       "    </tr>\n",
       "    <tr>\n",
       "      <th>ПТС</th>\n",
       "      <td>361</td>\n",
       "      <td>0.40</td>\n",
       "    </tr>\n",
       "    <tr>\n",
       "      <th>bodyType</th>\n",
       "      <td>1</td>\n",
       "      <td>0.00</td>\n",
       "    </tr>\n",
       "    <tr>\n",
       "      <th>Привод</th>\n",
       "      <td>1</td>\n",
       "      <td>0.00</td>\n",
       "    </tr>\n",
       "    <tr>\n",
       "      <th>enginePower</th>\n",
       "      <td>1</td>\n",
       "      <td>0.00</td>\n",
       "    </tr>\n",
       "    <tr>\n",
       "      <th>engineDisplacement</th>\n",
       "      <td>1</td>\n",
       "      <td>0.00</td>\n",
       "    </tr>\n",
       "    <tr>\n",
       "      <th>vehicleTransmission</th>\n",
       "      <td>1</td>\n",
       "      <td>0.00</td>\n",
       "    </tr>\n",
       "    <tr>\n",
       "      <th>vehicleConfiguration</th>\n",
       "      <td>1</td>\n",
       "      <td>0.00</td>\n",
       "    </tr>\n",
       "    <tr>\n",
       "      <th>numberOfDoors</th>\n",
       "      <td>1</td>\n",
       "      <td>0.00</td>\n",
       "    </tr>\n",
       "    <tr>\n",
       "      <th>name</th>\n",
       "      <td>1</td>\n",
       "      <td>0.00</td>\n",
       "    </tr>\n",
       "    <tr>\n",
       "      <th>modelDate</th>\n",
       "      <td>1</td>\n",
       "      <td>0.00</td>\n",
       "    </tr>\n",
       "  </tbody>\n",
       "</table>\n",
       "</div>"
      ],
      "text/plain": [
       "                      Всего NaN   % NaN\n",
       "hidden                    89378  100.00\n",
       "Состояние                 89378  100.00\n",
       "Владение                  60177   67.33\n",
       "Владельцы                 13588   15.20\n",
       "description                3254    3.64\n",
       "price                       410    0.46\n",
       "ПТС                         361    0.40\n",
       "bodyType                      1    0.00\n",
       "Привод                        1    0.00\n",
       "enginePower                   1    0.00\n",
       "engineDisplacement            1    0.00\n",
       "vehicleTransmission           1    0.00\n",
       "vehicleConfiguration          1    0.00\n",
       "numberOfDoors                 1    0.00\n",
       "name                          1    0.00\n",
       "modelDate                     1    0.00"
      ]
     },
     "metadata": {},
     "output_type": "display_data"
    },
    {
     "name": "stdout",
     "output_type": "stream",
     "text": [
      "Тестовый\n"
     ]
    },
    {
     "data": {
      "text/html": [
       "<div>\n",
       "<style scoped>\n",
       "    .dataframe tbody tr th:only-of-type {\n",
       "        vertical-align: middle;\n",
       "    }\n",
       "\n",
       "    .dataframe tbody tr th {\n",
       "        vertical-align: top;\n",
       "    }\n",
       "\n",
       "    .dataframe thead th {\n",
       "        text-align: right;\n",
       "    }\n",
       "</style>\n",
       "<table border=\"1\" class=\"dataframe\">\n",
       "  <thead>\n",
       "    <tr style=\"text-align: right;\">\n",
       "      <th></th>\n",
       "      <th>Всего NaN</th>\n",
       "      <th>% NaN</th>\n",
       "    </tr>\n",
       "  </thead>\n",
       "  <tbody>\n",
       "    <tr>\n",
       "      <th>complectation_dict</th>\n",
       "      <td>28268</td>\n",
       "      <td>81.50</td>\n",
       "    </tr>\n",
       "    <tr>\n",
       "      <th>Владение</th>\n",
       "      <td>22691</td>\n",
       "      <td>65.42</td>\n",
       "    </tr>\n",
       "    <tr>\n",
       "      <th>equipment_dict</th>\n",
       "      <td>9996</td>\n",
       "      <td>28.82</td>\n",
       "    </tr>\n",
       "    <tr>\n",
       "      <th>ПТС</th>\n",
       "      <td>1</td>\n",
       "      <td>0.00</td>\n",
       "    </tr>\n",
       "  </tbody>\n",
       "</table>\n",
       "</div>"
      ],
      "text/plain": [
       "                    Всего NaN  % NaN\n",
       "complectation_dict      28268  81.50\n",
       "Владение                22691  65.42\n",
       "equipment_dict           9996  28.82\n",
       "ПТС                         1   0.00"
      ]
     },
     "metadata": {},
     "output_type": "display_data"
    }
   ],
   "source": [
    "print('Тренировочный датасет')\n",
    "display(nan_in_table(df_train))\n",
    "print('Тестовый')\n",
    "display(nan_in_table(df_test))"
   ]
  },
  {
   "cell_type": "code",
   "execution_count": 7,
   "metadata": {},
   "outputs": [],
   "source": [
    "# удалим строки, где отсутствует цена\n",
    "df_train = df_train.dropna(axis=0, subset=['price'])\n",
    "df_train  = df_train.reset_index(drop=True)"
   ]
  },
  {
   "cell_type": "code",
   "execution_count": 8,
   "metadata": {},
   "outputs": [],
   "source": [
    "# Количество признаков не совпадает будем оставлять пересечение после объединения датасетов\n",
    "df_train = df_train[['brand','bodyType','color','fuelType', 'modelDate','numberOfDoors','productionDate',\n",
    "        'vehicleConfiguration','engineDisplacement','enginePower','mileage','Привод','Руль',\n",
    "        'Владельцы','ПТС','price']]\n",
    "df_test = df_test[['brand','bodyType','color','fuelType', 'modelDate','numberOfDoors','productionDate',\n",
    "        'vehicleConfiguration','engineDisplacement','enginePower','mileage','Привод','Руль',\n",
    "        'Владельцы','ПТС']]"
   ]
  },
  {
   "cell_type": "code",
   "execution_count": 9,
   "metadata": {},
   "outputs": [
    {
     "data": {
      "text/html": [
       "<div>\n",
       "<style scoped>\n",
       "    .dataframe tbody tr th:only-of-type {\n",
       "        vertical-align: middle;\n",
       "    }\n",
       "\n",
       "    .dataframe tbody tr th {\n",
       "        vertical-align: top;\n",
       "    }\n",
       "\n",
       "    .dataframe thead th {\n",
       "        text-align: right;\n",
       "    }\n",
       "</style>\n",
       "<table border=\"1\" class=\"dataframe\">\n",
       "  <thead>\n",
       "    <tr style=\"text-align: right;\">\n",
       "      <th></th>\n",
       "      <th>brand</th>\n",
       "      <th>bodyType</th>\n",
       "      <th>color</th>\n",
       "      <th>fuelType</th>\n",
       "      <th>modelDate</th>\n",
       "      <th>numberOfDoors</th>\n",
       "      <th>productionDate</th>\n",
       "      <th>vehicleConfiguration</th>\n",
       "      <th>engineDisplacement</th>\n",
       "      <th>enginePower</th>\n",
       "      <th>mileage</th>\n",
       "      <th>Привод</th>\n",
       "      <th>Руль</th>\n",
       "      <th>Владельцы</th>\n",
       "      <th>ПТС</th>\n",
       "      <th>price</th>\n",
       "      <th>train</th>\n",
       "    </tr>\n",
       "  </thead>\n",
       "  <tbody>\n",
       "    <tr>\n",
       "      <th>0</th>\n",
       "      <td>AUDI</td>\n",
       "      <td>Седан</td>\n",
       "      <td>040001</td>\n",
       "      <td>бензин</td>\n",
       "      <td>1990.0</td>\n",
       "      <td>4.0</td>\n",
       "      <td>1991</td>\n",
       "      <td>SEDAN MECHANICAL 2.8</td>\n",
       "      <td>2.8</td>\n",
       "      <td>174</td>\n",
       "      <td>350000</td>\n",
       "      <td>полный</td>\n",
       "      <td>LEFT</td>\n",
       "      <td>3</td>\n",
       "      <td>ORIGINAL</td>\n",
       "      <td>200000.0</td>\n",
       "      <td>1</td>\n",
       "    </tr>\n",
       "    <tr>\n",
       "      <th>1</th>\n",
       "      <td>AUDI</td>\n",
       "      <td>Седан</td>\n",
       "      <td>EE1D19</td>\n",
       "      <td>бензин</td>\n",
       "      <td>1982.0</td>\n",
       "      <td>4.0</td>\n",
       "      <td>1986</td>\n",
       "      <td>SEDAN MECHANICAL 1.8</td>\n",
       "      <td>1.8</td>\n",
       "      <td>90</td>\n",
       "      <td>173424</td>\n",
       "      <td>передний</td>\n",
       "      <td>LEFT</td>\n",
       "      <td>3</td>\n",
       "      <td>ORIGINAL</td>\n",
       "      <td>60000.0</td>\n",
       "      <td>1</td>\n",
       "    </tr>\n",
       "    <tr>\n",
       "      <th>2</th>\n",
       "      <td>AUDI</td>\n",
       "      <td>Универсал 5 дв.</td>\n",
       "      <td>0000CC</td>\n",
       "      <td>бензин</td>\n",
       "      <td>1988.0</td>\n",
       "      <td>5.0</td>\n",
       "      <td>1989</td>\n",
       "      <td>WAGON_5_DOORS MECHANICAL 2.3</td>\n",
       "      <td>2.3</td>\n",
       "      <td>136</td>\n",
       "      <td>230000</td>\n",
       "      <td>полный</td>\n",
       "      <td>LEFT</td>\n",
       "      <td>3</td>\n",
       "      <td>ORIGINAL</td>\n",
       "      <td>99000.0</td>\n",
       "      <td>1</td>\n",
       "    </tr>\n",
       "    <tr>\n",
       "      <th>3</th>\n",
       "      <td>AUDI</td>\n",
       "      <td>Седан</td>\n",
       "      <td>CACECB</td>\n",
       "      <td>бензин</td>\n",
       "      <td>1988.0</td>\n",
       "      <td>4.0</td>\n",
       "      <td>1989</td>\n",
       "      <td>SEDAN MECHANICAL 1.8</td>\n",
       "      <td>1.8</td>\n",
       "      <td>90</td>\n",
       "      <td>240000</td>\n",
       "      <td>передний</td>\n",
       "      <td>LEFT</td>\n",
       "      <td>3</td>\n",
       "      <td>ORIGINAL</td>\n",
       "      <td>65000.0</td>\n",
       "      <td>1</td>\n",
       "    </tr>\n",
       "    <tr>\n",
       "      <th>4</th>\n",
       "      <td>AUDI</td>\n",
       "      <td>Седан</td>\n",
       "      <td>040001</td>\n",
       "      <td>бензин</td>\n",
       "      <td>1990.0</td>\n",
       "      <td>4.0</td>\n",
       "      <td>1991</td>\n",
       "      <td>SEDAN MECHANICAL 2.0</td>\n",
       "      <td>2.0</td>\n",
       "      <td>101</td>\n",
       "      <td>300000</td>\n",
       "      <td>передний</td>\n",
       "      <td>LEFT</td>\n",
       "      <td>3</td>\n",
       "      <td>DUPLICATE</td>\n",
       "      <td>100000.0</td>\n",
       "      <td>1</td>\n",
       "    </tr>\n",
       "  </tbody>\n",
       "</table>\n",
       "</div>"
      ],
      "text/plain": [
       "  brand         bodyType   color fuelType  modelDate  numberOfDoors  \\\n",
       "0  AUDI            Седан  040001   бензин     1990.0            4.0   \n",
       "1  AUDI            Седан  EE1D19   бензин     1982.0            4.0   \n",
       "2  AUDI  Универсал 5 дв.  0000CC   бензин     1988.0            5.0   \n",
       "3  AUDI            Седан  CACECB   бензин     1988.0            4.0   \n",
       "4  AUDI            Седан  040001   бензин     1990.0            4.0   \n",
       "\n",
       "   productionDate          vehicleConfiguration engineDisplacement  \\\n",
       "0            1991          SEDAN MECHANICAL 2.8                2.8   \n",
       "1            1986          SEDAN MECHANICAL 1.8                1.8   \n",
       "2            1989  WAGON_5_DOORS MECHANICAL 2.3                2.3   \n",
       "3            1989          SEDAN MECHANICAL 1.8                1.8   \n",
       "4            1991          SEDAN MECHANICAL 2.0                2.0   \n",
       "\n",
       "  enginePower  mileage    Привод  Руль Владельцы        ПТС     price  train  \n",
       "0         174   350000    полный  LEFT         3   ORIGINAL  200000.0      1  \n",
       "1          90   173424  передний  LEFT         3   ORIGINAL   60000.0      1  \n",
       "2         136   230000    полный  LEFT         3   ORIGINAL   99000.0      1  \n",
       "3          90   240000  передний  LEFT         3   ORIGINAL   65000.0      1  \n",
       "4         101   300000  передний  LEFT         3  DUPLICATE  100000.0      1  "
      ]
     },
     "execution_count": 9,
     "metadata": {},
     "output_type": "execute_result"
    }
   ],
   "source": [
    "# Делаем пометку, где тренировочная выборка, где тестовая\n",
    "df_train['train'] = 1\n",
    "df_test['train'] = 0\n",
    "\n",
    "dt =pd.DataFrame()\n",
    "# объединяем датафреймы\n",
    "df = df_train.append(df_test, sort=False).reset_index(drop=True) # объединяем датафреймы\n",
    "df.head(5)"
   ]
  },
  {
   "cell_type": "markdown",
   "metadata": {},
   "source": [
    "# Преобразование и чистка данных"
   ]
  },
  {
   "cell_type": "code",
   "execution_count": 10,
   "metadata": {},
   "outputs": [],
   "source": [
    "#переименуем колоки для удобства\n",
    "df.columns = ['brand', 'body', 'color', 'fuel', 'modelDate','doors', 'prod_date', 'config',\n",
    "       'engine', 'power', 'mileage', 'drive', 'wheel', 'owner',\n",
    "       'tech_passport', 'price', 'train']"
   ]
  },
  {
   "cell_type": "code",
   "execution_count": 11,
   "metadata": {},
   "outputs": [
    {
     "data": {
      "text/html": [
       "<div>\n",
       "<style scoped>\n",
       "    .dataframe tbody tr th:only-of-type {\n",
       "        vertical-align: middle;\n",
       "    }\n",
       "\n",
       "    .dataframe tbody tr th {\n",
       "        vertical-align: top;\n",
       "    }\n",
       "\n",
       "    .dataframe thead th {\n",
       "        text-align: right;\n",
       "    }\n",
       "</style>\n",
       "<table border=\"1\" class=\"dataframe\">\n",
       "  <thead>\n",
       "    <tr style=\"text-align: right;\">\n",
       "      <th></th>\n",
       "      <th>brand</th>\n",
       "      <th>body</th>\n",
       "      <th>color</th>\n",
       "      <th>fuel</th>\n",
       "      <th>modelDate</th>\n",
       "      <th>doors</th>\n",
       "      <th>prod_date</th>\n",
       "      <th>config</th>\n",
       "      <th>engine</th>\n",
       "      <th>power</th>\n",
       "      <th>mileage</th>\n",
       "      <th>drive</th>\n",
       "      <th>wheel</th>\n",
       "      <th>owner</th>\n",
       "      <th>tech_passport</th>\n",
       "      <th>price</th>\n",
       "      <th>train</th>\n",
       "    </tr>\n",
       "  </thead>\n",
       "  <tbody>\n",
       "    <tr>\n",
       "      <th>0</th>\n",
       "      <td>AUDI</td>\n",
       "      <td>Седан</td>\n",
       "      <td>040001</td>\n",
       "      <td>бензин</td>\n",
       "      <td>1990.0</td>\n",
       "      <td>4.0</td>\n",
       "      <td>1991</td>\n",
       "      <td>SEDAN MECHANICAL 2.8</td>\n",
       "      <td>2.8</td>\n",
       "      <td>174</td>\n",
       "      <td>350000</td>\n",
       "      <td>полный</td>\n",
       "      <td>LEFT</td>\n",
       "      <td>3</td>\n",
       "      <td>ORIGINAL</td>\n",
       "      <td>200000.0</td>\n",
       "      <td>1</td>\n",
       "    </tr>\n",
       "    <tr>\n",
       "      <th>1</th>\n",
       "      <td>AUDI</td>\n",
       "      <td>Седан</td>\n",
       "      <td>EE1D19</td>\n",
       "      <td>бензин</td>\n",
       "      <td>1982.0</td>\n",
       "      <td>4.0</td>\n",
       "      <td>1986</td>\n",
       "      <td>SEDAN MECHANICAL 1.8</td>\n",
       "      <td>1.8</td>\n",
       "      <td>90</td>\n",
       "      <td>173424</td>\n",
       "      <td>передний</td>\n",
       "      <td>LEFT</td>\n",
       "      <td>3</td>\n",
       "      <td>ORIGINAL</td>\n",
       "      <td>60000.0</td>\n",
       "      <td>1</td>\n",
       "    </tr>\n",
       "    <tr>\n",
       "      <th>2</th>\n",
       "      <td>AUDI</td>\n",
       "      <td>Универсал 5 дв.</td>\n",
       "      <td>0000CC</td>\n",
       "      <td>бензин</td>\n",
       "      <td>1988.0</td>\n",
       "      <td>5.0</td>\n",
       "      <td>1989</td>\n",
       "      <td>WAGON_5_DOORS MECHANICAL 2.3</td>\n",
       "      <td>2.3</td>\n",
       "      <td>136</td>\n",
       "      <td>230000</td>\n",
       "      <td>полный</td>\n",
       "      <td>LEFT</td>\n",
       "      <td>3</td>\n",
       "      <td>ORIGINAL</td>\n",
       "      <td>99000.0</td>\n",
       "      <td>1</td>\n",
       "    </tr>\n",
       "    <tr>\n",
       "      <th>3</th>\n",
       "      <td>AUDI</td>\n",
       "      <td>Седан</td>\n",
       "      <td>CACECB</td>\n",
       "      <td>бензин</td>\n",
       "      <td>1988.0</td>\n",
       "      <td>4.0</td>\n",
       "      <td>1989</td>\n",
       "      <td>SEDAN MECHANICAL 1.8</td>\n",
       "      <td>1.8</td>\n",
       "      <td>90</td>\n",
       "      <td>240000</td>\n",
       "      <td>передний</td>\n",
       "      <td>LEFT</td>\n",
       "      <td>3</td>\n",
       "      <td>ORIGINAL</td>\n",
       "      <td>65000.0</td>\n",
       "      <td>1</td>\n",
       "    </tr>\n",
       "    <tr>\n",
       "      <th>4</th>\n",
       "      <td>AUDI</td>\n",
       "      <td>Седан</td>\n",
       "      <td>040001</td>\n",
       "      <td>бензин</td>\n",
       "      <td>1990.0</td>\n",
       "      <td>4.0</td>\n",
       "      <td>1991</td>\n",
       "      <td>SEDAN MECHANICAL 2.0</td>\n",
       "      <td>2.0</td>\n",
       "      <td>101</td>\n",
       "      <td>300000</td>\n",
       "      <td>передний</td>\n",
       "      <td>LEFT</td>\n",
       "      <td>3</td>\n",
       "      <td>DUPLICATE</td>\n",
       "      <td>100000.0</td>\n",
       "      <td>1</td>\n",
       "    </tr>\n",
       "    <tr>\n",
       "      <th>...</th>\n",
       "      <td>...</td>\n",
       "      <td>...</td>\n",
       "      <td>...</td>\n",
       "      <td>...</td>\n",
       "      <td>...</td>\n",
       "      <td>...</td>\n",
       "      <td>...</td>\n",
       "      <td>...</td>\n",
       "      <td>...</td>\n",
       "      <td>...</td>\n",
       "      <td>...</td>\n",
       "      <td>...</td>\n",
       "      <td>...</td>\n",
       "      <td>...</td>\n",
       "      <td>...</td>\n",
       "      <td>...</td>\n",
       "      <td>...</td>\n",
       "    </tr>\n",
       "    <tr>\n",
       "      <th>123649</th>\n",
       "      <td>BMW</td>\n",
       "      <td>седан</td>\n",
       "      <td>коричневый</td>\n",
       "      <td>бензин</td>\n",
       "      <td>2011.0</td>\n",
       "      <td>4.0</td>\n",
       "      <td>2014</td>\n",
       "      <td>SEDAN AUTOMATIC 1.6</td>\n",
       "      <td>1.6 LTR</td>\n",
       "      <td>136 N12</td>\n",
       "      <td>115000</td>\n",
       "      <td>задний</td>\n",
       "      <td>Левый</td>\n",
       "      <td>3 или более</td>\n",
       "      <td>Оригинал</td>\n",
       "      <td>NaN</td>\n",
       "      <td>0</td>\n",
       "    </tr>\n",
       "    <tr>\n",
       "      <th>123650</th>\n",
       "      <td>BMW</td>\n",
       "      <td>седан</td>\n",
       "      <td>чёрный</td>\n",
       "      <td>дизель</td>\n",
       "      <td>2016.0</td>\n",
       "      <td>4.0</td>\n",
       "      <td>2018</td>\n",
       "      <td>SEDAN AUTOMATIC 2.0</td>\n",
       "      <td>2.0 LTR</td>\n",
       "      <td>190 N12</td>\n",
       "      <td>98000</td>\n",
       "      <td>полный</td>\n",
       "      <td>Левый</td>\n",
       "      <td>1 владелец</td>\n",
       "      <td>Оригинал</td>\n",
       "      <td>NaN</td>\n",
       "      <td>0</td>\n",
       "    </tr>\n",
       "    <tr>\n",
       "      <th>123651</th>\n",
       "      <td>BMW</td>\n",
       "      <td>седан</td>\n",
       "      <td>серый</td>\n",
       "      <td>бензин</td>\n",
       "      <td>1995.0</td>\n",
       "      <td>4.0</td>\n",
       "      <td>1997</td>\n",
       "      <td>SEDAN AUTOMATIC 2.5</td>\n",
       "      <td>2.5 LTR</td>\n",
       "      <td>170 N12</td>\n",
       "      <td>360000</td>\n",
       "      <td>задний</td>\n",
       "      <td>Левый</td>\n",
       "      <td>3 или более</td>\n",
       "      <td>Дубликат</td>\n",
       "      <td>NaN</td>\n",
       "      <td>0</td>\n",
       "    </tr>\n",
       "    <tr>\n",
       "      <th>123652</th>\n",
       "      <td>BMW</td>\n",
       "      <td>внедорожник 5 дв.</td>\n",
       "      <td>коричневый</td>\n",
       "      <td>дизель</td>\n",
       "      <td>2012.0</td>\n",
       "      <td>5.0</td>\n",
       "      <td>2013</td>\n",
       "      <td>ALLROAD_5_DOORS AUTOMATIC 2.0</td>\n",
       "      <td>2.0 LTR</td>\n",
       "      <td>184 N12</td>\n",
       "      <td>90500</td>\n",
       "      <td>полный</td>\n",
       "      <td>Левый</td>\n",
       "      <td>2 владельца</td>\n",
       "      <td>Оригинал</td>\n",
       "      <td>NaN</td>\n",
       "      <td>0</td>\n",
       "    </tr>\n",
       "    <tr>\n",
       "      <th>123653</th>\n",
       "      <td>BMW</td>\n",
       "      <td>внедорожник 5 дв.</td>\n",
       "      <td>чёрный</td>\n",
       "      <td>дизель</td>\n",
       "      <td>2006.0</td>\n",
       "      <td>5.0</td>\n",
       "      <td>2008</td>\n",
       "      <td>ALLROAD_5_DOORS AUTOMATIC 3.0</td>\n",
       "      <td>3.0 LTR</td>\n",
       "      <td>235 N12</td>\n",
       "      <td>240000</td>\n",
       "      <td>полный</td>\n",
       "      <td>Левый</td>\n",
       "      <td>3 или более</td>\n",
       "      <td>Оригинал</td>\n",
       "      <td>NaN</td>\n",
       "      <td>0</td>\n",
       "    </tr>\n",
       "  </tbody>\n",
       "</table>\n",
       "<p>123654 rows × 17 columns</p>\n",
       "</div>"
      ],
      "text/plain": [
       "       brand               body       color    fuel  modelDate  doors  \\\n",
       "0       AUDI              Седан      040001  бензин     1990.0    4.0   \n",
       "1       AUDI              Седан      EE1D19  бензин     1982.0    4.0   \n",
       "2       AUDI    Универсал 5 дв.      0000CC  бензин     1988.0    5.0   \n",
       "3       AUDI              Седан      CACECB  бензин     1988.0    4.0   \n",
       "4       AUDI              Седан      040001  бензин     1990.0    4.0   \n",
       "...      ...                ...         ...     ...        ...    ...   \n",
       "123649   BMW              седан  коричневый  бензин     2011.0    4.0   \n",
       "123650   BMW              седан      чёрный  дизель     2016.0    4.0   \n",
       "123651   BMW              седан       серый  бензин     1995.0    4.0   \n",
       "123652   BMW  внедорожник 5 дв.  коричневый  дизель     2012.0    5.0   \n",
       "123653   BMW  внедорожник 5 дв.      чёрный  дизель     2006.0    5.0   \n",
       "\n",
       "        prod_date                         config   engine    power  mileage  \\\n",
       "0            1991           SEDAN MECHANICAL 2.8      2.8      174   350000   \n",
       "1            1986           SEDAN MECHANICAL 1.8      1.8       90   173424   \n",
       "2            1989   WAGON_5_DOORS MECHANICAL 2.3      2.3      136   230000   \n",
       "3            1989           SEDAN MECHANICAL 1.8      1.8       90   240000   \n",
       "4            1991           SEDAN MECHANICAL 2.0      2.0      101   300000   \n",
       "...           ...                            ...      ...      ...      ...   \n",
       "123649       2014            SEDAN AUTOMATIC 1.6  1.6 LTR  136 N12   115000   \n",
       "123650       2018            SEDAN AUTOMATIC 2.0  2.0 LTR  190 N12    98000   \n",
       "123651       1997            SEDAN AUTOMATIC 2.5  2.5 LTR  170 N12   360000   \n",
       "123652       2013  ALLROAD_5_DOORS AUTOMATIC 2.0  2.0 LTR  184 N12    90500   \n",
       "123653       2008  ALLROAD_5_DOORS AUTOMATIC 3.0  3.0 LTR  235 N12   240000   \n",
       "\n",
       "           drive  wheel        owner tech_passport     price  train  \n",
       "0         полный   LEFT            3      ORIGINAL  200000.0      1  \n",
       "1       передний   LEFT            3      ORIGINAL   60000.0      1  \n",
       "2         полный   LEFT            3      ORIGINAL   99000.0      1  \n",
       "3       передний   LEFT            3      ORIGINAL   65000.0      1  \n",
       "4       передний   LEFT            3     DUPLICATE  100000.0      1  \n",
       "...          ...    ...          ...           ...       ...    ...  \n",
       "123649    задний  Левый  3 или более      Оригинал       NaN      0  \n",
       "123650    полный  Левый   1 владелец      Оригинал       NaN      0  \n",
       "123651    задний  Левый  3 или более      Дубликат       NaN      0  \n",
       "123652    полный  Левый  2 владельца      Оригинал       NaN      0  \n",
       "123653    полный  Левый  3 или более      Оригинал       NaN      0  \n",
       "\n",
       "[123654 rows x 17 columns]"
      ]
     },
     "execution_count": 11,
     "metadata": {},
     "output_type": "execute_result"
    }
   ],
   "source": [
    "df"
   ]
  },
  {
   "cell_type": "markdown",
   "metadata": {},
   "source": [
    "# Owner"
   ]
  },
  {
   "cell_type": "code",
   "execution_count": 12,
   "metadata": {},
   "outputs": [],
   "source": [
    "owner = []\n",
    "for i in df.owner:\n",
    "    res = str(i).strip()\n",
    "    res = res.replace('3 или более', '3.0').replace('2\\xa0владельца', '2.0').replace('1\\xa0владелец', '1.0')\n",
    "    if res == '3.0':\n",
    "        owner.append(int(3))\n",
    "    elif res == '2.0':\n",
    "        owner.append(int(2))    \n",
    "    elif res == '1.0':\n",
    "        owner.append(int(1))\n",
    "    else:\n",
    "        owner.append(None)\n",
    "        \n",
    "df['owner'] = owner"
   ]
  },
  {
   "cell_type": "code",
   "execution_count": 13,
   "metadata": {},
   "outputs": [
    {
     "name": "stderr",
     "output_type": "stream",
     "text": [
      "C:\\Users\\User\\anaconda3\\lib\\site-packages\\pandas\\core\\generic.py:6746: SettingWithCopyWarning: \n",
      "A value is trying to be set on a copy of a slice from a DataFrame\n",
      "\n",
      "See the caveats in the documentation: https://pandas.pydata.org/pandas-docs/stable/user_guide/indexing.html#returning-a-view-versus-a-copy\n",
      "  self._update_inplace(new_data)\n"
     ]
    }
   ],
   "source": [
    "# Для заполнения пропусков в признаке OWNER воспользуемся встроенным модулем scikitlearn KNNImputer.\n",
    "train_knn = df[['owner']]\n",
    "imputer = KNNImputer(n_neighbors = 5)\n",
    "\n",
    "# создаем словарь из списка типов образования (0 -самое популярной, школьное и т.д.)\n",
    "edu = df.owner.value_counts().index.to_list() \n",
    "edu_dict = {}\n",
    "for counter, edu_word in enumerate(edu):\n",
    "    edu_dict[edu_word] = counter\n",
    "\n",
    "train_knn['owner'].replace(edu_dict, inplace=True)\n",
    "df_fill = imputer.fit_transform(train_knn)\n",
    "df.loc[:, 'owner'] = np.round(df_fill.T[0],0).astype(int)"
   ]
  },
  {
   "cell_type": "code",
   "execution_count": 14,
   "metadata": {},
   "outputs": [
    {
     "data": {
      "text/html": [
       "<div>\n",
       "<style scoped>\n",
       "    .dataframe tbody tr th:only-of-type {\n",
       "        vertical-align: middle;\n",
       "    }\n",
       "\n",
       "    .dataframe tbody tr th {\n",
       "        vertical-align: top;\n",
       "    }\n",
       "\n",
       "    .dataframe thead th {\n",
       "        text-align: right;\n",
       "    }\n",
       "</style>\n",
       "<table border=\"1\" class=\"dataframe\">\n",
       "  <thead>\n",
       "    <tr style=\"text-align: right;\">\n",
       "      <th></th>\n",
       "      <th>Всего NaN</th>\n",
       "      <th>% NaN</th>\n",
       "    </tr>\n",
       "  </thead>\n",
       "  <tbody>\n",
       "    <tr>\n",
       "      <th>price</th>\n",
       "      <td>34686</td>\n",
       "      <td>28.05</td>\n",
       "    </tr>\n",
       "    <tr>\n",
       "      <th>tech_passport</th>\n",
       "      <td>362</td>\n",
       "      <td>0.29</td>\n",
       "    </tr>\n",
       "    <tr>\n",
       "      <th>power</th>\n",
       "      <td>1</td>\n",
       "      <td>0.00</td>\n",
       "    </tr>\n",
       "    <tr>\n",
       "      <th>drive</th>\n",
       "      <td>1</td>\n",
       "      <td>0.00</td>\n",
       "    </tr>\n",
       "    <tr>\n",
       "      <th>engine</th>\n",
       "      <td>1</td>\n",
       "      <td>0.00</td>\n",
       "    </tr>\n",
       "  </tbody>\n",
       "</table>\n",
       "</div>"
      ],
      "text/plain": [
       "               Всего NaN  % NaN\n",
       "price              34686  28.05\n",
       "tech_passport        362   0.29\n",
       "power                  1   0.00\n",
       "drive                  1   0.00\n",
       "engine                 1   0.00"
      ]
     },
     "execution_count": 14,
     "metadata": {},
     "output_type": "execute_result"
    }
   ],
   "source": [
    "nan_in_table(df).head()"
   ]
  },
  {
   "cell_type": "code",
   "execution_count": 15,
   "metadata": {},
   "outputs": [
    {
     "data": {
      "text/html": [
       "<div>\n",
       "<style scoped>\n",
       "    .dataframe tbody tr th:only-of-type {\n",
       "        vertical-align: middle;\n",
       "    }\n",
       "\n",
       "    .dataframe tbody tr th {\n",
       "        vertical-align: top;\n",
       "    }\n",
       "\n",
       "    .dataframe thead th {\n",
       "        text-align: right;\n",
       "    }\n",
       "</style>\n",
       "<table border=\"1\" class=\"dataframe\">\n",
       "  <thead>\n",
       "    <tr style=\"text-align: right;\">\n",
       "      <th></th>\n",
       "      <th>brand</th>\n",
       "      <th>body</th>\n",
       "      <th>color</th>\n",
       "      <th>fuel</th>\n",
       "      <th>modelDate</th>\n",
       "      <th>doors</th>\n",
       "      <th>prod_date</th>\n",
       "      <th>config</th>\n",
       "      <th>engine</th>\n",
       "      <th>power</th>\n",
       "      <th>mileage</th>\n",
       "      <th>drive</th>\n",
       "      <th>wheel</th>\n",
       "      <th>owner</th>\n",
       "      <th>tech_passport</th>\n",
       "      <th>price</th>\n",
       "      <th>train</th>\n",
       "    </tr>\n",
       "  </thead>\n",
       "  <tbody>\n",
       "    <tr>\n",
       "      <th>0</th>\n",
       "      <td>AUDI</td>\n",
       "      <td>Седан</td>\n",
       "      <td>040001</td>\n",
       "      <td>бензин</td>\n",
       "      <td>1990.0</td>\n",
       "      <td>4.0</td>\n",
       "      <td>1991</td>\n",
       "      <td>SEDAN MECHANICAL 2.8</td>\n",
       "      <td>2.8</td>\n",
       "      <td>174</td>\n",
       "      <td>350000</td>\n",
       "      <td>полный</td>\n",
       "      <td>LEFT</td>\n",
       "      <td>0</td>\n",
       "      <td>ORIGINAL</td>\n",
       "      <td>200000.0</td>\n",
       "      <td>1</td>\n",
       "    </tr>\n",
       "    <tr>\n",
       "      <th>1</th>\n",
       "      <td>AUDI</td>\n",
       "      <td>Седан</td>\n",
       "      <td>EE1D19</td>\n",
       "      <td>бензин</td>\n",
       "      <td>1982.0</td>\n",
       "      <td>4.0</td>\n",
       "      <td>1986</td>\n",
       "      <td>SEDAN MECHANICAL 1.8</td>\n",
       "      <td>1.8</td>\n",
       "      <td>90</td>\n",
       "      <td>173424</td>\n",
       "      <td>передний</td>\n",
       "      <td>LEFT</td>\n",
       "      <td>0</td>\n",
       "      <td>ORIGINAL</td>\n",
       "      <td>60000.0</td>\n",
       "      <td>1</td>\n",
       "    </tr>\n",
       "    <tr>\n",
       "      <th>2</th>\n",
       "      <td>AUDI</td>\n",
       "      <td>Универсал 5 дв.</td>\n",
       "      <td>0000CC</td>\n",
       "      <td>бензин</td>\n",
       "      <td>1988.0</td>\n",
       "      <td>5.0</td>\n",
       "      <td>1989</td>\n",
       "      <td>WAGON_5_DOORS MECHANICAL 2.3</td>\n",
       "      <td>2.3</td>\n",
       "      <td>136</td>\n",
       "      <td>230000</td>\n",
       "      <td>полный</td>\n",
       "      <td>LEFT</td>\n",
       "      <td>0</td>\n",
       "      <td>ORIGINAL</td>\n",
       "      <td>99000.0</td>\n",
       "      <td>1</td>\n",
       "    </tr>\n",
       "    <tr>\n",
       "      <th>3</th>\n",
       "      <td>AUDI</td>\n",
       "      <td>Седан</td>\n",
       "      <td>CACECB</td>\n",
       "      <td>бензин</td>\n",
       "      <td>1988.0</td>\n",
       "      <td>4.0</td>\n",
       "      <td>1989</td>\n",
       "      <td>SEDAN MECHANICAL 1.8</td>\n",
       "      <td>1.8</td>\n",
       "      <td>90</td>\n",
       "      <td>240000</td>\n",
       "      <td>передний</td>\n",
       "      <td>LEFT</td>\n",
       "      <td>0</td>\n",
       "      <td>ORIGINAL</td>\n",
       "      <td>65000.0</td>\n",
       "      <td>1</td>\n",
       "    </tr>\n",
       "    <tr>\n",
       "      <th>4</th>\n",
       "      <td>AUDI</td>\n",
       "      <td>Седан</td>\n",
       "      <td>040001</td>\n",
       "      <td>бензин</td>\n",
       "      <td>1990.0</td>\n",
       "      <td>4.0</td>\n",
       "      <td>1991</td>\n",
       "      <td>SEDAN MECHANICAL 2.0</td>\n",
       "      <td>2.0</td>\n",
       "      <td>101</td>\n",
       "      <td>300000</td>\n",
       "      <td>передний</td>\n",
       "      <td>LEFT</td>\n",
       "      <td>0</td>\n",
       "      <td>DUPLICATE</td>\n",
       "      <td>100000.0</td>\n",
       "      <td>1</td>\n",
       "    </tr>\n",
       "    <tr>\n",
       "      <th>...</th>\n",
       "      <td>...</td>\n",
       "      <td>...</td>\n",
       "      <td>...</td>\n",
       "      <td>...</td>\n",
       "      <td>...</td>\n",
       "      <td>...</td>\n",
       "      <td>...</td>\n",
       "      <td>...</td>\n",
       "      <td>...</td>\n",
       "      <td>...</td>\n",
       "      <td>...</td>\n",
       "      <td>...</td>\n",
       "      <td>...</td>\n",
       "      <td>...</td>\n",
       "      <td>...</td>\n",
       "      <td>...</td>\n",
       "      <td>...</td>\n",
       "    </tr>\n",
       "    <tr>\n",
       "      <th>123649</th>\n",
       "      <td>BMW</td>\n",
       "      <td>седан</td>\n",
       "      <td>коричневый</td>\n",
       "      <td>бензин</td>\n",
       "      <td>2011.0</td>\n",
       "      <td>4.0</td>\n",
       "      <td>2014</td>\n",
       "      <td>SEDAN AUTOMATIC 1.6</td>\n",
       "      <td>1.6 LTR</td>\n",
       "      <td>136 N12</td>\n",
       "      <td>115000</td>\n",
       "      <td>задний</td>\n",
       "      <td>Левый</td>\n",
       "      <td>0</td>\n",
       "      <td>Оригинал</td>\n",
       "      <td>NaN</td>\n",
       "      <td>0</td>\n",
       "    </tr>\n",
       "    <tr>\n",
       "      <th>123650</th>\n",
       "      <td>BMW</td>\n",
       "      <td>седан</td>\n",
       "      <td>чёрный</td>\n",
       "      <td>дизель</td>\n",
       "      <td>2016.0</td>\n",
       "      <td>4.0</td>\n",
       "      <td>2018</td>\n",
       "      <td>SEDAN AUTOMATIC 2.0</td>\n",
       "      <td>2.0 LTR</td>\n",
       "      <td>190 N12</td>\n",
       "      <td>98000</td>\n",
       "      <td>полный</td>\n",
       "      <td>Левый</td>\n",
       "      <td>2</td>\n",
       "      <td>Оригинал</td>\n",
       "      <td>NaN</td>\n",
       "      <td>0</td>\n",
       "    </tr>\n",
       "    <tr>\n",
       "      <th>123651</th>\n",
       "      <td>BMW</td>\n",
       "      <td>седан</td>\n",
       "      <td>серый</td>\n",
       "      <td>бензин</td>\n",
       "      <td>1995.0</td>\n",
       "      <td>4.0</td>\n",
       "      <td>1997</td>\n",
       "      <td>SEDAN AUTOMATIC 2.5</td>\n",
       "      <td>2.5 LTR</td>\n",
       "      <td>170 N12</td>\n",
       "      <td>360000</td>\n",
       "      <td>задний</td>\n",
       "      <td>Левый</td>\n",
       "      <td>0</td>\n",
       "      <td>Дубликат</td>\n",
       "      <td>NaN</td>\n",
       "      <td>0</td>\n",
       "    </tr>\n",
       "    <tr>\n",
       "      <th>123652</th>\n",
       "      <td>BMW</td>\n",
       "      <td>внедорожник 5 дв.</td>\n",
       "      <td>коричневый</td>\n",
       "      <td>дизель</td>\n",
       "      <td>2012.0</td>\n",
       "      <td>5.0</td>\n",
       "      <td>2013</td>\n",
       "      <td>ALLROAD_5_DOORS AUTOMATIC 2.0</td>\n",
       "      <td>2.0 LTR</td>\n",
       "      <td>184 N12</td>\n",
       "      <td>90500</td>\n",
       "      <td>полный</td>\n",
       "      <td>Левый</td>\n",
       "      <td>1</td>\n",
       "      <td>Оригинал</td>\n",
       "      <td>NaN</td>\n",
       "      <td>0</td>\n",
       "    </tr>\n",
       "    <tr>\n",
       "      <th>123653</th>\n",
       "      <td>BMW</td>\n",
       "      <td>внедорожник 5 дв.</td>\n",
       "      <td>чёрный</td>\n",
       "      <td>дизель</td>\n",
       "      <td>2006.0</td>\n",
       "      <td>5.0</td>\n",
       "      <td>2008</td>\n",
       "      <td>ALLROAD_5_DOORS AUTOMATIC 3.0</td>\n",
       "      <td>3.0 LTR</td>\n",
       "      <td>235 N12</td>\n",
       "      <td>240000</td>\n",
       "      <td>полный</td>\n",
       "      <td>Левый</td>\n",
       "      <td>0</td>\n",
       "      <td>Оригинал</td>\n",
       "      <td>NaN</td>\n",
       "      <td>0</td>\n",
       "    </tr>\n",
       "  </tbody>\n",
       "</table>\n",
       "<p>123654 rows × 17 columns</p>\n",
       "</div>"
      ],
      "text/plain": [
       "       brand               body       color    fuel  modelDate  doors  \\\n",
       "0       AUDI              Седан      040001  бензин     1990.0    4.0   \n",
       "1       AUDI              Седан      EE1D19  бензин     1982.0    4.0   \n",
       "2       AUDI    Универсал 5 дв.      0000CC  бензин     1988.0    5.0   \n",
       "3       AUDI              Седан      CACECB  бензин     1988.0    4.0   \n",
       "4       AUDI              Седан      040001  бензин     1990.0    4.0   \n",
       "...      ...                ...         ...     ...        ...    ...   \n",
       "123649   BMW              седан  коричневый  бензин     2011.0    4.0   \n",
       "123650   BMW              седан      чёрный  дизель     2016.0    4.0   \n",
       "123651   BMW              седан       серый  бензин     1995.0    4.0   \n",
       "123652   BMW  внедорожник 5 дв.  коричневый  дизель     2012.0    5.0   \n",
       "123653   BMW  внедорожник 5 дв.      чёрный  дизель     2006.0    5.0   \n",
       "\n",
       "        prod_date                         config   engine    power  mileage  \\\n",
       "0            1991           SEDAN MECHANICAL 2.8      2.8      174   350000   \n",
       "1            1986           SEDAN MECHANICAL 1.8      1.8       90   173424   \n",
       "2            1989   WAGON_5_DOORS MECHANICAL 2.3      2.3      136   230000   \n",
       "3            1989           SEDAN MECHANICAL 1.8      1.8       90   240000   \n",
       "4            1991           SEDAN MECHANICAL 2.0      2.0      101   300000   \n",
       "...           ...                            ...      ...      ...      ...   \n",
       "123649       2014            SEDAN AUTOMATIC 1.6  1.6 LTR  136 N12   115000   \n",
       "123650       2018            SEDAN AUTOMATIC 2.0  2.0 LTR  190 N12    98000   \n",
       "123651       1997            SEDAN AUTOMATIC 2.5  2.5 LTR  170 N12   360000   \n",
       "123652       2013  ALLROAD_5_DOORS AUTOMATIC 2.0  2.0 LTR  184 N12    90500   \n",
       "123653       2008  ALLROAD_5_DOORS AUTOMATIC 3.0  3.0 LTR  235 N12   240000   \n",
       "\n",
       "           drive  wheel  owner tech_passport     price  train  \n",
       "0         полный   LEFT      0      ORIGINAL  200000.0      1  \n",
       "1       передний   LEFT      0      ORIGINAL   60000.0      1  \n",
       "2         полный   LEFT      0      ORIGINAL   99000.0      1  \n",
       "3       передний   LEFT      0      ORIGINAL   65000.0      1  \n",
       "4       передний   LEFT      0     DUPLICATE  100000.0      1  \n",
       "...          ...    ...    ...           ...       ...    ...  \n",
       "123649    задний  Левый      0      Оригинал       NaN      0  \n",
       "123650    полный  Левый      2      Оригинал       NaN      0  \n",
       "123651    задний  Левый      0      Дубликат       NaN      0  \n",
       "123652    полный  Левый      1      Оригинал       NaN      0  \n",
       "123653    полный  Левый      0      Оригинал       NaN      0  \n",
       "\n",
       "[123654 rows x 17 columns]"
      ]
     },
     "execution_count": 15,
     "metadata": {},
     "output_type": "execute_result"
    }
   ],
   "source": [
    "df"
   ]
  },
  {
   "cell_type": "markdown",
   "metadata": {},
   "source": [
    "# Brand"
   ]
  },
  {
   "cell_type": "markdown",
   "metadata": {},
   "source": [
    "# Body"
   ]
  },
  {
   "cell_type": "code",
   "execution_count": 16,
   "metadata": {},
   "outputs": [],
   "source": [
    "body = []\n",
    "for i in df.body:\n",
    "    try:\n",
    "        start = i.find(' ')\n",
    "        if start == -1:\n",
    "            body.append(str(i).lower())\n",
    "        else:\n",
    "            body.append(str(i[:start]).lower())\n",
    "    except:\n",
    "        body.append(None)\n",
    "        \n",
    "df['body'] = body\n",
    "df = df[pd.isna(df.body) != True]"
   ]
  },
  {
   "cell_type": "code",
   "execution_count": 17,
   "metadata": {},
   "outputs": [
    {
     "name": "stderr",
     "output_type": "stream",
     "text": [
      "No handles with labels found to put in legend.\n"
     ]
    },
    {
     "name": "stdout",
     "output_type": "stream",
     "text": [
      "седан : 36.37%\n",
      "внедорожник : 36.18%\n",
      "хэтчбек : 10.84%\n",
      "лифтбек : 4.56%\n",
      "универсал : 3.82%\n",
      "минивэн : 2.76%\n",
      "компактвэн : 2.08%\n",
      "купе : 1.71%\n",
      "пикап : 0.73%\n",
      "купе-хардтоп : 0.29%\n",
      "кабриолет : 0.21%\n",
      "родстер : 0.2%\n",
      "фургон : 0.19%\n",
      "микровэн : 0.03%\n",
      "седан-хардтоп : 0.02%\n",
      "лимузин : 0.01%\n",
      "тарга : 0.01%\n",
      "фастбек : 0.0%\n"
     ]
    },
    {
     "data": {
      "image/png": "[encoded data removed]",
      "text/plain": [
       "<Figure size 1080x720 with 1 Axes>"
      ]
     },
     "metadata": {
      "needs_background": "light"
     },
     "output_type": "display_data"
    }
   ],
   "source": [
    "bar_count('body')"
   ]
  },
  {
   "cell_type": "code",
   "execution_count": 18,
   "metadata": {},
   "outputs": [
    {
     "data": {
      "text/plain": [
       "<matplotlib.axes._subplots.AxesSubplot at 0x1e0cc3772c8>"
      ]
     },
     "execution_count": 18,
     "metadata": {},
     "output_type": "execute_result"
    },
    {
     "data": {
      "image/png": "[encoded data removed]",
      "text/plain": [
       "<Figure size 432x288 with 1 Axes>"
      ]
     },
     "metadata": {},
     "output_type": "display_data"
    }
   ],
   "source": [
    "df.body.value_counts().plot.barh()"
   ]
  },
  {
   "cell_type": "markdown",
   "metadata": {},
   "source": [
    "# Color"
   ]
  },
  {
   "cell_type": "code",
   "execution_count": 19,
   "metadata": {},
   "outputs": [
    {
     "name": "stderr",
     "output_type": "stream",
     "text": [
      "C:\\Users\\User\\anaconda3\\lib\\site-packages\\pandas\\core\\generic.py:5303: SettingWithCopyWarning: \n",
      "A value is trying to be set on a copy of a slice from a DataFrame.\n",
      "Try using .loc[row_indexer,col_indexer] = value instead\n",
      "\n",
      "See the caveats in the documentation: https://pandas.pydata.org/pandas-docs/stable/user_guide/indexing.html#returning-a-view-versus-a-copy\n",
      "  self[name] = value\n"
     ]
    }
   ],
   "source": [
    "color_dict = {'CACECB': 'серебристый', \n",
    "              'FAFBFB':'белый', \n",
    "              'EE1D19':'красный', \n",
    "              '97948F':'серый',\n",
    "              '660099':'пурпурный',\n",
    "              '040001':'чёрный',\n",
    "              '4A2197':'фиолетовый',\n",
    "              '200204':'коричневый',\n",
    "              '0000CC':'синий',\n",
    "              '007F00':'зелёный',\n",
    "              'C49648':'бежевый',\n",
    "              '22A0F8':'голубой',\n",
    "              'DEA522':'золотистый',\n",
    "              'FFD600': 'жёлтый',\n",
    "              'FF8649':'оранжевый',\n",
    "              'FFC0CB':'розовый',\n",
    "              'серебристый': 'серебристый', \n",
    "              'белый':'белый', \n",
    "              'красный':'красный', \n",
    "              'серый':'серый',\n",
    "              'пурпурный':'пурпурный',\n",
    "              'чёрный':'чёрный',\n",
    "              'фиолетовый':'фиолетовый',\n",
    "              'коричневый':'коричневый',\n",
    "              'синий':'синий',\n",
    "              'зелёный':'зелёный',\n",
    "              'бежевый':'бежевый',\n",
    "              'голубой':'голубой',\n",
    "              'золотистый':'золотистый',\n",
    "              'жёлтый': 'жёлтый',\n",
    "              'оранжевый':'оранжевый',\n",
    "              'розовый':'розовый'\n",
    "             }\n",
    "df.color = df.color.map(color_dict)"
   ]
  },
  {
   "cell_type": "code",
   "execution_count": 20,
   "metadata": {},
   "outputs": [
    {
     "name": "stderr",
     "output_type": "stream",
     "text": [
      "No handles with labels found to put in legend.\n"
     ]
    },
    {
     "name": "stdout",
     "output_type": "stream",
     "text": [
      "чёрный : 29.2%\n",
      "белый : 17.71%\n",
      "серебристый : 12.45%\n",
      "серый : 11.93%\n",
      "синий : 9.8%\n",
      "красный : 4.87%\n",
      "коричневый : 4.09%\n",
      "зелёный : 2.87%\n",
      "бежевый : 2.01%\n",
      "голубой : 1.5%\n",
      "золотистый : 0.84%\n",
      "пурпурный : 0.81%\n",
      "жёлтый : 0.72%\n",
      "фиолетовый : 0.66%\n",
      "оранжевый : 0.52%\n",
      "розовый : 0.03%\n"
     ]
    },
    {
     "data": {
      "image/png": "[encoded data removed]",
      "text/plain": [
       "<Figure size 1080x720 with 1 Axes>"
      ]
     },
     "metadata": {},
     "output_type": "display_data"
    }
   ],
   "source": [
    "bar_count('color')"
   ]
  },
  {
   "cell_type": "code",
   "execution_count": 21,
   "metadata": {},
   "outputs": [
    {
     "data": {
      "text/plain": [
       "<matplotlib.axes._subplots.AxesSubplot at 0x1e0d92d2d48>"
      ]
     },
     "execution_count": 21,
     "metadata": {},
     "output_type": "execute_result"
    },
    {
     "data": {
      "image/png": "[encoded data removed]",
      "text/plain": [
       "<Figure size 432x288 with 1 Axes>"
      ]
     },
     "metadata": {},
     "output_type": "display_data"
    }
   ],
   "source": [
    "df.color.value_counts().plot.barh()"
   ]
  },
  {
   "cell_type": "markdown",
   "metadata": {},
   "source": [
    "# Fuel"
   ]
  },
  {
   "cell_type": "code",
   "execution_count": 22,
   "metadata": {},
   "outputs": [
    {
     "name": "stderr",
     "output_type": "stream",
     "text": [
      "No handles with labels found to put in legend.\n"
     ]
    },
    {
     "name": "stdout",
     "output_type": "stream",
     "text": [
      "бензин : 83.55%\n",
      "дизель : 15.88%\n",
      "гибрид : 0.42%\n",
      "электро : 0.13%\n",
      "газ : 0.01%\n"
     ]
    },
    {
     "data": {
      "image/png": "[encoded data removed]",
      "text/plain": [
       "<Figure size 1080x720 with 1 Axes>"
      ]
     },
     "metadata": {},
     "output_type": "display_data"
    }
   ],
   "source": [
    "bar_count('fuel')"
   ]
  },
  {
   "cell_type": "markdown",
   "metadata": {},
   "source": [
    "# model_date"
   ]
  },
  {
   "cell_type": "code",
   "execution_count": 23,
   "metadata": {},
   "outputs": [
    {
     "name": "stderr",
     "output_type": "stream",
     "text": [
      "No handles with labels found to put in legend.\n"
     ]
    },
    {
     "name": "stdout",
     "output_type": "stream",
     "text": [
      "3 : 45.59%\n",
      "2 : 23.92%\n",
      "4 : 14.21%\n",
      "1 : 8.84%\n",
      "0 : 7.45%\n"
     ]
    },
    {
     "data": {
      "image/png": "[encoded data removed]",
      "text/plain": [
       "<Figure size 1080x720 with 1 Axes>"
      ]
     },
     "metadata": {},
     "output_type": "display_data"
    }
   ],
   "source": [
    "date = []\n",
    "for i in df.modelDate:\n",
    "    date.append(str(i).replace('.0',''))\n",
    "    \n",
    "df.modelDate = date\n",
    "df.modelDate = pd.to_datetime(df.modelDate)\n",
    "\n",
    "class_ = []\n",
    "for i in df.modelDate:\n",
    "    year = int(((datetime.today() - i).days)/365)\n",
    "    if year <= 3:\n",
    "        class_.append(0)\n",
    "    elif year > 3 and year <= 5:\n",
    "        class_.append(1)\n",
    "    elif year > 5 and year <= 10:    \n",
    "        class_.append(2)\n",
    "    elif year > 10 and year <= 20:    \n",
    "        class_.append(3)\n",
    "    else:\n",
    "        class_.append(4)\n",
    "        \n",
    "df.modelDate = class_   \n",
    "bar_count('modelDate')"
   ]
  },
  {
   "cell_type": "markdown",
   "metadata": {},
   "source": [
    "# Engine"
   ]
  },
  {
   "cell_type": "code",
   "execution_count": 24,
   "metadata": {},
   "outputs": [
    {
     "name": "stderr",
     "output_type": "stream",
     "text": [
      "C:\\Users\\User\\anaconda3\\lib\\site-packages\\ipykernel_launcher.py:12: SettingWithCopyWarning: \n",
      "A value is trying to be set on a copy of a slice from a DataFrame.\n",
      "Try using .loc[row_indexer,col_indexer] = value instead\n",
      "\n",
      "See the caveats in the documentation: https://pandas.pydata.org/pandas-docs/stable/user_guide/indexing.html#returning-a-view-versus-a-copy\n",
      "  if sys.path[0] == '':\n",
      "C:\\Users\\User\\anaconda3\\lib\\site-packages\\ipykernel_launcher.py:28: SettingWithCopyWarning: \n",
      "A value is trying to be set on a copy of a slice from a DataFrame.\n",
      "Try using .loc[row_indexer,col_indexer] = value instead\n",
      "\n",
      "See the caveats in the documentation: https://pandas.pydata.org/pandas-docs/stable/user_guide/indexing.html#returning-a-view-versus-a-copy\n",
      "No handles with labels found to put in legend.\n"
     ]
    },
    {
     "name": "stdout",
     "output_type": "stream",
     "text": [
      "Малый : 51.73%\n",
      "Средний : 40.96%\n",
      "Большой : 4.36%\n",
      "Особо малый : 1.76%\n",
      "Высший : 1.19%\n"
     ]
    },
    {
     "data": {
      "image/png": "[encoded data removed]",
      "text/plain": [
       "<Figure size 1080x720 with 1 Axes>"
      ]
     },
     "metadata": {},
     "output_type": "display_data"
    }
   ],
   "source": [
    "engine = []\n",
    "for i in df['engine']:\n",
    "    flag = str(i).find('.')\n",
    "    if flag > 0:\n",
    "        engine.append(i[flag-1:flag+2])\n",
    "    else:\n",
    "        engine.append(None)\n",
    "        \n",
    "df.engine = engine\n",
    "# Заполним пропуски\n",
    "df.engine = df.engine.fillna(1.6)\n",
    "df[\"engine\"] = df[\"engine\"].astype(float)\n",
    "\n",
    "# Заменим данные на категориальные\n",
    "clas = []\n",
    "for x in df[\"engine\"]:\n",
    "    if x <= 1.2: \n",
    "        clas.append('Особо малый')\n",
    "    elif 1.3 <= x <= 1.8: \n",
    "        clas.append('Малый')\n",
    "    elif 1.9 <= x <= 3.5: \n",
    "        clas.append('Средний')\n",
    "    elif 3.6 <= x <= 5.0: \n",
    "        clas.append('Большой')\n",
    "    elif x >= 5.1: \n",
    "        clas.append('Высший')\n",
    "        \n",
    "df[\"engine\"] = clas\n",
    "bar_count('engine')"
   ]
  },
  {
   "cell_type": "markdown",
   "metadata": {},
   "source": [
    "# Power"
   ]
  },
  {
   "cell_type": "code",
   "execution_count": 25,
   "metadata": {},
   "outputs": [],
   "source": [
    "df.power = [int(str(i).replace(' N12','').replace('.0','')) for i in df.power] "
   ]
  },
  {
   "cell_type": "code",
   "execution_count": 26,
   "metadata": {},
   "outputs": [],
   "source": [
    "def engine_power(x):\n",
    "    if x < 100: x = 1\n",
    "    elif 99 < x < 150: x = 2\n",
    "    elif 149 < x < 200: x = 3\n",
    "    elif 199 < x < 250: x = 4\n",
    "    elif 249 < x < 300: x = 5\n",
    "    elif 299 < x < 350: x = 6\n",
    "    elif 349 < x < 400: x = 7\n",
    "    elif 399 < x < 450: x = 8\n",
    "    elif 449 < x < 500: x = 9\n",
    "    elif 499 < x < 550: x = 10\n",
    "    elif 549 < x < 600: x = 11\n",
    "    elif 599 < x: x = 12\n",
    "    return x  \n",
    "df.power = df.power.map(engine_power)"
   ]
  },
  {
   "cell_type": "code",
   "execution_count": 27,
   "metadata": {},
   "outputs": [
    {
     "name": "stderr",
     "output_type": "stream",
     "text": [
      "No handles with labels found to put in legend.\n"
     ]
    },
    {
     "name": "stdout",
     "output_type": "stream",
     "text": [
      "2 : 35.6%\n",
      "3 : 27.04%\n",
      "4 : 14.49%\n",
      "1 : 9.96%\n",
      "5 : 4.39%\n",
      "6 : 3.83%\n",
      "7 : 1.76%\n",
      "8 : 1.23%\n",
      "11 : 0.56%\n",
      "10 : 0.48%\n",
      "9 : 0.46%\n",
      "12 : 0.19%\n"
     ]
    },
    {
     "data": {
      "image/png": "[encoded data removed]",
      "text/plain": [
       "<Figure size 1080x720 with 1 Axes>"
      ]
     },
     "metadata": {},
     "output_type": "display_data"
    }
   ],
   "source": [
    "bar_count('power')"
   ]
  },
  {
   "cell_type": "markdown",
   "metadata": {},
   "source": [
    "# mileage"
   ]
  },
  {
   "cell_type": "code",
   "execution_count": 28,
   "metadata": {},
   "outputs": [
    {
     "name": "stderr",
     "output_type": "stream",
     "text": [
      "No handles with labels found to put in legend.\n"
     ]
    },
    {
     "name": "stdout",
     "output_type": "stream",
     "text": [
      "2 : 35.6%\n",
      "3 : 27.04%\n",
      "4 : 14.49%\n",
      "1 : 9.96%\n",
      "5 : 4.39%\n",
      "6 : 3.83%\n",
      "7 : 1.76%\n",
      "8 : 1.23%\n",
      "11 : 0.56%\n",
      "10 : 0.48%\n",
      "9 : 0.46%\n",
      "12 : 0.19%\n"
     ]
    },
    {
     "data": {
      "image/png": "[encoded data removed]",
      "text/plain": [
       "<Figure size 1080x720 with 1 Axes>"
      ]
     },
     "metadata": {},
     "output_type": "display_data"
    }
   ],
   "source": [
    "def mile_age(x):\n",
    "    if x < 20000: x = 1\n",
    "    elif 19999 < x < 40000: x = 2\n",
    "    elif 39999 < x < 60000: x = 3\n",
    "    elif 59999 < x < 80000: x = 4\n",
    "    elif 79999 < x < 100000: x = 5\n",
    "    elif 99999 < x < 200000: x = 6\n",
    "    elif 199999 < x < 500000: x = 7\n",
    "    elif 499999 < x: x = 8\n",
    "    return x  \n",
    "df.mileage = df.mileage.map(mile_age)\n",
    "bar_count('power')"
   ]
  },
  {
   "cell_type": "markdown",
   "metadata": {},
   "source": [
    "# Wheel"
   ]
  },
  {
   "cell_type": "code",
   "execution_count": 29,
   "metadata": {},
   "outputs": [
    {
     "data": {
      "text/plain": [
       "LEFT      87185\n",
       "Левый     33287\n",
       "RIGHT      1782\n",
       "Правый     1399\n",
       "Name: wheel, dtype: int64"
      ]
     },
     "execution_count": 29,
     "metadata": {},
     "output_type": "execute_result"
    }
   ],
   "source": [
    "df.wheel.value_counts()"
   ]
  },
  {
   "cell_type": "code",
   "execution_count": 30,
   "metadata": {},
   "outputs": [
    {
     "name": "stderr",
     "output_type": "stream",
     "text": [
      "No handles with labels found to put in legend.\n"
     ]
    },
    {
     "name": "stdout",
     "output_type": "stream",
     "text": [
      "LEFT : 97.43%\n",
      "RIGHT : 2.57%\n"
     ]
    },
    {
     "data": {
      "image/png": "[encoded data removed]",
      "text/plain": [
       "<Figure size 1080x720 with 1 Axes>"
      ]
     },
     "metadata": {},
     "output_type": "display_data"
    }
   ],
   "source": [
    "wheel = {'LEFT': 'LEFT', \n",
    "              'Левый':'LEFT', \n",
    "              'RIGHT':'RIGHT', \n",
    "              'Правый':'RIGHT',\n",
    "\n",
    "             }\n",
    "df.wheel = df.wheel.map(wheel)\n",
    "df.wheel = df.wheel.fillna('LEFT')\n",
    "bar_count('wheel')"
   ]
  },
  {
   "cell_type": "markdown",
   "metadata": {},
   "source": [
    "# Tech_passport"
   ]
  },
  {
   "cell_type": "code",
   "execution_count": 31,
   "metadata": {},
   "outputs": [
    {
     "data": {
      "text/plain": [
       "ORIGINAL     78230\n",
       "Оригинал     30098\n",
       "DUPLICATE    10376\n",
       "Дубликат      4587\n",
       "Name: tech_passport, dtype: int64"
      ]
     },
     "execution_count": 31,
     "metadata": {},
     "output_type": "execute_result"
    }
   ],
   "source": [
    "df.tech_passport.value_counts()"
   ]
  },
  {
   "cell_type": "code",
   "execution_count": 32,
   "metadata": {},
   "outputs": [],
   "source": [
    "pts = {'ORIGINAL': 'ORIGINAL', \n",
    "              'Оригинал':'ORIGINAL', \n",
    "              'DUPLICATE':'DUPLICATE', \n",
    "              'Дубликат':'DUPLICATE',\n",
    "\n",
    "             }\n",
    "df.tech_passport = df.tech_passport.map(pts)\n",
    "df.tech_passport = df.tech_passport.fillna('ORIGINAL')"
   ]
  },
  {
   "cell_type": "code",
   "execution_count": 33,
   "metadata": {},
   "outputs": [
    {
     "name": "stderr",
     "output_type": "stream",
     "text": [
      "No handles with labels found to put in legend.\n"
     ]
    },
    {
     "name": "stdout",
     "output_type": "stream",
     "text": [
      "ORIGINAL : 87.9%\n",
      "DUPLICATE : 12.1%\n"
     ]
    },
    {
     "data": {
      "image/png": "[encoded data removed]",
      "text/plain": [
       "<Figure size 1080x720 with 1 Axes>"
      ]
     },
     "metadata": {},
     "output_type": "display_data"
    }
   ],
   "source": [
    "bar_count('tech_passport')"
   ]
  },
  {
   "cell_type": "markdown",
   "metadata": {},
   "source": [
    "# Doors"
   ]
  },
  {
   "cell_type": "code",
   "execution_count": 34,
   "metadata": {},
   "outputs": [
    {
     "name": "stderr",
     "output_type": "stream",
     "text": [
      "C:\\Users\\User\\anaconda3\\lib\\site-packages\\ipykernel_launcher.py:1: SettingWithCopyWarning: \n",
      "A value is trying to be set on a copy of a slice from a DataFrame.\n",
      "Try using .loc[row_indexer,col_indexer] = value instead\n",
      "\n",
      "See the caveats in the documentation: https://pandas.pydata.org/pandas-docs/stable/user_guide/indexing.html#returning-a-view-versus-a-copy\n",
      "  \"\"\"Entry point for launching an IPython kernel.\n",
      "No handles with labels found to put in legend.\n"
     ]
    },
    {
     "name": "stdout",
     "output_type": "stream",
     "text": [
      "5 : 56.67%\n",
      "4 : 38.52%\n",
      "2 : 2.5%\n",
      "3 : 2.31%\n",
      "0 : 0.0%\n"
     ]
    },
    {
     "data": {
      "image/png": "[encoded data removed]",
      "text/plain": [
       "<Figure size 1080x720 with 1 Axes>"
      ]
     },
     "metadata": {},
     "output_type": "display_data"
    }
   ],
   "source": [
    "df['doors'] = df['doors'].astype(int)\n",
    "bar_count('doors')"
   ]
  },
  {
   "cell_type": "markdown",
   "metadata": {},
   "source": [
    "# Prod_date"
   ]
  },
  {
   "cell_type": "code",
   "execution_count": 35,
   "metadata": {},
   "outputs": [
    {
     "name": "stderr",
     "output_type": "stream",
     "text": [
      "C:\\Users\\User\\anaconda3\\lib\\site-packages\\ipykernel_launcher.py:15: SettingWithCopyWarning: \n",
      "A value is trying to be set on a copy of a slice from a DataFrame.\n",
      "Try using .loc[row_indexer,col_indexer] = value instead\n",
      "\n",
      "See the caveats in the documentation: https://pandas.pydata.org/pandas-docs/stable/user_guide/indexing.html#returning-a-view-versus-a-copy\n",
      "  from ipykernel import kernelapp as app\n",
      "No handles with labels found to put in legend.\n"
     ]
    },
    {
     "name": "stdout",
     "output_type": "stream",
     "text": [
      "average : 31.66%\n",
      "young : 28.54%\n",
      "old : 23.25%\n",
      "retro : 16.55%\n"
     ]
    },
    {
     "data": {
      "image/png": "[encoded data removed]",
      "text/plain": [
       "<Figure size 1080x720 with 1 Axes>"
      ]
     },
     "metadata": {},
     "output_type": "display_data"
    }
   ],
   "source": [
    "start = 2020\n",
    "\n",
    "clas = []\n",
    "for i in df['prod_date']:\n",
    "    age = start - i\n",
    "    if age <= 5:\n",
    "        clas.append('young')\n",
    "    elif 6 <= age <= 10:\n",
    "        clas.append('average')\n",
    "    elif 11 <= age <= 15:\n",
    "        clas.append('old')\n",
    "    else:\n",
    "        clas.append('retro')\n",
    "        \n",
    "df['prod_date'] = clas\n",
    "bar_count('prod_date')"
   ]
  },
  {
   "cell_type": "markdown",
   "metadata": {},
   "source": [
    "# Config"
   ]
  },
  {
   "cell_type": "code",
   "execution_count": 36,
   "metadata": {},
   "outputs": [
    {
     "name": "stderr",
     "output_type": "stream",
     "text": [
      "C:\\Users\\User\\anaconda3\\lib\\site-packages\\ipykernel_launcher.py:14: SettingWithCopyWarning: \n",
      "A value is trying to be set on a copy of a slice from a DataFrame.\n",
      "Try using .loc[row_indexer,col_indexer] = value instead\n",
      "\n",
      "See the caveats in the documentation: https://pandas.pydata.org/pandas-docs/stable/user_guide/indexing.html#returning-a-view-versus-a-copy\n",
      "  \n",
      "No handles with labels found to put in legend.\n"
     ]
    },
    {
     "name": "stdout",
     "output_type": "stream",
     "text": [
      "AUTOMATIC : 55.44%\n",
      "MECHANICAL : 26.18%\n",
      "ROBOT : 9.48%\n",
      "VARIATOR : 8.9%\n"
     ]
    },
    {
     "data": {
      "image/png": "[encoded data removed]",
      "text/plain": [
       "<Figure size 1080x720 with 1 Axes>"
      ]
     },
     "metadata": {},
     "output_type": "display_data"
    }
   ],
   "source": [
    "config = []\n",
    "for i in df['config']:\n",
    "    if i.find('MECHANICAL') > 0:\n",
    "        config.append('MECHANICAL')\n",
    "    elif i.find('AUTOMATIC') > 0:\n",
    "        config.append('AUTOMATIC')\n",
    "    elif i.find('VARIATOR') > 0:\n",
    "        config.append('VARIATOR')\n",
    "    elif i.find('ROBOT') > 0:\n",
    "        config.append('ROBOT')\n",
    "    else:\n",
    "        print('undetify_type')\n",
    "        \n",
    "df['config'] = config\n",
    "bar_count('config')"
   ]
  },
  {
   "cell_type": "code",
   "execution_count": 37,
   "metadata": {},
   "outputs": [
    {
     "name": "stdout",
     "output_type": "stream",
     "text": [
      "<class 'pandas.core.frame.DataFrame'>\n",
      "Int64Index: 123653 entries, 0 to 123653\n",
      "Data columns (total 17 columns):\n",
      " #   Column         Non-Null Count   Dtype  \n",
      "---  ------         --------------   -----  \n",
      " 0   brand          123653 non-null  object \n",
      " 1   body           123653 non-null  object \n",
      " 2   color          123653 non-null  object \n",
      " 3   fuel           123653 non-null  object \n",
      " 4   modelDate      123653 non-null  int64  \n",
      " 5   doors          123653 non-null  int32  \n",
      " 6   prod_date      123653 non-null  object \n",
      " 7   config         123653 non-null  object \n",
      " 8   engine         123653 non-null  object \n",
      " 9   power          123653 non-null  int64  \n",
      " 10  mileage        123653 non-null  int64  \n",
      " 11  drive          123653 non-null  object \n",
      " 12  wheel          123653 non-null  object \n",
      " 13  owner          123653 non-null  int32  \n",
      " 14  tech_passport  123653 non-null  object \n",
      " 15  price          88967 non-null   float64\n",
      " 16  train          123653 non-null  int64  \n",
      "dtypes: float64(1), int32(2), int64(4), object(10)\n",
      "memory usage: 21.0+ MB\n"
     ]
    }
   ],
   "source": [
    "df.info()"
   ]
  },
  {
   "cell_type": "markdown",
   "metadata": {},
   "source": [
    "# Оценка корреляций"
   ]
  },
  {
   "cell_type": "code",
   "execution_count": 38,
   "metadata": {},
   "outputs": [
    {
     "data": {
      "image/png": "[encoded data removed]",
      "text/plain": [
       "<Figure size 1080x1080 with 2 Axes>"
      ]
     },
     "metadata": {},
     "output_type": "display_data"
    }
   ],
   "source": [
    "plt.rcParams['figure.figsize'] = (15,15)\n",
    "sns.heatmap(df.corr(), square=True,\n",
    "            annot=True, fmt=\".1f\", linewidths=0.1, cmap=\"RdBu\");\n",
    "plt.tight_layout()"
   ]
  },
  {
   "cell_type": "code",
   "execution_count": 39,
   "metadata": {},
   "outputs": [
    {
     "name": "stderr",
     "output_type": "stream",
     "text": [
      "C:\\Users\\User\\anaconda3\\lib\\site-packages\\pandas\\core\\frame.py:3997: SettingWithCopyWarning: \n",
      "A value is trying to be set on a copy of a slice from a DataFrame\n",
      "\n",
      "See the caveats in the documentation: https://pandas.pydata.org/pandas-docs/stable/user_guide/indexing.html#returning-a-view-versus-a-copy\n",
      "  errors=errors,\n"
     ]
    },
    {
     "data": {
      "text/html": [
       "<div>\n",
       "<style scoped>\n",
       "    .dataframe tbody tr th:only-of-type {\n",
       "        vertical-align: middle;\n",
       "    }\n",
       "\n",
       "    .dataframe tbody tr th {\n",
       "        vertical-align: top;\n",
       "    }\n",
       "\n",
       "    .dataframe thead th {\n",
       "        text-align: right;\n",
       "    }\n",
       "</style>\n",
       "<table border=\"1\" class=\"dataframe\">\n",
       "  <thead>\n",
       "    <tr style=\"text-align: right;\">\n",
       "      <th></th>\n",
       "      <th>brand</th>\n",
       "      <th>body</th>\n",
       "      <th>color</th>\n",
       "      <th>fuel</th>\n",
       "      <th>modelDate</th>\n",
       "      <th>doors</th>\n",
       "      <th>prod_date</th>\n",
       "      <th>config</th>\n",
       "      <th>engine</th>\n",
       "      <th>power</th>\n",
       "      <th>drive</th>\n",
       "      <th>wheel</th>\n",
       "      <th>owner</th>\n",
       "      <th>tech_passport</th>\n",
       "      <th>price</th>\n",
       "      <th>train</th>\n",
       "    </tr>\n",
       "  </thead>\n",
       "  <tbody>\n",
       "    <tr>\n",
       "      <th>0</th>\n",
       "      <td>AUDI</td>\n",
       "      <td>седан</td>\n",
       "      <td>чёрный</td>\n",
       "      <td>бензин</td>\n",
       "      <td>4</td>\n",
       "      <td>4</td>\n",
       "      <td>retro</td>\n",
       "      <td>MECHANICAL</td>\n",
       "      <td>Средний</td>\n",
       "      <td>3</td>\n",
       "      <td>полный</td>\n",
       "      <td>LEFT</td>\n",
       "      <td>0</td>\n",
       "      <td>ORIGINAL</td>\n",
       "      <td>200000.0</td>\n",
       "      <td>1</td>\n",
       "    </tr>\n",
       "    <tr>\n",
       "      <th>1</th>\n",
       "      <td>AUDI</td>\n",
       "      <td>седан</td>\n",
       "      <td>красный</td>\n",
       "      <td>бензин</td>\n",
       "      <td>4</td>\n",
       "      <td>4</td>\n",
       "      <td>retro</td>\n",
       "      <td>MECHANICAL</td>\n",
       "      <td>Малый</td>\n",
       "      <td>1</td>\n",
       "      <td>передний</td>\n",
       "      <td>LEFT</td>\n",
       "      <td>0</td>\n",
       "      <td>ORIGINAL</td>\n",
       "      <td>60000.0</td>\n",
       "      <td>1</td>\n",
       "    </tr>\n",
       "    <tr>\n",
       "      <th>2</th>\n",
       "      <td>AUDI</td>\n",
       "      <td>универсал</td>\n",
       "      <td>синий</td>\n",
       "      <td>бензин</td>\n",
       "      <td>4</td>\n",
       "      <td>5</td>\n",
       "      <td>retro</td>\n",
       "      <td>MECHANICAL</td>\n",
       "      <td>Средний</td>\n",
       "      <td>2</td>\n",
       "      <td>полный</td>\n",
       "      <td>LEFT</td>\n",
       "      <td>0</td>\n",
       "      <td>ORIGINAL</td>\n",
       "      <td>99000.0</td>\n",
       "      <td>1</td>\n",
       "    </tr>\n",
       "    <tr>\n",
       "      <th>3</th>\n",
       "      <td>AUDI</td>\n",
       "      <td>седан</td>\n",
       "      <td>серебристый</td>\n",
       "      <td>бензин</td>\n",
       "      <td>4</td>\n",
       "      <td>4</td>\n",
       "      <td>retro</td>\n",
       "      <td>MECHANICAL</td>\n",
       "      <td>Малый</td>\n",
       "      <td>1</td>\n",
       "      <td>передний</td>\n",
       "      <td>LEFT</td>\n",
       "      <td>0</td>\n",
       "      <td>ORIGINAL</td>\n",
       "      <td>65000.0</td>\n",
       "      <td>1</td>\n",
       "    </tr>\n",
       "    <tr>\n",
       "      <th>4</th>\n",
       "      <td>AUDI</td>\n",
       "      <td>седан</td>\n",
       "      <td>чёрный</td>\n",
       "      <td>бензин</td>\n",
       "      <td>4</td>\n",
       "      <td>4</td>\n",
       "      <td>retro</td>\n",
       "      <td>MECHANICAL</td>\n",
       "      <td>Средний</td>\n",
       "      <td>2</td>\n",
       "      <td>передний</td>\n",
       "      <td>LEFT</td>\n",
       "      <td>0</td>\n",
       "      <td>DUPLICATE</td>\n",
       "      <td>100000.0</td>\n",
       "      <td>1</td>\n",
       "    </tr>\n",
       "    <tr>\n",
       "      <th>...</th>\n",
       "      <td>...</td>\n",
       "      <td>...</td>\n",
       "      <td>...</td>\n",
       "      <td>...</td>\n",
       "      <td>...</td>\n",
       "      <td>...</td>\n",
       "      <td>...</td>\n",
       "      <td>...</td>\n",
       "      <td>...</td>\n",
       "      <td>...</td>\n",
       "      <td>...</td>\n",
       "      <td>...</td>\n",
       "      <td>...</td>\n",
       "      <td>...</td>\n",
       "      <td>...</td>\n",
       "      <td>...</td>\n",
       "    </tr>\n",
       "    <tr>\n",
       "      <th>123649</th>\n",
       "      <td>BMW</td>\n",
       "      <td>седан</td>\n",
       "      <td>коричневый</td>\n",
       "      <td>бензин</td>\n",
       "      <td>2</td>\n",
       "      <td>4</td>\n",
       "      <td>average</td>\n",
       "      <td>AUTOMATIC</td>\n",
       "      <td>Малый</td>\n",
       "      <td>2</td>\n",
       "      <td>задний</td>\n",
       "      <td>LEFT</td>\n",
       "      <td>0</td>\n",
       "      <td>ORIGINAL</td>\n",
       "      <td>NaN</td>\n",
       "      <td>0</td>\n",
       "    </tr>\n",
       "    <tr>\n",
       "      <th>123650</th>\n",
       "      <td>BMW</td>\n",
       "      <td>седан</td>\n",
       "      <td>чёрный</td>\n",
       "      <td>дизель</td>\n",
       "      <td>1</td>\n",
       "      <td>4</td>\n",
       "      <td>young</td>\n",
       "      <td>AUTOMATIC</td>\n",
       "      <td>Средний</td>\n",
       "      <td>3</td>\n",
       "      <td>полный</td>\n",
       "      <td>LEFT</td>\n",
       "      <td>2</td>\n",
       "      <td>ORIGINAL</td>\n",
       "      <td>NaN</td>\n",
       "      <td>0</td>\n",
       "    </tr>\n",
       "    <tr>\n",
       "      <th>123651</th>\n",
       "      <td>BMW</td>\n",
       "      <td>седан</td>\n",
       "      <td>серый</td>\n",
       "      <td>бензин</td>\n",
       "      <td>4</td>\n",
       "      <td>4</td>\n",
       "      <td>retro</td>\n",
       "      <td>AUTOMATIC</td>\n",
       "      <td>Средний</td>\n",
       "      <td>3</td>\n",
       "      <td>задний</td>\n",
       "      <td>LEFT</td>\n",
       "      <td>0</td>\n",
       "      <td>DUPLICATE</td>\n",
       "      <td>NaN</td>\n",
       "      <td>0</td>\n",
       "    </tr>\n",
       "    <tr>\n",
       "      <th>123652</th>\n",
       "      <td>BMW</td>\n",
       "      <td>внедорожник</td>\n",
       "      <td>коричневый</td>\n",
       "      <td>дизель</td>\n",
       "      <td>2</td>\n",
       "      <td>5</td>\n",
       "      <td>average</td>\n",
       "      <td>AUTOMATIC</td>\n",
       "      <td>Средний</td>\n",
       "      <td>3</td>\n",
       "      <td>полный</td>\n",
       "      <td>LEFT</td>\n",
       "      <td>1</td>\n",
       "      <td>ORIGINAL</td>\n",
       "      <td>NaN</td>\n",
       "      <td>0</td>\n",
       "    </tr>\n",
       "    <tr>\n",
       "      <th>123653</th>\n",
       "      <td>BMW</td>\n",
       "      <td>внедорожник</td>\n",
       "      <td>чёрный</td>\n",
       "      <td>дизель</td>\n",
       "      <td>3</td>\n",
       "      <td>5</td>\n",
       "      <td>old</td>\n",
       "      <td>AUTOMATIC</td>\n",
       "      <td>Средний</td>\n",
       "      <td>4</td>\n",
       "      <td>полный</td>\n",
       "      <td>LEFT</td>\n",
       "      <td>0</td>\n",
       "      <td>ORIGINAL</td>\n",
       "      <td>NaN</td>\n",
       "      <td>0</td>\n",
       "    </tr>\n",
       "  </tbody>\n",
       "</table>\n",
       "<p>123653 rows × 16 columns</p>\n",
       "</div>"
      ],
      "text/plain": [
       "       brand         body        color    fuel  modelDate  doors prod_date  \\\n",
       "0       AUDI        седан       чёрный  бензин          4      4     retro   \n",
       "1       AUDI        седан      красный  бензин          4      4     retro   \n",
       "2       AUDI    универсал        синий  бензин          4      5     retro   \n",
       "3       AUDI        седан  серебристый  бензин          4      4     retro   \n",
       "4       AUDI        седан       чёрный  бензин          4      4     retro   \n",
       "...      ...          ...          ...     ...        ...    ...       ...   \n",
       "123649   BMW        седан   коричневый  бензин          2      4   average   \n",
       "123650   BMW        седан       чёрный  дизель          1      4     young   \n",
       "123651   BMW        седан        серый  бензин          4      4     retro   \n",
       "123652   BMW  внедорожник   коричневый  дизель          2      5   average   \n",
       "123653   BMW  внедорожник       чёрный  дизель          3      5       old   \n",
       "\n",
       "            config   engine  power     drive wheel  owner tech_passport  \\\n",
       "0       MECHANICAL  Средний      3    полный  LEFT      0      ORIGINAL   \n",
       "1       MECHANICAL    Малый      1  передний  LEFT      0      ORIGINAL   \n",
       "2       MECHANICAL  Средний      2    полный  LEFT      0      ORIGINAL   \n",
       "3       MECHANICAL    Малый      1  передний  LEFT      0      ORIGINAL   \n",
       "4       MECHANICAL  Средний      2  передний  LEFT      0     DUPLICATE   \n",
       "...            ...      ...    ...       ...   ...    ...           ...   \n",
       "123649   AUTOMATIC    Малый      2    задний  LEFT      0      ORIGINAL   \n",
       "123650   AUTOMATIC  Средний      3    полный  LEFT      2      ORIGINAL   \n",
       "123651   AUTOMATIC  Средний      3    задний  LEFT      0     DUPLICATE   \n",
       "123652   AUTOMATIC  Средний      3    полный  LEFT      1      ORIGINAL   \n",
       "123653   AUTOMATIC  Средний      4    полный  LEFT      0      ORIGINAL   \n",
       "\n",
       "           price  train  \n",
       "0       200000.0      1  \n",
       "1        60000.0      1  \n",
       "2        99000.0      1  \n",
       "3        65000.0      1  \n",
       "4       100000.0      1  \n",
       "...          ...    ...  \n",
       "123649       NaN      0  \n",
       "123650       NaN      0  \n",
       "123651       NaN      0  \n",
       "123652       NaN      0  \n",
       "123653       NaN      0  \n",
       "\n",
       "[123653 rows x 16 columns]"
      ]
     },
     "execution_count": 39,
     "metadata": {},
     "output_type": "execute_result"
    }
   ],
   "source": [
    "# Удалим колонку mileage, т.к сильно коррелирует с modelDate\n",
    "df.drop('mileage', axis=1, inplace=True)\n",
    "df"
   ]
  },
  {
   "cell_type": "markdown",
   "metadata": {},
   "source": [
    "# Сгруппируем признаки по типу"
   ]
  },
  {
   "cell_type": "code",
   "execution_count": 40,
   "metadata": {},
   "outputs": [
    {
     "name": "stdout",
     "output_type": "stream",
     "text": [
      "Количество категориальных признаков: 8\n",
      "['brand', 'body', 'color', 'fuel', 'prod_date', 'config', 'engine', 'drive']\n",
      "==========================================================================================\n",
      "Количество числовых признаков: 5\n",
      "['modelDate', 'doors', 'power', 'owner', 'price']\n",
      "==========================================================================================\n",
      "Количество бинарных признаков: 3\n",
      "['wheel', 'tech_passport', 'train']\n"
     ]
    }
   ],
   "source": [
    "def data_category(df):   \n",
    "        \n",
    "    c_col = [col for col in df.columns if df[col].dtype.name == 'object' and df[col].nunique() > 2]\n",
    "    n_col = [col for col in df.columns if df[col].dtype.name != 'object' and df[col].nunique() > 2]\n",
    "    b_col = [col for col in df.columns if df[col].nunique() == 2]\n",
    "\n",
    "    print(f'Количество категориальных признаков: {len(c_col)}')\n",
    "    print(c_col)\n",
    "    print(90*'=')\n",
    "    print(f'Количество числовых признаков: {len(n_col)}')\n",
    "    print(n_col)\n",
    "    print(90*'=')\n",
    "    print(f'Количество бинарных признаков: {len(b_col)}')\n",
    "    print(b_col)\n",
    "    return c_col, n_col, b_col\n",
    "\n",
    "cat_cols, num_cols, bin_cols = data_category(df)"
   ]
  },
  {
   "cell_type": "markdown",
   "metadata": {},
   "source": [
    "# Определим значимость  по ANOVA F test"
   ]
  },
  {
   "cell_type": "code",
   "execution_count": 41,
   "metadata": {},
   "outputs": [
    {
     "data": {
      "text/plain": [
       "<matplotlib.axes._subplots.AxesSubplot at 0x1e0cf548248>"
      ]
     },
     "execution_count": 41,
     "metadata": {},
     "output_type": "execute_result"
    },
    {
     "data": {
      "image/png": "[encoded data removed]",
      "text/plain": [
       "<Figure size 432x432 with 1 Axes>"
      ]
     },
     "metadata": {},
     "output_type": "display_data"
    }
   ],
   "source": [
    "df_tr = df[df.train==1]\n",
    "num_cols = num_cols[:-1]\n",
    "imp_num = Series(f_classif(df_tr[num_cols], df_tr['price'])[0], index = num_cols)\n",
    "imp_num.sort_values(inplace = True)\n",
    "fig = plt.figure(figsize=(6,6))\n",
    "imp_num.plot(kind = 'barh', title='Значимость непрерывных переменных по ANOVA F test')"
   ]
  },
  {
   "cell_type": "markdown",
   "metadata": {},
   "source": [
    "# Значимость категориальных и бинарных переменных"
   ]
  },
  {
   "cell_type": "markdown",
   "metadata": {},
   "source": [
    "Для оценки значимости категориальных и бинарных переменных будем использовать функцию mutual_info_classif из библиотеки sklearn. Данная функция опирается на непараметрические методы, основанные на оценке энтропии в группах категориальных переменных."
   ]
  },
  {
   "cell_type": "code",
   "execution_count": 42,
   "metadata": {},
   "outputs": [
    {
     "name": "stderr",
     "output_type": "stream",
     "text": [
      "C:\\Users\\User\\anaconda3\\lib\\site-packages\\ipykernel_launcher.py:6: SettingWithCopyWarning: \n",
      "A value is trying to be set on a copy of a slice from a DataFrame.\n",
      "Try using .loc[row_indexer,col_indexer] = value instead\n",
      "\n",
      "See the caveats in the documentation: https://pandas.pydata.org/pandas-docs/stable/user_guide/indexing.html#returning-a-view-versus-a-copy\n",
      "  \n",
      "C:\\Users\\User\\anaconda3\\lib\\site-packages\\ipykernel_launcher.py:9: SettingWithCopyWarning: \n",
      "A value is trying to be set on a copy of a slice from a DataFrame.\n",
      "Try using .loc[row_indexer,col_indexer] = value instead\n",
      "\n",
      "See the caveats in the documentation: https://pandas.pydata.org/pandas-docs/stable/user_guide/indexing.html#returning-a-view-versus-a-copy\n",
      "  if __name__ == '__main__':\n"
     ]
    },
    {
     "data": {
      "text/html": [
       "<div>\n",
       "<style scoped>\n",
       "    .dataframe tbody tr th:only-of-type {\n",
       "        vertical-align: middle;\n",
       "    }\n",
       "\n",
       "    .dataframe tbody tr th {\n",
       "        vertical-align: top;\n",
       "    }\n",
       "\n",
       "    .dataframe thead th {\n",
       "        text-align: right;\n",
       "    }\n",
       "</style>\n",
       "<table border=\"1\" class=\"dataframe\">\n",
       "  <thead>\n",
       "    <tr style=\"text-align: right;\">\n",
       "      <th></th>\n",
       "      <th>brand</th>\n",
       "      <th>body</th>\n",
       "      <th>color</th>\n",
       "      <th>fuel</th>\n",
       "      <th>modelDate</th>\n",
       "      <th>doors</th>\n",
       "      <th>prod_date</th>\n",
       "      <th>config</th>\n",
       "      <th>engine</th>\n",
       "      <th>power</th>\n",
       "      <th>drive</th>\n",
       "      <th>wheel</th>\n",
       "      <th>owner</th>\n",
       "      <th>tech_passport</th>\n",
       "      <th>price</th>\n",
       "      <th>train</th>\n",
       "    </tr>\n",
       "  </thead>\n",
       "  <tbody>\n",
       "    <tr>\n",
       "      <th>0</th>\n",
       "      <td>0</td>\n",
       "      <td>11</td>\n",
       "      <td>15</td>\n",
       "      <td>0</td>\n",
       "      <td>4</td>\n",
       "      <td>4</td>\n",
       "      <td>2</td>\n",
       "      <td>1</td>\n",
       "      <td>4</td>\n",
       "      <td>3</td>\n",
       "      <td>2</td>\n",
       "      <td>0</td>\n",
       "      <td>0</td>\n",
       "      <td>1</td>\n",
       "      <td>200000.0</td>\n",
       "      <td>1</td>\n",
       "    </tr>\n",
       "    <tr>\n",
       "      <th>1</th>\n",
       "      <td>0</td>\n",
       "      <td>11</td>\n",
       "      <td>7</td>\n",
       "      <td>0</td>\n",
       "      <td>4</td>\n",
       "      <td>4</td>\n",
       "      <td>2</td>\n",
       "      <td>1</td>\n",
       "      <td>2</td>\n",
       "      <td>1</td>\n",
       "      <td>1</td>\n",
       "      <td>0</td>\n",
       "      <td>0</td>\n",
       "      <td>1</td>\n",
       "      <td>60000.0</td>\n",
       "      <td>1</td>\n",
       "    </tr>\n",
       "    <tr>\n",
       "      <th>2</th>\n",
       "      <td>0</td>\n",
       "      <td>14</td>\n",
       "      <td>13</td>\n",
       "      <td>0</td>\n",
       "      <td>4</td>\n",
       "      <td>5</td>\n",
       "      <td>2</td>\n",
       "      <td>1</td>\n",
       "      <td>4</td>\n",
       "      <td>2</td>\n",
       "      <td>2</td>\n",
       "      <td>0</td>\n",
       "      <td>0</td>\n",
       "      <td>1</td>\n",
       "      <td>99000.0</td>\n",
       "      <td>1</td>\n",
       "    </tr>\n",
       "    <tr>\n",
       "      <th>3</th>\n",
       "      <td>0</td>\n",
       "      <td>11</td>\n",
       "      <td>11</td>\n",
       "      <td>0</td>\n",
       "      <td>4</td>\n",
       "      <td>4</td>\n",
       "      <td>2</td>\n",
       "      <td>1</td>\n",
       "      <td>2</td>\n",
       "      <td>1</td>\n",
       "      <td>1</td>\n",
       "      <td>0</td>\n",
       "      <td>0</td>\n",
       "      <td>1</td>\n",
       "      <td>65000.0</td>\n",
       "      <td>1</td>\n",
       "    </tr>\n",
       "    <tr>\n",
       "      <th>4</th>\n",
       "      <td>0</td>\n",
       "      <td>11</td>\n",
       "      <td>15</td>\n",
       "      <td>0</td>\n",
       "      <td>4</td>\n",
       "      <td>4</td>\n",
       "      <td>2</td>\n",
       "      <td>1</td>\n",
       "      <td>4</td>\n",
       "      <td>2</td>\n",
       "      <td>1</td>\n",
       "      <td>0</td>\n",
       "      <td>0</td>\n",
       "      <td>0</td>\n",
       "      <td>100000.0</td>\n",
       "      <td>1</td>\n",
       "    </tr>\n",
       "    <tr>\n",
       "      <th>...</th>\n",
       "      <td>...</td>\n",
       "      <td>...</td>\n",
       "      <td>...</td>\n",
       "      <td>...</td>\n",
       "      <td>...</td>\n",
       "      <td>...</td>\n",
       "      <td>...</td>\n",
       "      <td>...</td>\n",
       "      <td>...</td>\n",
       "      <td>...</td>\n",
       "      <td>...</td>\n",
       "      <td>...</td>\n",
       "      <td>...</td>\n",
       "      <td>...</td>\n",
       "      <td>...</td>\n",
       "      <td>...</td>\n",
       "    </tr>\n",
       "    <tr>\n",
       "      <th>123649</th>\n",
       "      <td>1</td>\n",
       "      <td>11</td>\n",
       "      <td>6</td>\n",
       "      <td>0</td>\n",
       "      <td>2</td>\n",
       "      <td>4</td>\n",
       "      <td>0</td>\n",
       "      <td>0</td>\n",
       "      <td>2</td>\n",
       "      <td>2</td>\n",
       "      <td>0</td>\n",
       "      <td>0</td>\n",
       "      <td>0</td>\n",
       "      <td>1</td>\n",
       "      <td>NaN</td>\n",
       "      <td>0</td>\n",
       "    </tr>\n",
       "    <tr>\n",
       "      <th>123650</th>\n",
       "      <td>1</td>\n",
       "      <td>11</td>\n",
       "      <td>15</td>\n",
       "      <td>3</td>\n",
       "      <td>1</td>\n",
       "      <td>4</td>\n",
       "      <td>3</td>\n",
       "      <td>0</td>\n",
       "      <td>4</td>\n",
       "      <td>3</td>\n",
       "      <td>2</td>\n",
       "      <td>0</td>\n",
       "      <td>2</td>\n",
       "      <td>1</td>\n",
       "      <td>NaN</td>\n",
       "      <td>0</td>\n",
       "    </tr>\n",
       "    <tr>\n",
       "      <th>123651</th>\n",
       "      <td>1</td>\n",
       "      <td>11</td>\n",
       "      <td>12</td>\n",
       "      <td>0</td>\n",
       "      <td>4</td>\n",
       "      <td>4</td>\n",
       "      <td>2</td>\n",
       "      <td>0</td>\n",
       "      <td>4</td>\n",
       "      <td>3</td>\n",
       "      <td>0</td>\n",
       "      <td>0</td>\n",
       "      <td>0</td>\n",
       "      <td>0</td>\n",
       "      <td>NaN</td>\n",
       "      <td>0</td>\n",
       "    </tr>\n",
       "    <tr>\n",
       "      <th>123652</th>\n",
       "      <td>1</td>\n",
       "      <td>0</td>\n",
       "      <td>6</td>\n",
       "      <td>3</td>\n",
       "      <td>2</td>\n",
       "      <td>5</td>\n",
       "      <td>0</td>\n",
       "      <td>0</td>\n",
       "      <td>4</td>\n",
       "      <td>3</td>\n",
       "      <td>2</td>\n",
       "      <td>0</td>\n",
       "      <td>1</td>\n",
       "      <td>1</td>\n",
       "      <td>NaN</td>\n",
       "      <td>0</td>\n",
       "    </tr>\n",
       "    <tr>\n",
       "      <th>123653</th>\n",
       "      <td>1</td>\n",
       "      <td>0</td>\n",
       "      <td>15</td>\n",
       "      <td>3</td>\n",
       "      <td>3</td>\n",
       "      <td>5</td>\n",
       "      <td>1</td>\n",
       "      <td>0</td>\n",
       "      <td>4</td>\n",
       "      <td>4</td>\n",
       "      <td>2</td>\n",
       "      <td>0</td>\n",
       "      <td>0</td>\n",
       "      <td>1</td>\n",
       "      <td>NaN</td>\n",
       "      <td>0</td>\n",
       "    </tr>\n",
       "  </tbody>\n",
       "</table>\n",
       "<p>123653 rows × 16 columns</p>\n",
       "</div>"
      ],
      "text/plain": [
       "        brand  body  color  fuel  modelDate  doors  prod_date  config  engine  \\\n",
       "0           0    11     15     0          4      4          2       1       4   \n",
       "1           0    11      7     0          4      4          2       1       2   \n",
       "2           0    14     13     0          4      5          2       1       4   \n",
       "3           0    11     11     0          4      4          2       1       2   \n",
       "4           0    11     15     0          4      4          2       1       4   \n",
       "...       ...   ...    ...   ...        ...    ...        ...     ...     ...   \n",
       "123649      1    11      6     0          2      4          0       0       2   \n",
       "123650      1    11     15     3          1      4          3       0       4   \n",
       "123651      1    11     12     0          4      4          2       0       4   \n",
       "123652      1     0      6     3          2      5          0       0       4   \n",
       "123653      1     0     15     3          3      5          1       0       4   \n",
       "\n",
       "        power  drive  wheel  owner  tech_passport     price  train  \n",
       "0           3      2      0      0              1  200000.0      1  \n",
       "1           1      1      0      0              1   60000.0      1  \n",
       "2           2      2      0      0              1   99000.0      1  \n",
       "3           1      1      0      0              1   65000.0      1  \n",
       "4           2      1      0      0              0  100000.0      1  \n",
       "...       ...    ...    ...    ...            ...       ...    ...  \n",
       "123649      2      0      0      0              1       NaN      0  \n",
       "123650      3      2      0      2              1       NaN      0  \n",
       "123651      3      0      0      0              0       NaN      0  \n",
       "123652      3      2      0      1              1       NaN      0  \n",
       "123653      4      2      0      0              1       NaN      0  \n",
       "\n",
       "[123653 rows x 16 columns]"
      ]
     },
     "execution_count": 42,
     "metadata": {},
     "output_type": "execute_result"
    }
   ],
   "source": [
    "# Для бинарных признаков мы будем использовать LabelEncoder\n",
    "from sklearn.preprocessing import LabelEncoder, OneHotEncoder, StandardScaler\n",
    "label_encoder = LabelEncoder()\n",
    "\n",
    "for column in bin_cols:\n",
    "    df[column] = label_encoder.fit_transform(df[column])\n",
    "    \n",
    "for column in cat_cols:\n",
    "    df[column] = label_encoder.fit_transform(df[column])\n",
    "\n",
    "df"
   ]
  },
  {
   "cell_type": "code",
   "execution_count": 43,
   "metadata": {},
   "outputs": [
    {
     "data": {
      "image/png": "[encoded data removed]",
      "text/plain": [
       "<Figure size 432x432 with 1 Axes>"
      ]
     },
     "metadata": {},
     "output_type": "display_data"
    }
   ],
   "source": [
    "df_tr = df[df.train==1]\n",
    "imp_cat = Series(mutual_info_classif(df_tr[bin_cols + cat_cols], df_tr['price'],\n",
    "                                     discrete_features =True), index = bin_cols + cat_cols)\n",
    "imp_cat.sort_values(inplace = True)\n",
    "fig = plt.figure(figsize=(6,6))\n",
    "imp_cat.plot(kind = 'barh', title = 'Значимость бин. и категор. переменных по Mutual information test');"
   ]
  },
  {
   "cell_type": "code",
   "execution_count": 44,
   "metadata": {},
   "outputs": [
    {
     "data": {
      "text/plain": [
       "Index(['brand', 'body', 'color', 'fuel', 'modelDate', 'doors', 'prod_date',\n",
       "       'config', 'engine', 'power', 'drive', 'wheel', 'owner', 'tech_passport',\n",
       "       'price', 'train'],\n",
       "      dtype='object')"
      ]
     },
     "execution_count": 44,
     "metadata": {},
     "output_type": "execute_result"
    }
   ],
   "source": [
    "df.columns"
   ]
  },
  {
   "cell_type": "code",
   "execution_count": 45,
   "metadata": {},
   "outputs": [
    {
     "name": "stderr",
     "output_type": "stream",
     "text": [
      "C:\\Users\\User\\anaconda3\\lib\\site-packages\\ipykernel_launcher.py:3: SettingWithCopyWarning: \n",
      "A value is trying to be set on a copy of a slice from a DataFrame.\n",
      "Try using .loc[row_indexer,col_indexer] = value instead\n",
      "\n",
      "See the caveats in the documentation: https://pandas.pydata.org/pandas-docs/stable/user_guide/indexing.html#returning-a-view-versus-a-copy\n",
      "  This is separate from the ipykernel package so we can avoid doing imports until\n"
     ]
    }
   ],
   "source": [
    "for colum in ['brand', 'body', 'color', 'fuel', 'modelDate', 'doors', 'prod_date',\n",
    "       'config', 'engine', 'power', 'drive', 'wheel', 'owner', 'tech_passport']:\n",
    "    df[colum] = df[colum].astype('category').cat.codes"
   ]
  },
  {
   "cell_type": "code",
   "execution_count": 46,
   "metadata": {},
   "outputs": [
    {
     "name": "stdout",
     "output_type": "stream",
     "text": [
      "<class 'pandas.core.frame.DataFrame'>\n",
      "Int64Index: 123653 entries, 0 to 123653\n",
      "Data columns (total 16 columns):\n",
      " #   Column         Non-Null Count   Dtype  \n",
      "---  ------         --------------   -----  \n",
      " 0   brand          123653 non-null  int8   \n",
      " 1   body           123653 non-null  int8   \n",
      " 2   color          123653 non-null  int8   \n",
      " 3   fuel           123653 non-null  int8   \n",
      " 4   modelDate      123653 non-null  int8   \n",
      " 5   doors          123653 non-null  int8   \n",
      " 6   prod_date      123653 non-null  int8   \n",
      " 7   config         123653 non-null  int8   \n",
      " 8   engine         123653 non-null  int8   \n",
      " 9   power          123653 non-null  int8   \n",
      " 10  drive          123653 non-null  int8   \n",
      " 11  wheel          123653 non-null  int8   \n",
      " 12  owner          123653 non-null  int8   \n",
      " 13  tech_passport  123653 non-null  int8   \n",
      " 14  price          88967 non-null   float64\n",
      " 15  train          123653 non-null  int64  \n",
      "dtypes: float64(1), int64(1), int8(14)\n",
      "memory usage: 9.5 MB\n"
     ]
    }
   ],
   "source": [
    "df.info()"
   ]
  },
  {
   "cell_type": "code",
   "execution_count": 47,
   "metadata": {},
   "outputs": [
    {
     "name": "stdout",
     "output_type": "stream",
     "text": [
      "<class 'pandas.core.frame.DataFrame'>\n",
      "Int64Index: 88967 entries, 0 to 88967\n",
      "Data columns (total 16 columns):\n",
      " #   Column         Non-Null Count  Dtype  \n",
      "---  ------         --------------  -----  \n",
      " 0   brand          88967 non-null  int8   \n",
      " 1   body           88967 non-null  int8   \n",
      " 2   color          88967 non-null  int8   \n",
      " 3   fuel           88967 non-null  int8   \n",
      " 4   modelDate      88967 non-null  int8   \n",
      " 5   doors          88967 non-null  int8   \n",
      " 6   prod_date      88967 non-null  int8   \n",
      " 7   config         88967 non-null  int8   \n",
      " 8   engine         88967 non-null  int8   \n",
      " 9   power          88967 non-null  int8   \n",
      " 10  drive          88967 non-null  int8   \n",
      " 11  wheel          88967 non-null  int8   \n",
      " 12  owner          88967 non-null  int8   \n",
      " 13  tech_passport  88967 non-null  int8   \n",
      " 14  price          88967 non-null  float64\n",
      " 15  train          88967 non-null  int64  \n",
      "dtypes: float64(1), int64(1), int8(14)\n",
      "memory usage: 3.2 MB\n"
     ]
    }
   ],
   "source": [
    "temp_df = df[df['train']==1]\n",
    "temp_df.info()"
   ]
  },
  {
   "cell_type": "code",
   "execution_count": 48,
   "metadata": {},
   "outputs": [],
   "source": [
    "X = df.query('train == 1').drop(['train','price'], axis=1)\n",
    "X_sub = df.query('train == 0').drop(['train','price'], axis=1)\n",
    "y = temp_df['price']"
   ]
  },
  {
   "cell_type": "markdown",
   "metadata": {},
   "source": [
    "# Train Split"
   ]
  },
  {
   "cell_type": "code",
   "execution_count": 49,
   "metadata": {},
   "outputs": [],
   "source": [
    "X_train, X_test, y_train, y_test = train_test_split(X, y, test_size=0.2, shuffle=True, \n",
    "                                                    random_state=RANDOM_SEED)"
   ]
  },
  {
   "cell_type": "markdown",
   "metadata": {},
   "source": [
    "#  GradientBoostingRegressor"
   ]
  },
  {
   "cell_type": "markdown",
   "metadata": {},
   "source": [
    "Эта модель будет предсказывать среднюю цену по модели двигателя (brand). C ней будем сравнивать другие модели."
   ]
  },
  {
   "cell_type": "code",
   "execution_count": 50,
   "metadata": {},
   "outputs": [],
   "source": [
    "def gb_model (y,x):\n",
    "    gb = GradientBoostingRegressor(min_samples_split=2, learning_rate=0.03, max_depth=10, n_estimators=1000)\n",
    "    gb.fit(x,y)\n",
    "    return gb\n",
    "\n",
    "def mape(y_true, y_pred):\n",
    "    return np.mean(np.abs((y_pred-y_true)/y_true))"
   ]
  },
  {
   "cell_type": "code",
   "execution_count": 51,
   "metadata": {},
   "outputs": [],
   "source": [
    "gb_model = gb_model(y_train,X_train)"
   ]
  },
  {
   "cell_type": "code",
   "execution_count": 52,
   "metadata": {},
   "outputs": [
    {
     "name": "stdout",
     "output_type": "stream",
     "text": [
      "Точность модели по метрике MAPE: 0.185\n"
     ]
    }
   ],
   "source": [
    "test_predict = gb_model.predict(X_test)\n",
    "test_score = mape(y_test, test_predict)\n",
    "print(f\"Точность модели по метрике MAPE: {mape(y_test, test_predict):0.3f}\")"
   ]
  },
  {
   "cell_type": "markdown",
   "metadata": {},
   "source": [
    "# ExtraTreesRegressor"
   ]
  },
  {
   "cell_type": "code",
   "execution_count": 53,
   "metadata": {},
   "outputs": [],
   "source": [
    "def et_model (y,x):\n",
    "    et = ExtraTreesRegressor(max_depth=15,max_features = 'sqrt',\n",
    "                             n_estimators = 1000, random_state = 42, n_jobs = -1)\n",
    "    et.fit(x,y)\n",
    "    return et"
   ]
  },
  {
   "cell_type": "code",
   "execution_count": 54,
   "metadata": {},
   "outputs": [],
   "source": [
    "et_model = et_model(y_train,X_train)"
   ]
  },
  {
   "cell_type": "code",
   "execution_count": 55,
   "metadata": {},
   "outputs": [
    {
     "name": "stdout",
     "output_type": "stream",
     "text": [
      "Точность модели по метрике MAPE: 0.251\n"
     ]
    }
   ],
   "source": [
    "test_predict = et_model.predict(X_test)\n",
    "test_score = mape(y_test, test_predict)\n",
    "print(f\"Точность модели по метрике MAPE: {mape(y_test, test_predict):0.3f}\")"
   ]
  },
  {
   "cell_type": "markdown",
   "metadata": {},
   "source": [
    "# RandomForestRegressor"
   ]
  },
  {
   "cell_type": "code",
   "execution_count": 56,
   "metadata": {},
   "outputs": [],
   "source": [
    "def reg_model(y, x):\n",
    "    reg = RandomForestRegressor(n_estimators=1000, n_jobs = -1, max_depth = 15, max_features = 'log2', random_state = 42, oob_score=True,) \n",
    "    reg.fit(x,y) \n",
    "    return reg"
   ]
  },
  {
   "cell_type": "code",
   "execution_count": 57,
   "metadata": {},
   "outputs": [],
   "source": [
    "reg_model = reg_model(y_train,X_train)"
   ]
  },
  {
   "cell_type": "code",
   "execution_count": 58,
   "metadata": {},
   "outputs": [
    {
     "name": "stdout",
     "output_type": "stream",
     "text": [
      "Точность модели по метрике MAPE: 0.216\n"
     ]
    }
   ],
   "source": [
    "test_predict = reg_model.predict(X_test)\n",
    "test_score = mape(y_test, test_predict)\n",
    "print(f\"Точность модели по метрике MAPE: {mape(y_test, test_predict):0.3f}\")"
   ]
  },
  {
   "cell_type": "markdown",
   "metadata": {},
   "source": [
    "# Fit"
   ]
  },
  {
   "cell_type": "code",
   "execution_count": 59,
   "metadata": {},
   "outputs": [],
   "source": [
    "cv = KFold(n_splits=10, shuffle=True, random_state=42)\n",
    "#cv = KFold(n_splits=N_FOLDS, shuffle=True)"
   ]
  },
  {
   "cell_type": "code",
   "execution_count": 60,
   "metadata": {},
   "outputs": [],
   "source": [
    "X_train = np.where(np.isnan(X_train), 0, X_train)\n",
    "X_test = np.where(np.isnan(X_test), 0, X_test)\n",
    "y_train = np.where(np.isnan(y_train), 0, y_train)"
   ]
  },
  {
   "cell_type": "code",
   "execution_count": 61,
   "metadata": {},
   "outputs": [],
   "source": [
    "from sklearn.base import clone\n",
    "from sklearn.neighbors import KNeighborsClassifier\n",
    "from sklearn.neighbors import KNeighborsRegressor"
   ]
  },
  {
   "cell_type": "code",
   "execution_count": 62,
   "metadata": {},
   "outputs": [],
   "source": [
    "def compute_meta_feature(clf, X_train, X_test, y_train, cv):\n",
    "    \n",
    "    #n_classes = len(np.unique(y_train))\n",
    "    X_meta_train = np.zeros(len(y_train), dtype=np.float32)\n",
    "\n",
    "    splits = cv.split(X_train)\n",
    "    for train_fold_index, predict_fold_index in splits:\n",
    "        X_fold_train, X_fold_predict = X_train[train_fold_index], X_train[predict_fold_index]\n",
    "        y_fold_train = y_train[train_fold_index]\n",
    "        \n",
    "        folded_clf = clone(clf)\n",
    "        folded_clf.fit(X_fold_train, y_fold_train)\n",
    "        \n",
    "        X_meta_train[predict_fold_index] = folded_clf.predict(X_fold_predict)\n",
    "    \n",
    "    meta_clf = clone(clf)\n",
    "    meta_clf.fit(X_train, y_train)\n",
    "    \n",
    "    X_meta_test = meta_clf.predict(X_test)\n",
    "    \n",
    "    n = cv.n_splits\n",
    "    X_meta_test = X_meta_test / n\n",
    "\n",
    "    \n",
    "    return X_meta_train, X_meta_test"
   ]
  },
  {
   "cell_type": "code",
   "execution_count": 63,
   "metadata": {},
   "outputs": [],
   "source": [
    "def generate_meta_features(classifiers, X_train, X_test, y_train, cv):\n",
    "    features = [compute_meta_feature(clf, X_train, X_test, y_train, cv) for clf in tqdm(classifiers)]\n",
    "    stacked_features_train = np.hstack([features_train for features_train, features_test in features])\n",
    "    stacked_features_test = np.hstack([features_test for features_train, features_test in features])\n",
    "    return stacked_features_train, stacked_features_test"
   ]
  },
  {
   "cell_type": "code",
   "execution_count": 64,
   "metadata": {},
   "outputs": [
    {
     "data": {
      "text/plain": [
       "KNeighborsClassifier(algorithm='auto', leaf_size=30, metric='minkowski',\n",
       "                     metric_params=None, n_jobs=None, n_neighbors=5, p=2,\n",
       "                     weights='uniform')"
      ]
     },
     "execution_count": 64,
     "metadata": {},
     "output_type": "execute_result"
    }
   ],
   "source": [
    "clf = KNeighborsRegressor()\n",
    "KNeighborsClassifier()"
   ]
  },
  {
   "cell_type": "code",
   "execution_count": 65,
   "metadata": {},
   "outputs": [],
   "source": [
    "clf = KNeighborsRegressor()\n",
    "n_classes = len(np.unique(y_train))\n",
    "X_meta_train = np.zeros((len(y_train), n_classes), dtype=np.float32)\n",
    "X_meta_train = np.zeros(len(y_train), dtype = np.float32)\n",
    "splits = cv.split(X_train)\n",
    "\n",
    "for train_fold_index, predict_fold_index in splits:\n",
    "    folded_clf = clone(clf)\n",
    "    folded_clf.fit(X_train[train_fold_index], y_train[train_fold_index])\n",
    "    X_meta_train[predict_fold_index] = folded_clf.predict(X_train[predict_fold_index])\n",
    "\n",
    "meta_clf = clone(clf)\n",
    "meta_clf.fit(X_train, y_train)\n",
    "X_meta_test = meta_clf.predict(X_test)"
   ]
  },
  {
   "cell_type": "code",
   "execution_count": 66,
   "metadata": {},
   "outputs": [
    {
     "data": {
      "application/vnd.jupyter.widget-view+json": {
       "model_id": "c4b61b2fd8f94d55b16acbc07cc99e69",
       "version_major": 2,
       "version_minor": 0
      },
      "text/plain": [
       "HBox(children=(FloatProgress(value=0.0, max=1.0), HTML(value='')))"
      ]
     },
     "metadata": {},
     "output_type": "display_data"
    },
    {
     "name": "stdout",
     "output_type": "stream",
     "text": [
      "\n"
     ]
    }
   ],
   "source": [
    "stacked_features_train, stacked_features_test = generate_meta_features([\n",
    "    #RandomForestRegressor(n_estimators=100),\n",
    "    #GradientBoostingClassifier\n",
    "    #GradientBoostingRegressor(n_estimators=100),\n",
    "    #KNeighborsRegressor()\n",
    "    KNeighborsClassifier()\n",
    "    #ExtraTreesClassifier(n_estimators=100)\n",
    "], X_train, X_test, y_train, cv)"
   ]
  },
  {
   "cell_type": "code",
   "execution_count": 67,
   "metadata": {},
   "outputs": [
    {
     "data": {
      "text/plain": [
       "(71173,)"
      ]
     },
     "execution_count": 67,
     "metadata": {},
     "output_type": "execute_result"
    }
   ],
   "source": [
    "stacked_features_train.shape"
   ]
  },
  {
   "cell_type": "code",
   "execution_count": 68,
   "metadata": {},
   "outputs": [
    {
     "data": {
      "text/plain": [
       "(71173,)"
      ]
     },
     "execution_count": 68,
     "metadata": {},
     "output_type": "execute_result"
    }
   ],
   "source": [
    "y_train.shape"
   ]
  },
  {
   "cell_type": "code",
   "execution_count": 69,
   "metadata": {},
   "outputs": [],
   "source": [
    "stacked_features_train = stacked_features_train.reshape(-1, 1)\n",
    "y_train = y_train.reshape(-1, 1)"
   ]
  },
  {
   "cell_type": "code",
   "execution_count": 70,
   "metadata": {},
   "outputs": [
    {
     "data": {
      "text/plain": [
       "(71173, 1)"
      ]
     },
     "execution_count": 70,
     "metadata": {},
     "output_type": "execute_result"
    }
   ],
   "source": [
    "stacked_features_train.shape"
   ]
  },
  {
   "cell_type": "code",
   "execution_count": 71,
   "metadata": {},
   "outputs": [
    {
     "name": "stdout",
     "output_type": "stream",
     "text": [
      "Точность модели по метрике MAPE: 0.228\n"
     ]
    }
   ],
   "source": [
    "test_predict = meta_clf.predict(X_test)\n",
    "test_score = mape(y_test, test_predict)\n",
    "print(f\"Точность модели по метрике MAPE: {mape(y_test, test_predict):0.3f}\")"
   ]
  },
  {
   "cell_type": "markdown",
   "metadata": {},
   "source": [
    "# Submission"
   ]
  },
  {
   "cell_type": "code",
   "execution_count": 73,
   "metadata": {},
   "outputs": [],
   "source": [
    "predict_submission = gb_model.predict(X_sub)\n",
    "\n",
    "sample_submission['price'] = predict_submission\n",
    "sample_submission.to_csv(f'submission_v{VERSION}.csv', index=False)\n",
    "sample_submission.head(10)"
   ]
  },
  {
   "cell_type": "code",
   "execution_count": null,
   "metadata": {},
   "outputs": [],
   "source": []
  }
 ],
 "metadata": {
  "kernelspec": {
   "display_name": "Python 3",
   "language": "python",
   "name": "python3"
  },
  "language_info": {
   "codemirror_mode": {
    "name": "ipython",
    "version": 3
   },
   "file_extension": ".py",
   "mimetype": "text/x-python",
   "name": "python",
   "nbconvert_exporter": "python",
   "pygments_lexer": "ipython3",
   "version": "3.7.6"
  }
 },
 "nbformat": 4,
 "nbformat_minor": 4
}
