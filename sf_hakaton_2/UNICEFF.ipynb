{
 "cells": [
  {
   "cell_type": "markdown",
   "metadata": {},
   "source": [
    "# Задача:\n",
    "\n",
    "    Вас пригласили поучаствовать в одном из проектов UNICEF — международного подразделения ООН, чья миссия состоит в повышении уровня благополучия детей по всему миру. \n",
    "\n",
    "    Суть проекта — отследить влияние условий жизни учащихся в возрасте от 15 до 22 лет на их успеваемость по математике, чтобы на ранней стадии выявлять студентов, находящихся в группе риска.\n",
    "\n",
    "    И сделать это можно с помощью модели, которая предсказывала бы результаты госэкзамена по математике для каждого ученика школы. Чтобы определиться с параметрами будущей модели, проведите разведывательный анализ данных и составьте отчёт по его результатам. "
   ]
  },
  {
   "cell_type": "markdown",
   "metadata": {},
   "source": [
    "### Описание датасета:"
   ]
  },
  {
   "cell_type": "markdown",
   "metadata": {},
   "source": [
    "    1. school — аббревиатура школы, в которой учится ученик\n",
    "    2. sex — пол ученика ('F' - женский, 'M' - мужской)\n",
    "    3. age — возраст ученика (от 15 до 22)\n",
    "    4. address — тип адреса ученика ('U' - городской, 'R' - за городом)\n",
    "    5. famsize — размер семьи('LE3' <= 3, 'GT3' >3)\n",
    "    6. Pstatus — статус совместного жилья родителей ('T' - живут вместе 'A' - раздельно)\n",
    "    7. Medu — образование матери (0 - нет, 1 - 4 класса, 2 - 5-9 классы, 3 - среднее специальное или 11 классов, 4 - высшее)\n",
    "    8. Fedu — образование отца (0 - нет, 1 - 4 класса, 2 - 5-9 классы, 3 - среднее специальное или 11 классов, 4 - высшее)\n",
    "    9. Mjob — работа матери ('teacher' - учитель, 'health' - сфера здравоохранения, 'services' - гос служба, 'at_home' - не работает, 'other' - другое)\n",
    "    10. Fjob — работа отца ('teacher' - учитель, 'health' - сфера здравоохранения, 'services' - гос служба, 'at_home' - не работает, 'other' - другое)\n",
    "    11. reason — причина выбора школы ('home' - близость к дому, 'reputation' - репутация школы, 'course' - образовательная программа, 'other' - другое)\n",
    "    12. guardian — опекун ('mother' - мать, 'father' - отец, 'other' - другое)\n",
    "    13. traveltime — время в пути до школы (1 - <15 мин., 2 - 15-30 мин., 3 - 30-60 мин., 4 - >60 мин.)\n",
    "    14. studytime — время на учёбу помимо школы в неделю (1 - <2 часов, 2 - 2-5 часов, 3 - 5-10 часов, 4 - >10 часов)\n",
    "    15. failures — количество внеучебных неудач (n, если 1<=n<3, иначе 0)\n",
    "    16. schoolsup — дополнительная образовательная поддержка (yes или no)\n",
    "    17. famsup — семейная образовательная поддержка (yes или no)\n",
    "    18. paid — дополнительные платные занятия по математике (yes или no)\n",
    "    19. activities — дополнительные внеучебные занятия (yes или no)\n",
    "    20. nursery — посещал детский сад (yes или no)\n",
    "    21. higher — хочет получить высшее образование (yes или no)\n",
    "    22. internet — наличие интернета дома (yes или no)\n",
    "    23. romantic — в романтических отношениях (yes или no)\n",
    "    24. famrel — семейные отношения (от 1 - очень плохо до 5 - очень хорошо)\n",
    "    25. freetime — свободное время после школы (от 1 - очень мало до 5 - очень мого)\n",
    "    26. goout — проведение времени с друзьями (от 1 - очень мало до 5 - очень много)\n",
    "    27. health — текущее состояние здоровья (от 1 - очень плохо до 5 - очень хорошо)\n",
    "    28. absences — количество пропущенных занятий\n",
    "    29. score — баллы по госэкзамену по математике"
   ]
  },
  {
   "cell_type": "markdown",
   "metadata": {},
   "source": [
    "# Рекомендации по выполнению проекта:"
   ]
  },
  {
   "cell_type": "markdown",
   "metadata": {},
   "source": [
    "    1. Проведите первичную обработку данных. Так как данных много, стоит написать функции, которые можно применять к столбцам определённого типа.\n",
    "    2. Посмотрите на распределение признака для числовых переменных, устраните выбросы.\n",
    "    3. Оцените количество уникальных значений для номинативных переменных.\n",
    "    4. По необходимости преобразуйте данные\n",
    "    5. Проведите корреляционный анализ количественных переменных\n",
    "    6. Отберите не коррелирующие переменные.\n",
    "    7. Проанализируйте номинативные переменные и устраните те, которые не влияют на предсказываемую величину (в нашем случае — на переменную score).\n",
    "    8. Не забудьте сформулировать выводы относительно качества данных и тех переменных, которые вы будете использовать в дальнейшем построении модели."
   ]
  },
  {
   "cell_type": "code",
   "execution_count": 1,
   "metadata": {},
   "outputs": [],
   "source": [
    "import warnings\n",
    "import numpy as np\n",
    "import pandas as pd\n",
    "import seaborn as sns\n",
    "import matplotlib.pyplot as plt\n",
    "from itertools import combinations\n",
    "from scipy.stats import ttest_ind,norm,t\n",
    "\n",
    "from sklearn.model_selection import train_test_split\n",
    "from sklearn.linear_model import LogisticRegression\n",
    "from sklearn.metrics import classification_report, accuracy_score\n",
    "from sklearn.metrics import roc_auc_score, roc_curve, confusion_matrix\n",
    "from sklearn.preprocessing import LabelEncoder, OneHotEncoder\n",
    "from sklearn.datasets import fetch_20newsgroups, load_files\n",
    "\n",
    "%matplotlib inline\n",
    "warnings.filterwarnings('ignore')\n",
    "pd.set_option('display.max_rows',50) \n",
    "pd.set_option('display.max_columns',50) "
   ]
  },
  {
   "cell_type": "markdown",
   "metadata": {},
   "source": [
    "# Загружаем данные:"
   ]
  },
  {
   "cell_type": "code",
   "execution_count": 16,
   "metadata": {},
   "outputs": [
    {
     "data": {
      "text/html": [
       "<div>\n",
       "<style scoped>\n",
       "    .dataframe tbody tr th:only-of-type {\n",
       "        vertical-align: middle;\n",
       "    }\n",
       "\n",
       "    .dataframe tbody tr th {\n",
       "        vertical-align: top;\n",
       "    }\n",
       "\n",
       "    .dataframe thead th {\n",
       "        text-align: right;\n",
       "    }\n",
       "</style>\n",
       "<table border=\"1\" class=\"dataframe\">\n",
       "  <thead>\n",
       "    <tr style=\"text-align: right;\">\n",
       "      <th></th>\n",
       "      <th>school</th>\n",
       "      <th>sex</th>\n",
       "      <th>age</th>\n",
       "      <th>address</th>\n",
       "      <th>famsize</th>\n",
       "      <th>Pstatus</th>\n",
       "      <th>Medu</th>\n",
       "      <th>Fedu</th>\n",
       "      <th>Mjob</th>\n",
       "      <th>Fjob</th>\n",
       "      <th>reason</th>\n",
       "      <th>guardian</th>\n",
       "      <th>traveltime</th>\n",
       "      <th>studytime</th>\n",
       "      <th>failures</th>\n",
       "      <th>schoolsup</th>\n",
       "      <th>famsup</th>\n",
       "      <th>paid</th>\n",
       "      <th>activities</th>\n",
       "      <th>nursery</th>\n",
       "      <th>studytime, granular</th>\n",
       "      <th>higher</th>\n",
       "      <th>internet</th>\n",
       "      <th>romantic</th>\n",
       "      <th>famrel</th>\n",
       "      <th>freetime</th>\n",
       "      <th>goout</th>\n",
       "      <th>health</th>\n",
       "      <th>absences</th>\n",
       "      <th>score</th>\n",
       "    </tr>\n",
       "  </thead>\n",
       "  <tbody>\n",
       "    <tr>\n",
       "      <th>0</th>\n",
       "      <td>GP</td>\n",
       "      <td>F</td>\n",
       "      <td>18</td>\n",
       "      <td>U</td>\n",
       "      <td>NaN</td>\n",
       "      <td>A</td>\n",
       "      <td>4.0</td>\n",
       "      <td>4.0</td>\n",
       "      <td>at_home</td>\n",
       "      <td>teacher</td>\n",
       "      <td>course</td>\n",
       "      <td>mother</td>\n",
       "      <td>2.0</td>\n",
       "      <td>2.0</td>\n",
       "      <td>0.0</td>\n",
       "      <td>yes</td>\n",
       "      <td>no</td>\n",
       "      <td>no</td>\n",
       "      <td>no</td>\n",
       "      <td>yes</td>\n",
       "      <td>-6.0</td>\n",
       "      <td>yes</td>\n",
       "      <td>NaN</td>\n",
       "      <td>no</td>\n",
       "      <td>4.0</td>\n",
       "      <td>3.0</td>\n",
       "      <td>4.0</td>\n",
       "      <td>3.0</td>\n",
       "      <td>6.0</td>\n",
       "      <td>30.0</td>\n",
       "    </tr>\n",
       "    <tr>\n",
       "      <th>1</th>\n",
       "      <td>GP</td>\n",
       "      <td>F</td>\n",
       "      <td>17</td>\n",
       "      <td>U</td>\n",
       "      <td>GT3</td>\n",
       "      <td>NaN</td>\n",
       "      <td>1.0</td>\n",
       "      <td>1.0</td>\n",
       "      <td>at_home</td>\n",
       "      <td>other</td>\n",
       "      <td>course</td>\n",
       "      <td>father</td>\n",
       "      <td>1.0</td>\n",
       "      <td>2.0</td>\n",
       "      <td>0.0</td>\n",
       "      <td>no</td>\n",
       "      <td>yes</td>\n",
       "      <td>no</td>\n",
       "      <td>no</td>\n",
       "      <td>no</td>\n",
       "      <td>-6.0</td>\n",
       "      <td>yes</td>\n",
       "      <td>yes</td>\n",
       "      <td>no</td>\n",
       "      <td>5.0</td>\n",
       "      <td>3.0</td>\n",
       "      <td>3.0</td>\n",
       "      <td>3.0</td>\n",
       "      <td>4.0</td>\n",
       "      <td>30.0</td>\n",
       "    </tr>\n",
       "    <tr>\n",
       "      <th>2</th>\n",
       "      <td>GP</td>\n",
       "      <td>F</td>\n",
       "      <td>15</td>\n",
       "      <td>U</td>\n",
       "      <td>LE3</td>\n",
       "      <td>T</td>\n",
       "      <td>1.0</td>\n",
       "      <td>1.0</td>\n",
       "      <td>at_home</td>\n",
       "      <td>other</td>\n",
       "      <td>other</td>\n",
       "      <td>mother</td>\n",
       "      <td>1.0</td>\n",
       "      <td>2.0</td>\n",
       "      <td>3.0</td>\n",
       "      <td>yes</td>\n",
       "      <td>no</td>\n",
       "      <td>NaN</td>\n",
       "      <td>no</td>\n",
       "      <td>yes</td>\n",
       "      <td>-6.0</td>\n",
       "      <td>yes</td>\n",
       "      <td>yes</td>\n",
       "      <td>NaN</td>\n",
       "      <td>4.0</td>\n",
       "      <td>3.0</td>\n",
       "      <td>2.0</td>\n",
       "      <td>3.0</td>\n",
       "      <td>10.0</td>\n",
       "      <td>50.0</td>\n",
       "    </tr>\n",
       "    <tr>\n",
       "      <th>3</th>\n",
       "      <td>GP</td>\n",
       "      <td>F</td>\n",
       "      <td>15</td>\n",
       "      <td>U</td>\n",
       "      <td>GT3</td>\n",
       "      <td>T</td>\n",
       "      <td>4.0</td>\n",
       "      <td>2.0</td>\n",
       "      <td>health</td>\n",
       "      <td>NaN</td>\n",
       "      <td>home</td>\n",
       "      <td>mother</td>\n",
       "      <td>1.0</td>\n",
       "      <td>3.0</td>\n",
       "      <td>0.0</td>\n",
       "      <td>no</td>\n",
       "      <td>yes</td>\n",
       "      <td>yes</td>\n",
       "      <td>yes</td>\n",
       "      <td>yes</td>\n",
       "      <td>-9.0</td>\n",
       "      <td>yes</td>\n",
       "      <td>yes</td>\n",
       "      <td>yes</td>\n",
       "      <td>3.0</td>\n",
       "      <td>2.0</td>\n",
       "      <td>2.0</td>\n",
       "      <td>5.0</td>\n",
       "      <td>2.0</td>\n",
       "      <td>75.0</td>\n",
       "    </tr>\n",
       "    <tr>\n",
       "      <th>4</th>\n",
       "      <td>GP</td>\n",
       "      <td>F</td>\n",
       "      <td>16</td>\n",
       "      <td>U</td>\n",
       "      <td>GT3</td>\n",
       "      <td>T</td>\n",
       "      <td>3.0</td>\n",
       "      <td>3.0</td>\n",
       "      <td>other</td>\n",
       "      <td>other</td>\n",
       "      <td>home</td>\n",
       "      <td>father</td>\n",
       "      <td>1.0</td>\n",
       "      <td>2.0</td>\n",
       "      <td>0.0</td>\n",
       "      <td>no</td>\n",
       "      <td>yes</td>\n",
       "      <td>yes</td>\n",
       "      <td>no</td>\n",
       "      <td>yes</td>\n",
       "      <td>-6.0</td>\n",
       "      <td>yes</td>\n",
       "      <td>no</td>\n",
       "      <td>no</td>\n",
       "      <td>4.0</td>\n",
       "      <td>3.0</td>\n",
       "      <td>2.0</td>\n",
       "      <td>5.0</td>\n",
       "      <td>4.0</td>\n",
       "      <td>50.0</td>\n",
       "    </tr>\n",
       "  </tbody>\n",
       "</table>\n",
       "</div>"
      ],
      "text/plain": [
       "  school sex  age address famsize Pstatus  Medu  Fedu     Mjob     Fjob  \\\n",
       "0     GP   F   18       U     NaN       A   4.0   4.0  at_home  teacher   \n",
       "1     GP   F   17       U     GT3     NaN   1.0   1.0  at_home    other   \n",
       "2     GP   F   15       U     LE3       T   1.0   1.0  at_home    other   \n",
       "3     GP   F   15       U     GT3       T   4.0   2.0   health      NaN   \n",
       "4     GP   F   16       U     GT3       T   3.0   3.0    other    other   \n",
       "\n",
       "   reason guardian  traveltime  studytime  failures schoolsup famsup paid  \\\n",
       "0  course   mother         2.0        2.0       0.0       yes     no   no   \n",
       "1  course   father         1.0        2.0       0.0        no    yes   no   \n",
       "2   other   mother         1.0        2.0       3.0       yes     no  NaN   \n",
       "3    home   mother         1.0        3.0       0.0        no    yes  yes   \n",
       "4    home   father         1.0        2.0       0.0        no    yes  yes   \n",
       "\n",
       "  activities nursery  studytime, granular higher internet romantic  famrel  \\\n",
       "0         no     yes                 -6.0    yes      NaN       no     4.0   \n",
       "1         no      no                 -6.0    yes      yes       no     5.0   \n",
       "2         no     yes                 -6.0    yes      yes      NaN     4.0   \n",
       "3        yes     yes                 -9.0    yes      yes      yes     3.0   \n",
       "4         no     yes                 -6.0    yes       no       no     4.0   \n",
       "\n",
       "   freetime  goout  health  absences  score  \n",
       "0       3.0    4.0     3.0       6.0   30.0  \n",
       "1       3.0    3.0     3.0       4.0   30.0  \n",
       "2       3.0    2.0     3.0      10.0   50.0  \n",
       "3       2.0    2.0     5.0       2.0   75.0  \n",
       "4       3.0    2.0     5.0       4.0   50.0  "
      ]
     },
     "execution_count": 16,
     "metadata": {},
     "output_type": "execute_result"
    }
   ],
   "source": [
    "data = pd.read_csv('StudMath.csv')\n",
    "data.head()"
   ]
  },
  {
   "cell_type": "markdown",
   "metadata": {},
   "source": [
    "Рассмотрим названия колонок во избежании дальнейших трудностей при обработке данных:"
   ]
  },
  {
   "cell_type": "code",
   "execution_count": 17,
   "metadata": {},
   "outputs": [
    {
     "data": {
      "text/plain": [
       "Index(['school', 'sex', 'age', 'address', 'famsize', 'Pstatus', 'Medu', 'Fedu',\n",
       "       'Mjob', 'Fjob', 'reason', 'guardian', 'traveltime', 'studytime',\n",
       "       'failures', 'schoolsup', 'famsup', 'paid', 'activities', 'nursery',\n",
       "       'studytime, granular', 'higher', 'internet', 'romantic', 'famrel',\n",
       "       'freetime', 'goout', 'health', 'absences', 'score'],\n",
       "      dtype='object')"
      ]
     },
     "execution_count": 17,
     "metadata": {},
     "output_type": "execute_result"
    }
   ],
   "source": [
    "data.columns"
   ]
  },
  {
   "cell_type": "markdown",
   "metadata": {},
   "source": [
    "Названия колонок корректны, но для большего удобства сведем все названия к нижнему регистру:"
   ]
  },
  {
   "cell_type": "code",
   "execution_count": 18,
   "metadata": {},
   "outputs": [],
   "source": [
    "dt = data.copy()\n",
    "dt.rename(columns={'Pstatus':'p_status','Medu':'m_edu','Fedu':'f_edu',\n",
    "                  'Mjob':'m_job','Fjob':'f_job','goout':'go_out'}, inplace=True)"
   ]
  },
  {
   "cell_type": "markdown",
   "metadata": {},
   "source": [
    "Посмотрим на размер массива, и предварительную информацию о нашем датасете."
   ]
  },
  {
   "cell_type": "code",
   "execution_count": 19,
   "metadata": {},
   "outputs": [
    {
     "name": "stdout",
     "output_type": "stream",
     "text": [
      "Размер датасета: 395 - строк, 30 - колонок\n"
     ]
    }
   ],
   "source": [
    "print(f'Размер датасета: {dt.shape[0]} - строк, {dt.shape[1]} - колонок')"
   ]
  },
  {
   "cell_type": "markdown",
   "metadata": {},
   "source": [
    "Посмотрим на количество отсутствующих значений и их процентное соотношение:"
   ]
  },
  {
   "cell_type": "code",
   "execution_count": 23,
   "metadata": {},
   "outputs": [
    {
     "data": {
      "text/html": [
       "<div>\n",
       "<style scoped>\n",
       "    .dataframe tbody tr th:only-of-type {\n",
       "        vertical-align: middle;\n",
       "    }\n",
       "\n",
       "    .dataframe tbody tr th {\n",
       "        vertical-align: top;\n",
       "    }\n",
       "\n",
       "    .dataframe thead th {\n",
       "        text-align: right;\n",
       "    }\n",
       "</style>\n",
       "<table border=\"1\" class=\"dataframe\">\n",
       "  <thead>\n",
       "    <tr style=\"text-align: right;\">\n",
       "      <th></th>\n",
       "      <th>Всего NaN</th>\n",
       "      <th>% NaN</th>\n",
       "    </tr>\n",
       "  </thead>\n",
       "  <tbody>\n",
       "    <tr>\n",
       "      <th>Pstatus</th>\n",
       "      <td>45</td>\n",
       "      <td>11.39</td>\n",
       "    </tr>\n",
       "    <tr>\n",
       "      <th>paid</th>\n",
       "      <td>40</td>\n",
       "      <td>10.13</td>\n",
       "    </tr>\n",
       "    <tr>\n",
       "      <th>famsup</th>\n",
       "      <td>39</td>\n",
       "      <td>9.87</td>\n",
       "    </tr>\n",
       "    <tr>\n",
       "      <th>Fjob</th>\n",
       "      <td>36</td>\n",
       "      <td>9.11</td>\n",
       "    </tr>\n",
       "    <tr>\n",
       "      <th>internet</th>\n",
       "      <td>34</td>\n",
       "      <td>8.61</td>\n",
       "    </tr>\n",
       "    <tr>\n",
       "      <th>romantic</th>\n",
       "      <td>31</td>\n",
       "      <td>7.85</td>\n",
       "    </tr>\n",
       "    <tr>\n",
       "      <th>guardian</th>\n",
       "      <td>31</td>\n",
       "      <td>7.85</td>\n",
       "    </tr>\n",
       "    <tr>\n",
       "      <th>traveltime</th>\n",
       "      <td>28</td>\n",
       "      <td>7.09</td>\n",
       "    </tr>\n",
       "    <tr>\n",
       "      <th>famrel</th>\n",
       "      <td>27</td>\n",
       "      <td>6.84</td>\n",
       "    </tr>\n",
       "    <tr>\n",
       "      <th>famsize</th>\n",
       "      <td>27</td>\n",
       "      <td>6.84</td>\n",
       "    </tr>\n",
       "    <tr>\n",
       "      <th>Fedu</th>\n",
       "      <td>24</td>\n",
       "      <td>6.08</td>\n",
       "    </tr>\n",
       "    <tr>\n",
       "      <th>failures</th>\n",
       "      <td>22</td>\n",
       "      <td>5.57</td>\n",
       "    </tr>\n",
       "    <tr>\n",
       "      <th>higher</th>\n",
       "      <td>20</td>\n",
       "      <td>5.06</td>\n",
       "    </tr>\n",
       "    <tr>\n",
       "      <th>Mjob</th>\n",
       "      <td>19</td>\n",
       "      <td>4.81</td>\n",
       "    </tr>\n",
       "    <tr>\n",
       "      <th>reason</th>\n",
       "      <td>17</td>\n",
       "      <td>4.30</td>\n",
       "    </tr>\n",
       "    <tr>\n",
       "      <th>address</th>\n",
       "      <td>17</td>\n",
       "      <td>4.30</td>\n",
       "    </tr>\n",
       "    <tr>\n",
       "      <th>nursery</th>\n",
       "      <td>16</td>\n",
       "      <td>4.05</td>\n",
       "    </tr>\n",
       "    <tr>\n",
       "      <th>health</th>\n",
       "      <td>15</td>\n",
       "      <td>3.80</td>\n",
       "    </tr>\n",
       "    <tr>\n",
       "      <th>activities</th>\n",
       "      <td>14</td>\n",
       "      <td>3.54</td>\n",
       "    </tr>\n",
       "    <tr>\n",
       "      <th>absences</th>\n",
       "      <td>12</td>\n",
       "      <td>3.04</td>\n",
       "    </tr>\n",
       "    <tr>\n",
       "      <th>freetime</th>\n",
       "      <td>11</td>\n",
       "      <td>2.78</td>\n",
       "    </tr>\n",
       "    <tr>\n",
       "      <th>schoolsup</th>\n",
       "      <td>9</td>\n",
       "      <td>2.28</td>\n",
       "    </tr>\n",
       "    <tr>\n",
       "      <th>goout</th>\n",
       "      <td>8</td>\n",
       "      <td>2.03</td>\n",
       "    </tr>\n",
       "    <tr>\n",
       "      <th>studytime</th>\n",
       "      <td>7</td>\n",
       "      <td>1.77</td>\n",
       "    </tr>\n",
       "    <tr>\n",
       "      <th>studytime, granular</th>\n",
       "      <td>7</td>\n",
       "      <td>1.77</td>\n",
       "    </tr>\n",
       "    <tr>\n",
       "      <th>score</th>\n",
       "      <td>6</td>\n",
       "      <td>1.52</td>\n",
       "    </tr>\n",
       "    <tr>\n",
       "      <th>Medu</th>\n",
       "      <td>3</td>\n",
       "      <td>0.76</td>\n",
       "    </tr>\n",
       "    <tr>\n",
       "      <th>sex</th>\n",
       "      <td>0</td>\n",
       "      <td>0.00</td>\n",
       "    </tr>\n",
       "    <tr>\n",
       "      <th>age</th>\n",
       "      <td>0</td>\n",
       "      <td>0.00</td>\n",
       "    </tr>\n",
       "    <tr>\n",
       "      <th>school</th>\n",
       "      <td>0</td>\n",
       "      <td>0.00</td>\n",
       "    </tr>\n",
       "  </tbody>\n",
       "</table>\n",
       "</div>"
      ],
      "text/plain": [
       "                     Всего NaN  % NaN\n",
       "Pstatus                     45  11.39\n",
       "paid                        40  10.13\n",
       "famsup                      39   9.87\n",
       "Fjob                        36   9.11\n",
       "internet                    34   8.61\n",
       "romantic                    31   7.85\n",
       "guardian                    31   7.85\n",
       "traveltime                  28   7.09\n",
       "famrel                      27   6.84\n",
       "famsize                     27   6.84\n",
       "Fedu                        24   6.08\n",
       "failures                    22   5.57\n",
       "higher                      20   5.06\n",
       "Mjob                        19   4.81\n",
       "reason                      17   4.30\n",
       "address                     17   4.30\n",
       "nursery                     16   4.05\n",
       "health                      15   3.80\n",
       "activities                  14   3.54\n",
       "absences                    12   3.04\n",
       "freetime                    11   2.78\n",
       "schoolsup                    9   2.28\n",
       "goout                        8   2.03\n",
       "studytime                    7   1.77\n",
       "studytime, granular          7   1.77\n",
       "score                        6   1.52\n",
       "Medu                         3   0.76\n",
       "sex                          0   0.00\n",
       "age                          0   0.00\n",
       "school                       0   0.00"
      ]
     },
     "execution_count": 23,
     "metadata": {},
     "output_type": "execute_result"
    }
   ],
   "source": [
    "def table(df):\n",
    "    x = pd.DataFrame()\n",
    "    x['Всего NaN'] = df.isna().sum()\n",
    "    x['% NaN'] = round((x['Всего NaN'] / df.shape[0])*100, 2)\n",
    "    x = x[x['% NaN'] != 0].sort_values('% NaN', ascending=False)\n",
    "    return x\n",
    "\n",
    "\n",
    "table(data)"
   ]
  },
  {
   "cell_type": "markdown",
   "metadata": {},
   "source": [
    "Проще сказать где нет Nan ))) "
   ]
  },
  {
   "cell_type": "markdown",
   "metadata": {},
   "source": [
    "Обратим внимание, что в описании 29 строк, а по факту 30. В описании отсутствует информация о 'studytime, granular'. Возможно этот столбец имеет связь со столбцом 'studytime'. "
   ]
  },
  {
   "cell_type": "code",
   "execution_count": 24,
   "metadata": {},
   "outputs": [
    {
     "data": {
      "text/html": [
       "<div>\n",
       "<style scoped>\n",
       "    .dataframe tbody tr th:only-of-type {\n",
       "        vertical-align: middle;\n",
       "    }\n",
       "\n",
       "    .dataframe tbody tr th {\n",
       "        vertical-align: top;\n",
       "    }\n",
       "\n",
       "    .dataframe thead th {\n",
       "        text-align: right;\n",
       "    }\n",
       "</style>\n",
       "<table border=\"1\" class=\"dataframe\">\n",
       "  <thead>\n",
       "    <tr style=\"text-align: right;\">\n",
       "      <th></th>\n",
       "      <th>studytime</th>\n",
       "      <th>studytime, granular</th>\n",
       "    </tr>\n",
       "  </thead>\n",
       "  <tbody>\n",
       "    <tr>\n",
       "      <th>studytime</th>\n",
       "      <td>1.0</td>\n",
       "      <td>-1.0</td>\n",
       "    </tr>\n",
       "    <tr>\n",
       "      <th>studytime, granular</th>\n",
       "      <td>-1.0</td>\n",
       "      <td>1.0</td>\n",
       "    </tr>\n",
       "  </tbody>\n",
       "</table>\n",
       "</div>"
      ],
      "text/plain": [
       "                     studytime  studytime, granular\n",
       "studytime                  1.0                 -1.0\n",
       "studytime, granular       -1.0                  1.0"
      ]
     },
     "execution_count": 24,
     "metadata": {},
     "output_type": "execute_result"
    }
   ],
   "source": [
    "dt.loc[:,['studytime','studytime, granular']].corr()"
   ]
  },
  {
   "cell_type": "code",
   "execution_count": 33,
   "metadata": {},
   "outputs": [
    {
     "data": {
      "text/plain": [
       "<matplotlib.axes._subplots.AxesSubplot at 0x1c181193b08>"
      ]
     },
     "execution_count": 33,
     "metadata": {},
     "output_type": "execute_result"
    },
    {
     "data": {
      "image/png": "[encoded data removed]",
      "text/plain": [
       "<Figure size 432x288 with 1 Axes>"
      ]
     },
     "metadata": {
      "needs_background": "light"
     },
     "output_type": "display_data"
    }
   ],
   "source": [
    "sns.countplot(x=dt['studytime'], data=dt)"
   ]
  },
  {
   "cell_type": "code",
   "execution_count": 30,
   "metadata": {},
   "outputs": [
    {
     "data": {
      "text/plain": [
       "<matplotlib.axes._subplots.AxesSubplot at 0x1c18107d608>"
      ]
     },
     "execution_count": 30,
     "metadata": {},
     "output_type": "execute_result"
    },
    {
     "data": {
      "image/png": "[encoded data removed]",
      "text/plain": [
       "<Figure size 432x288 with 1 Axes>"
      ]
     },
     "metadata": {
      "needs_background": "light"
     },
     "output_type": "display_data"
    }
   ],
   "source": [
    "sns.countplot(x=dt['studytime, granular'], data=dt)"
   ]
  },
  {
   "cell_type": "markdown",
   "metadata": {},
   "source": [
    "Вывод: у столбцов очевидная прямая отрицательная корреляция. Какая информация содержится в 'studytime, granular' остается неизвестным. Скорее всего произошла ошибка и эти данные можно удалить, эти данные не отображены в техническом описании."
   ]
  },
  {
   "cell_type": "code",
   "execution_count": 34,
   "metadata": {},
   "outputs": [],
   "source": [
    "# Удаление признака studytime, granular из датафрейма\n",
    "dt = dt.drop(['studytime, granular'], axis=1)"
   ]
  },
  {
   "cell_type": "markdown",
   "metadata": {},
   "source": [
    "   Прежде чем приступить к непосредственному анализу данных их очистки и приведению к удобному для дальнейшей обработки виду, их следует разделить. Признаки в датасете можно разделить на две категории: количественные(числовые) и номинативные(категориальные). Для каждой категории у нас будут определенные методы анализа и восстановления данных."
   ]
  },
  {
   "cell_type": "code",
   "execution_count": 38,
   "metadata": {},
   "outputs": [
    {
     "name": "stdout",
     "output_type": "stream",
     "text": [
      "Количество категориальных признаков: 17\n",
      "['school', 'sex', 'address', 'famsize', 'p_status', 'm_job', 'f_job', 'reason', 'guardian', 'schoolsup', 'famsup', 'paid', 'activities', 'nursery', 'higher', 'internet', 'romantic']\n",
      "========================================================================================================================\n",
      "Количество числовых признаков: 12\n",
      "['age', 'm_edu', 'f_edu', 'traveltime', 'studytime', 'failures', 'famrel', 'freetime', 'go_out', 'health', 'absences', 'score']\n"
     ]
    }
   ],
   "source": [
    "categorical_col = [\n",
    "    col for col in dt.columns if dt[col].dtype.name == 'object']\n",
    "numerical_col = [\n",
    "    col for col in dt.columns if dt[col].dtype.name != 'object']\n",
    "\n",
    "print(f'Количество категориальных признаков: {len(categorical_col)}')\n",
    "print(categorical_col)\n",
    "print(60*'==')\n",
    "print(f'Количество числовых признаков: {len(numerical_col)}')\n",
    "print(numerical_col)"
   ]
  },
  {
   "cell_type": "markdown",
   "metadata": {},
   "source": [
    "## Функции обработки датасета:"
   ]
  },
  {
   "cell_type": "markdown",
   "metadata": {},
   "source": [
    "Для ускорения процессов анализа данных напишем несколько функций:\n",
    "    1. ColumnInfo() - эта функция будет выдавать информацию о количестве уникальных значений указанного признака и его распределении, также она показывает количество пропущенных значений и строит график распределения величины текущей (неизмененной) выборки признака;\n",
    "    2. ColumnApdateInfo() - строит график распределения величины текущей выборки признака после введеных изменнений;\n",
    "    3. FillNan() - заполняет отсутствующие значения колонки признака ее средним значением."
   ]
  },
  {
   "cell_type": "code",
   "execution_count": 48,
   "metadata": {},
   "outputs": [],
   "source": [
    "def ColumnInfo(col):\n",
    "    print(f'Список уникальных значений колонки: {col.unique()}')\n",
    "    print(60*'==')\n",
    "    print(f'Распределение данных: {col.describe()}')\n",
    "    print(60*'==')\n",
    "    print(f'Количество пропущенных ячеек: {dt.shape[0]-col.count()}')\n",
    "    plt.figure(figsize=(15, 7))\n",
    "    return sns.countplot(x=col, data=dt)\n",
    "\n",
    "\n",
    "def ColumnApdateInfo(x):\n",
    "    print(f'Количество пропущенных ячеек: {dt.shape[0]-x.count()}')\n",
    "    plt.figure(figsize=(15, 7))\n",
    "    return sns.countplot(x=x, data=dt)\n",
    "\n",
    "\n",
    "def FillNan(coll):\n",
    "    column_means = round(coll.mean(), 0)\n",
    "    coll = coll.fillna(column_means, inplace=True)\n",
    "    return coll"
   ]
  },
  {
   "cell_type": "markdown",
   "metadata": {},
   "source": [
    "## Рассмотрим количественные признаки:"
   ]
  },
  {
   "cell_type": "code",
   "execution_count": 49,
   "metadata": {},
   "outputs": [
    {
     "data": {
      "text/html": [
       "<div>\n",
       "<style scoped>\n",
       "    .dataframe tbody tr th:only-of-type {\n",
       "        vertical-align: middle;\n",
       "    }\n",
       "\n",
       "    .dataframe tbody tr th {\n",
       "        vertical-align: top;\n",
       "    }\n",
       "\n",
       "    .dataframe thead th {\n",
       "        text-align: right;\n",
       "    }\n",
       "</style>\n",
       "<table border=\"1\" class=\"dataframe\">\n",
       "  <thead>\n",
       "    <tr style=\"text-align: right;\">\n",
       "      <th></th>\n",
       "      <th>age</th>\n",
       "      <th>m_edu</th>\n",
       "      <th>f_edu</th>\n",
       "      <th>traveltime</th>\n",
       "      <th>studytime</th>\n",
       "      <th>failures</th>\n",
       "      <th>famrel</th>\n",
       "      <th>freetime</th>\n",
       "      <th>go_out</th>\n",
       "      <th>health</th>\n",
       "      <th>absences</th>\n",
       "      <th>score</th>\n",
       "    </tr>\n",
       "  </thead>\n",
       "  <tbody>\n",
       "    <tr>\n",
       "      <th>count</th>\n",
       "      <td>395.000000</td>\n",
       "      <td>395.000000</td>\n",
       "      <td>371.000000</td>\n",
       "      <td>367.000000</td>\n",
       "      <td>388.000000</td>\n",
       "      <td>373.000000</td>\n",
       "      <td>368.000000</td>\n",
       "      <td>384.000000</td>\n",
       "      <td>387.000000</td>\n",
       "      <td>380.000000</td>\n",
       "      <td>383.000000</td>\n",
       "      <td>389.000000</td>\n",
       "    </tr>\n",
       "    <tr>\n",
       "      <th>mean</th>\n",
       "      <td>16.696203</td>\n",
       "      <td>2.751899</td>\n",
       "      <td>2.614555</td>\n",
       "      <td>1.438692</td>\n",
       "      <td>2.038660</td>\n",
       "      <td>0.337802</td>\n",
       "      <td>3.937500</td>\n",
       "      <td>3.231771</td>\n",
       "      <td>3.105943</td>\n",
       "      <td>3.531579</td>\n",
       "      <td>7.279373</td>\n",
       "      <td>52.262211</td>\n",
       "    </tr>\n",
       "    <tr>\n",
       "      <th>std</th>\n",
       "      <td>1.276043</td>\n",
       "      <td>1.094154</td>\n",
       "      <td>2.228732</td>\n",
       "      <td>0.694181</td>\n",
       "      <td>0.842078</td>\n",
       "      <td>0.743135</td>\n",
       "      <td>0.927277</td>\n",
       "      <td>0.993940</td>\n",
       "      <td>1.115896</td>\n",
       "      <td>1.396019</td>\n",
       "      <td>23.465197</td>\n",
       "      <td>22.919022</td>\n",
       "    </tr>\n",
       "    <tr>\n",
       "      <th>min</th>\n",
       "      <td>15.000000</td>\n",
       "      <td>0.000000</td>\n",
       "      <td>0.000000</td>\n",
       "      <td>1.000000</td>\n",
       "      <td>1.000000</td>\n",
       "      <td>0.000000</td>\n",
       "      <td>-1.000000</td>\n",
       "      <td>1.000000</td>\n",
       "      <td>1.000000</td>\n",
       "      <td>1.000000</td>\n",
       "      <td>0.000000</td>\n",
       "      <td>0.000000</td>\n",
       "    </tr>\n",
       "    <tr>\n",
       "      <th>25%</th>\n",
       "      <td>16.000000</td>\n",
       "      <td>2.000000</td>\n",
       "      <td>2.000000</td>\n",
       "      <td>1.000000</td>\n",
       "      <td>1.000000</td>\n",
       "      <td>0.000000</td>\n",
       "      <td>4.000000</td>\n",
       "      <td>3.000000</td>\n",
       "      <td>2.000000</td>\n",
       "      <td>3.000000</td>\n",
       "      <td>0.000000</td>\n",
       "      <td>40.000000</td>\n",
       "    </tr>\n",
       "    <tr>\n",
       "      <th>50%</th>\n",
       "      <td>17.000000</td>\n",
       "      <td>3.000000</td>\n",
       "      <td>2.000000</td>\n",
       "      <td>1.000000</td>\n",
       "      <td>2.000000</td>\n",
       "      <td>0.000000</td>\n",
       "      <td>4.000000</td>\n",
       "      <td>3.000000</td>\n",
       "      <td>3.000000</td>\n",
       "      <td>4.000000</td>\n",
       "      <td>4.000000</td>\n",
       "      <td>55.000000</td>\n",
       "    </tr>\n",
       "    <tr>\n",
       "      <th>75%</th>\n",
       "      <td>18.000000</td>\n",
       "      <td>4.000000</td>\n",
       "      <td>3.000000</td>\n",
       "      <td>2.000000</td>\n",
       "      <td>2.000000</td>\n",
       "      <td>0.000000</td>\n",
       "      <td>5.000000</td>\n",
       "      <td>4.000000</td>\n",
       "      <td>4.000000</td>\n",
       "      <td>5.000000</td>\n",
       "      <td>8.000000</td>\n",
       "      <td>70.000000</td>\n",
       "    </tr>\n",
       "    <tr>\n",
       "      <th>max</th>\n",
       "      <td>22.000000</td>\n",
       "      <td>4.000000</td>\n",
       "      <td>40.000000</td>\n",
       "      <td>4.000000</td>\n",
       "      <td>4.000000</td>\n",
       "      <td>3.000000</td>\n",
       "      <td>5.000000</td>\n",
       "      <td>5.000000</td>\n",
       "      <td>5.000000</td>\n",
       "      <td>5.000000</td>\n",
       "      <td>385.000000</td>\n",
       "      <td>100.000000</td>\n",
       "    </tr>\n",
       "  </tbody>\n",
       "</table>\n",
       "</div>"
      ],
      "text/plain": [
       "              age       m_edu       f_edu  traveltime   studytime    failures  \\\n",
       "count  395.000000  395.000000  371.000000  367.000000  388.000000  373.000000   \n",
       "mean    16.696203    2.751899    2.614555    1.438692    2.038660    0.337802   \n",
       "std      1.276043    1.094154    2.228732    0.694181    0.842078    0.743135   \n",
       "min     15.000000    0.000000    0.000000    1.000000    1.000000    0.000000   \n",
       "25%     16.000000    2.000000    2.000000    1.000000    1.000000    0.000000   \n",
       "50%     17.000000    3.000000    2.000000    1.000000    2.000000    0.000000   \n",
       "75%     18.000000    4.000000    3.000000    2.000000    2.000000    0.000000   \n",
       "max     22.000000    4.000000   40.000000    4.000000    4.000000    3.000000   \n",
       "\n",
       "           famrel    freetime      go_out      health    absences       score  \n",
       "count  368.000000  384.000000  387.000000  380.000000  383.000000  389.000000  \n",
       "mean     3.937500    3.231771    3.105943    3.531579    7.279373   52.262211  \n",
       "std      0.927277    0.993940    1.115896    1.396019   23.465197   22.919022  \n",
       "min     -1.000000    1.000000    1.000000    1.000000    0.000000    0.000000  \n",
       "25%      4.000000    3.000000    2.000000    3.000000    0.000000   40.000000  \n",
       "50%      4.000000    3.000000    3.000000    4.000000    4.000000   55.000000  \n",
       "75%      5.000000    4.000000    4.000000    5.000000    8.000000   70.000000  \n",
       "max      5.000000    5.000000    5.000000    5.000000  385.000000  100.000000  "
      ]
     },
     "execution_count": 49,
     "metadata": {},
     "output_type": "execute_result"
    }
   ],
   "source": [
    "dt[numerical_col].describe()"
   ]
  },
  {
   "cell_type": "markdown",
   "metadata": {},
   "source": [
    "Из таблицы полученных значении видно, что только в столбце 'age' нет пропущенных значений. В столбцах 'Fedu', 'absences' и 'famrel' похоже есть выбросы, изучим каждую колонку более подробно:"
   ]
  },
  {
   "cell_type": "markdown",
   "metadata": {},
   "source": [
    "### Колонка Age (возраст ученика):"
   ]
  },
  {
   "cell_type": "code",
   "execution_count": 50,
   "metadata": {},
   "outputs": [
    {
     "name": "stdout",
     "output_type": "stream",
     "text": [
      "Список уникальных значений колонки: [18 17 15 16 19 22 20 21]\n",
      "========================================================================================================================\n",
      "Распределение данных: count    395.000000\n",
      "mean      16.696203\n",
      "std        1.276043\n",
      "min       15.000000\n",
      "25%       16.000000\n",
      "50%       17.000000\n",
      "75%       18.000000\n",
      "max       22.000000\n",
      "Name: age, dtype: float64\n",
      "========================================================================================================================\n",
      "Количество пропущенных ячеек: 0\n"
     ]
    },
    {
     "data": {
      "text/plain": [
       "<matplotlib.axes._subplots.AxesSubplot at 0x1c181a54cc8>"
      ]
     },
     "execution_count": 50,
     "metadata": {},
     "output_type": "execute_result"
    },
    {
     "data": {
      "image/png": "[encoded data removed]",
      "text/plain": [
       "<Figure size 1080x504 with 1 Axes>"
      ]
     },
     "metadata": {
      "needs_background": "light"
     },
     "output_type": "display_data"
    }
   ],
   "source": [
    "ColumnInfo(data.age)"
   ]
  },
  {
   "cell_type": "markdown",
   "metadata": {},
   "source": [
    "В колонке Age нет пропущенных значений и аномальных выбросов значений. Вопросы могли бы вызвать значения возрастной группы от 18 лет, но в самом задании сказано: отследить влияние условий жизни учащихся в возрасте от 15 до 22 лет. Все значения попадают в заданный интервал."
   ]
  },
  {
   "cell_type": "markdown",
   "metadata": {},
   "source": [
    "### Колонка m_edu:\n",
    "Образование матери (0 - нет, 1 - 4 класса, 2 - 5-9 классы, 3 - среднее специальное или 11 классов, 4 - высшее)"
   ]
  },
  {
   "cell_type": "code",
   "execution_count": 51,
   "metadata": {},
   "outputs": [
    {
     "name": "stdout",
     "output_type": "stream",
     "text": [
      "Список уникальных значений колонки: [4. 1. 3. 2. 0.]\n",
      "========================================================================================================================\n",
      "Распределение данных: count    395.000000\n",
      "mean       2.751899\n",
      "std        1.094154\n",
      "min        0.000000\n",
      "25%        2.000000\n",
      "50%        3.000000\n",
      "75%        4.000000\n",
      "max        4.000000\n",
      "Name: m_edu, dtype: float64\n",
      "========================================================================================================================\n",
      "Количество пропущенных ячеек: 0\n"
     ]
    },
    {
     "data": {
      "text/plain": [
       "<matplotlib.axes._subplots.AxesSubplot at 0x1c1819c3bc8>"
      ]
     },
     "execution_count": 51,
     "metadata": {},
     "output_type": "execute_result"
    },
    {
     "data": {
      "image/png": "[encoded data removed]",
      "text/plain": [
       "<Figure size 1080x504 with 1 Axes>"
      ]
     },
     "metadata": {
      "needs_background": "light"
     },
     "output_type": "display_data"
    }
   ],
   "source": [
    "ColumnInfo(dt.m_edu)"
   ]
  },
  {
   "cell_type": "markdown",
   "metadata": {},
   "source": [
    "Заполнить пропущенные значения можно с помощью метода fillna. Заполним, например, медианными значениями и и округлим до целого числа."
   ]
  },
  {
   "cell_type": "code",
   "execution_count": 52,
   "metadata": {},
   "outputs": [
    {
     "name": "stdout",
     "output_type": "stream",
     "text": [
      "Количество пропущенных ячеек: 0\n"
     ]
    },
    {
     "data": {
      "text/plain": [
       "<matplotlib.axes._subplots.AxesSubplot at 0x1c181dcc708>"
      ]
     },
     "execution_count": 52,
     "metadata": {},
     "output_type": "execute_result"
    },
    {
     "data": {
      "image/png": "[encoded data removed]",
      "text/plain": [
       "<Figure size 1080x504 with 1 Axes>"
      ]
     },
     "metadata": {
      "needs_background": "light"
     },
     "output_type": "display_data"
    }
   ],
   "source": [
    "FillNan(dt.m_edu)\n",
    "ColumnApdateInfo(dt.m_edu)"
   ]
  },
  {
   "cell_type": "markdown",
   "metadata": {},
   "source": [
    "В колонке m_edu устранены пропущенные значения, аномальных выбросов значений нет. Исходя из полученного графика большинство матерей имеют среднее или среднее-специальное образование. "
   ]
  },
  {
   "cell_type": "markdown",
   "metadata": {},
   "source": [
    "### Колонка f_edu:\n",
    "Образование отца (0 - нет, 1 - 4 класса, 2 - 5-9 классы, 3 - среднее специальное или 11 классов, 4 - высшее)"
   ]
  },
  {
   "cell_type": "code",
   "execution_count": 53,
   "metadata": {},
   "outputs": [
    {
     "name": "stdout",
     "output_type": "stream",
     "text": [
      "Список уникальных значений колонки: [ 4.  1.  2.  3. 40. nan  0.]\n",
      "========================================================================================================================\n",
      "Распределение данных: count    371.000000\n",
      "mean       2.614555\n",
      "std        2.228732\n",
      "min        0.000000\n",
      "25%        2.000000\n",
      "50%        2.000000\n",
      "75%        3.000000\n",
      "max       40.000000\n",
      "Name: f_edu, dtype: float64\n",
      "========================================================================================================================\n",
      "Количество пропущенных ячеек: 24\n"
     ]
    },
    {
     "data": {
      "text/plain": [
       "<matplotlib.axes._subplots.AxesSubplot at 0x1c181c12c88>"
      ]
     },
     "execution_count": 53,
     "metadata": {},
     "output_type": "execute_result"
    },
    {
     "data": {
      "image/png": "[encoded data removed]",
      "text/plain": [
       "<Figure size 1080x504 with 1 Axes>"
      ]
     },
     "metadata": {
      "needs_background": "light"
     },
     "output_type": "display_data"
    }
   ],
   "source": [
    "ColumnInfo(dt.f_edu)"
   ]
  },
  {
   "cell_type": "markdown",
   "metadata": {},
   "source": [
    "Имеется выброс равный 40 скорее всего произошла опечатка и возможное значение это 4. Заменим это значение."
   ]
  },
  {
   "cell_type": "code",
   "execution_count": 54,
   "metadata": {},
   "outputs": [],
   "source": [
    "dt.f_edu = dt.f_edu.apply(lambda x: 4 if x == 40 else x)"
   ]
  },
  {
   "cell_type": "markdown",
   "metadata": {},
   "source": [
    "Заполним пропущенные значения:"
   ]
  },
  {
   "cell_type": "code",
   "execution_count": 55,
   "metadata": {},
   "outputs": [
    {
     "name": "stdout",
     "output_type": "stream",
     "text": [
      "Количество пропущенных ячеек: 0\n"
     ]
    },
    {
     "data": {
      "text/plain": [
       "<matplotlib.axes._subplots.AxesSubplot at 0x1c182195748>"
      ]
     },
     "execution_count": 55,
     "metadata": {},
     "output_type": "execute_result"
    },
    {
     "data": {
      "image/png": "[encoded data removed]",
      "text/plain": [
       "<Figure size 1080x504 with 1 Axes>"
      ]
     },
     "metadata": {
      "needs_background": "light"
     },
     "output_type": "display_data"
    }
   ],
   "source": [
    "FillNan(dt.f_edu)\n",
    "ColumnApdateInfo(dt.f_edu)"
   ]
  },
  {
   "cell_type": "markdown",
   "metadata": {},
   "source": [
    "В колонке f_edu устранены пропущенные значения и аномальные выбросы. Исходя из полученного графика большинство отцов имеют среднее или среднее-специальное образование. "
   ]
  },
  {
   "cell_type": "markdown",
   "metadata": {},
   "source": [
    "### Колонка traveltime:\n",
    "Время в пути до школы (1 - <15 мин., 2 - 15-30 мин., 3 - 30-60 мин., 4 - >60 мин.)"
   ]
  },
  {
   "cell_type": "code",
   "execution_count": 56,
   "metadata": {},
   "outputs": [
    {
     "name": "stdout",
     "output_type": "stream",
     "text": [
      "Список уникальных значений колонки: [ 2.  1.  3. nan  4.]\n",
      "========================================================================================================================\n",
      "Распределение данных: count    367.000000\n",
      "mean       1.438692\n",
      "std        0.694181\n",
      "min        1.000000\n",
      "25%        1.000000\n",
      "50%        1.000000\n",
      "75%        2.000000\n",
      "max        4.000000\n",
      "Name: traveltime, dtype: float64\n",
      "========================================================================================================================\n",
      "Количество пропущенных ячеек: 28\n"
     ]
    },
    {
     "data": {
      "text/plain": [
       "<matplotlib.axes._subplots.AxesSubplot at 0x1c181fa2a08>"
      ]
     },
     "execution_count": 56,
     "metadata": {},
     "output_type": "execute_result"
    },
    {
     "data": {
      "image/png": "[encoded data removed]",
      "text/plain": [
       "<Figure size 1080x504 with 1 Axes>"
      ]
     },
     "metadata": {
      "needs_background": "light"
     },
     "output_type": "display_data"
    }
   ],
   "source": [
    "ColumnInfo(dt.traveltime)"
   ]
  },
  {
   "cell_type": "markdown",
   "metadata": {},
   "source": [
    "Заполним пропущенные значения:"
   ]
  },
  {
   "cell_type": "code",
   "execution_count": 57,
   "metadata": {},
   "outputs": [
    {
     "name": "stdout",
     "output_type": "stream",
     "text": [
      "Количество пропущенных ячеек: 0\n"
     ]
    },
    {
     "data": {
      "text/plain": [
       "<matplotlib.axes._subplots.AxesSubplot at 0x1c18237a988>"
      ]
     },
     "execution_count": 57,
     "metadata": {},
     "output_type": "execute_result"
    },
    {
     "data": {
      "image/png": "[encoded data removed]",
      "text/plain": [
       "<Figure size 1080x504 with 1 Axes>"
      ]
     },
     "metadata": {
      "needs_background": "light"
     },
     "output_type": "display_data"
    }
   ],
   "source": [
    "FillNan(dt.traveltime)\n",
    "ColumnApdateInfo(dt.traveltime)"
   ]
  },
  {
   "cell_type": "markdown",
   "metadata": {},
   "source": [
    "У большинства учащихся время до школы занимает не более 15 мин."
   ]
  },
  {
   "cell_type": "markdown",
   "metadata": {},
   "source": [
    "### Колонка studytime:\n",
    "Время на учёбу помимо школы в неделю (1 - <2 часов, 2 - 2-5 часов, 3 - 5-10 часов, 4 - >10 часов)"
   ]
  },
  {
   "cell_type": "code",
   "execution_count": 58,
   "metadata": {},
   "outputs": [
    {
     "name": "stdout",
     "output_type": "stream",
     "text": [
      "Список уникальных значений колонки: [ 2.  3.  1. nan  4.]\n",
      "========================================================================================================================\n",
      "Распределение данных: count    388.000000\n",
      "mean       2.038660\n",
      "std        0.842078\n",
      "min        1.000000\n",
      "25%        1.000000\n",
      "50%        2.000000\n",
      "75%        2.000000\n",
      "max        4.000000\n",
      "Name: studytime, dtype: float64\n",
      "========================================================================================================================\n",
      "Количество пропущенных ячеек: 7\n"
     ]
    },
    {
     "data": {
      "text/plain": [
       "<matplotlib.axes._subplots.AxesSubplot at 0x1c182575b08>"
      ]
     },
     "execution_count": 58,
     "metadata": {},
     "output_type": "execute_result"
    },
    {
     "data": {
      "image/png": "[encoded data removed]",
      "text/plain": [
       "<Figure size 1080x504 with 1 Axes>"
      ]
     },
     "metadata": {
      "needs_background": "light"
     },
     "output_type": "display_data"
    }
   ],
   "source": [
    "ColumnInfo(dt.studytime)"
   ]
  },
  {
   "cell_type": "markdown",
   "metadata": {},
   "source": [
    "Заполним пропущенные значения:"
   ]
  },
  {
   "cell_type": "code",
   "execution_count": 59,
   "metadata": {},
   "outputs": [
    {
     "name": "stdout",
     "output_type": "stream",
     "text": [
      "Количество пропущенных ячеек: 0\n"
     ]
    },
    {
     "data": {
      "text/plain": [
       "<matplotlib.axes._subplots.AxesSubplot at 0x1c182590748>"
      ]
     },
     "execution_count": 59,
     "metadata": {},
     "output_type": "execute_result"
    },
    {
     "data": {
      "image/png": "[encoded data removed]",
      "text/plain": [
       "<Figure size 1080x504 with 1 Axes>"
      ]
     },
     "metadata": {
      "needs_background": "light"
     },
     "output_type": "display_data"
    }
   ],
   "source": [
    "FillNan(dt.studytime)\n",
    "ColumnApdateInfo(dt.studytime)"
   ]
  },
  {
   "cell_type": "raw",
   "metadata": {},
   "source": [
    "Учащиеся тратят в среднем 2-5 часов на учебу во внеучебное время."
   ]
  },
  {
   "cell_type": "markdown",
   "metadata": {},
   "source": [
    "### Колонка failures:\n",
    "Количество внеучебных неудач (n, если 1<=n<3, иначе 0)"
   ]
  },
  {
   "cell_type": "code",
   "execution_count": 256,
   "metadata": {},
   "outputs": [
    {
     "name": "stdout",
     "output_type": "stream",
     "text": [
      "Список уникальных значений колонки: [ 0.  3. nan  2.  1.]\n",
      "========================================================================================================================\n",
      "Распределение данных: count    373.000000\n",
      "mean       0.337802\n",
      "std        0.743135\n",
      "min        0.000000\n",
      "25%        0.000000\n",
      "50%        0.000000\n",
      "75%        0.000000\n",
      "max        3.000000\n",
      "Name: failures, dtype: float64\n",
      "========================================================================================================================\n",
      "Количество пропущенных ячеек: 22\n"
     ]
    },
    {
     "data": {
      "text/plain": [
       "<matplotlib.axes._subplots.AxesSubplot at 0x1b140e8c788>"
      ]
     },
     "execution_count": 256,
     "metadata": {},
     "output_type": "execute_result"
    },
    {
     "data": {
      "image/png": "[encoded data removed]",
      "text/plain": [
       "<Figure size 1080x504 with 1 Axes>"
      ]
     },
     "metadata": {
      "needs_background": "light"
     },
     "output_type": "display_data"
    }
   ],
   "source": [
    "ColumnInfo(dt.failures)"
   ]
  },
  {
   "cell_type": "markdown",
   "metadata": {},
   "source": [
    "Заполним пропущенные значения:"
   ]
  },
  {
   "cell_type": "code",
   "execution_count": 60,
   "metadata": {},
   "outputs": [
    {
     "name": "stdout",
     "output_type": "stream",
     "text": [
      "Количество пропущенных ячеек: 0\n"
     ]
    },
    {
     "data": {
      "text/plain": [
       "<matplotlib.axes._subplots.AxesSubplot at 0x1c18161a988>"
      ]
     },
     "execution_count": 60,
     "metadata": {},
     "output_type": "execute_result"
    },
    {
     "data": {
      "image/png": "[encoded data removed]",
      "text/plain": [
       "<Figure size 1080x504 with 1 Axes>"
      ]
     },
     "metadata": {
      "needs_background": "light"
     },
     "output_type": "display_data"
    }
   ],
   "source": [
    "FillNan(dt.failures)\n",
    "ColumnApdateInfo(dt.failures)"
   ]
  },
  {
   "cell_type": "markdown",
   "metadata": {},
   "source": [
    "### Колонка famrel:\n",
    "Cемейные отношения (от 1 - очень плохо до 5 - очень хорошо)"
   ]
  },
  {
   "cell_type": "code",
   "execution_count": 61,
   "metadata": {},
   "outputs": [
    {
     "name": "stdout",
     "output_type": "stream",
     "text": [
      "Список уникальных значений колонки: [ 4.  5.  3. nan -1.  2.  1.]\n",
      "========================================================================================================================\n",
      "Распределение данных: count    368.000000\n",
      "mean       3.937500\n",
      "std        0.927277\n",
      "min       -1.000000\n",
      "25%        4.000000\n",
      "50%        4.000000\n",
      "75%        5.000000\n",
      "max        5.000000\n",
      "Name: famrel, dtype: float64\n",
      "========================================================================================================================\n",
      "Количество пропущенных ячеек: 27\n"
     ]
    },
    {
     "data": {
      "text/plain": [
       "<matplotlib.axes._subplots.AxesSubplot at 0x1c1816db548>"
      ]
     },
     "execution_count": 61,
     "metadata": {},
     "output_type": "execute_result"
    },
    {
     "data": {
      "image/png": "[encoded data removed]",
      "text/plain": [
       "<Figure size 1080x504 with 1 Axes>"
      ]
     },
     "metadata": {
      "needs_background": "light"
     },
     "output_type": "display_data"
    }
   ],
   "source": [
    "ColumnInfo(dt.famrel)"
   ]
  },
  {
   "cell_type": "code",
   "execution_count": 64,
   "metadata": {},
   "outputs": [],
   "source": [
    "dt.famrel = dt.famrel.apply(lambda x: 1 if x == -1 else x)"
   ]
  },
  {
   "cell_type": "markdown",
   "metadata": {},
   "source": [
    "Заполним пропущенные значения:"
   ]
  },
  {
   "cell_type": "code",
   "execution_count": 65,
   "metadata": {},
   "outputs": [
    {
     "name": "stdout",
     "output_type": "stream",
     "text": [
      "Количество пропущенных ячеек: 0\n"
     ]
    },
    {
     "data": {
      "text/plain": [
       "<matplotlib.axes._subplots.AxesSubplot at 0x1c182b045c8>"
      ]
     },
     "execution_count": 65,
     "metadata": {},
     "output_type": "execute_result"
    },
    {
     "data": {
      "image/png": "[encoded data removed]",
      "text/plain": [
       "<Figure size 1080x504 with 1 Axes>"
      ]
     },
     "metadata": {
      "needs_background": "light"
     },
     "output_type": "display_data"
    }
   ],
   "source": [
    "FillNan(dt.famrel)\n",
    "ColumnApdateInfo(dt.famrel)"
   ]
  },
  {
   "cell_type": "markdown",
   "metadata": {},
   "source": [
    "### Колонка freetime:\n",
    "Cвободное время после школы (от 1 - очень мало до 5 - очень мого)"
   ]
  },
  {
   "cell_type": "code",
   "execution_count": 66,
   "metadata": {},
   "outputs": [
    {
     "name": "stdout",
     "output_type": "stream",
     "text": [
      "Список уникальных значений колонки: [ 3.  2.  4.  1.  5. nan]\n",
      "========================================================================================================================\n",
      "Распределение данных: count    384.000000\n",
      "mean       3.231771\n",
      "std        0.993940\n",
      "min        1.000000\n",
      "25%        3.000000\n",
      "50%        3.000000\n",
      "75%        4.000000\n",
      "max        5.000000\n",
      "Name: freetime, dtype: float64\n",
      "========================================================================================================================\n",
      "Количество пропущенных ячеек: 11\n"
     ]
    },
    {
     "data": {
      "text/plain": [
       "<matplotlib.axes._subplots.AxesSubplot at 0x1c182b295c8>"
      ]
     },
     "execution_count": 66,
     "metadata": {},
     "output_type": "execute_result"
    },
    {
     "data": {
      "image/png": "[encoded data removed]",
      "text/plain": [
       "<Figure size 1080x504 with 1 Axes>"
      ]
     },
     "metadata": {
      "needs_background": "light"
     },
     "output_type": "display_data"
    }
   ],
   "source": [
    "ColumnInfo(dt.freetime)"
   ]
  },
  {
   "cell_type": "markdown",
   "metadata": {},
   "source": [
    "Заполним пропущенные значения:"
   ]
  },
  {
   "cell_type": "code",
   "execution_count": 67,
   "metadata": {},
   "outputs": [
    {
     "name": "stdout",
     "output_type": "stream",
     "text": [
      "Количество пропущенных ячеек: 0\n"
     ]
    },
    {
     "data": {
      "text/plain": [
       "<matplotlib.axes._subplots.AxesSubplot at 0x1c1831fd108>"
      ]
     },
     "execution_count": 67,
     "metadata": {},
     "output_type": "execute_result"
    },
    {
     "data": {
      "image/png": "[encoded data removed]",
      "text/plain": [
       "<Figure size 1080x504 with 1 Axes>"
      ]
     },
     "metadata": {
      "needs_background": "light"
     },
     "output_type": "display_data"
    }
   ],
   "source": [
    "FillNan(dt.freetime)\n",
    "ColumnApdateInfo(dt.freetime)"
   ]
  },
  {
   "cell_type": "markdown",
   "metadata": {},
   "source": [
    "### Колонка goout:\n",
    "Проведение времени с друзьями (от 1 - очень мало до 5 - очень много)"
   ]
  },
  {
   "cell_type": "code",
   "execution_count": 69,
   "metadata": {},
   "outputs": [
    {
     "name": "stdout",
     "output_type": "stream",
     "text": [
      "Список уникальных значений колонки: [ 4.  3.  2.  1.  5. nan]\n",
      "========================================================================================================================\n",
      "Распределение данных: count    387.000000\n",
      "mean       3.105943\n",
      "std        1.115896\n",
      "min        1.000000\n",
      "25%        2.000000\n",
      "50%        3.000000\n",
      "75%        4.000000\n",
      "max        5.000000\n",
      "Name: go_out, dtype: float64\n",
      "========================================================================================================================\n",
      "Количество пропущенных ячеек: 8\n"
     ]
    },
    {
     "data": {
      "text/plain": [
       "<matplotlib.axes._subplots.AxesSubplot at 0x1c1837e19c8>"
      ]
     },
     "execution_count": 69,
     "metadata": {},
     "output_type": "execute_result"
    },
    {
     "data": {
      "image/png": "[encoded data removed]",
      "text/plain": [
       "<Figure size 1080x504 with 1 Axes>"
      ]
     },
     "metadata": {
      "needs_background": "light"
     },
     "output_type": "display_data"
    }
   ],
   "source": [
    "ColumnInfo(dt.go_out)"
   ]
  },
  {
   "cell_type": "markdown",
   "metadata": {},
   "source": [
    "Заполним пропущенные значения:"
   ]
  },
  {
   "cell_type": "code",
   "execution_count": 70,
   "metadata": {},
   "outputs": [
    {
     "name": "stdout",
     "output_type": "stream",
     "text": [
      "Количество пропущенных ячеек: 0\n"
     ]
    },
    {
     "data": {
      "text/plain": [
       "<matplotlib.axes._subplots.AxesSubplot at 0x1c1838396c8>"
      ]
     },
     "execution_count": 70,
     "metadata": {},
     "output_type": "execute_result"
    },
    {
     "data": {
      "image/png": "[encoded data removed]",
      "text/plain": [
       "<Figure size 1080x504 with 1 Axes>"
      ]
     },
     "metadata": {
      "needs_background": "light"
     },
     "output_type": "display_data"
    }
   ],
   "source": [
    "FillNan(dt.go_out)\n",
    "ColumnApdateInfo(dt.go_out)"
   ]
  },
  {
   "cell_type": "markdown",
   "metadata": {},
   "source": [
    "### Колонка health:\n",
    "Текущее состояние здоровья (от 1 - очень плохо до 5 - очень хорошо)"
   ]
  },
  {
   "cell_type": "code",
   "execution_count": 71,
   "metadata": {},
   "outputs": [
    {
     "name": "stdout",
     "output_type": "stream",
     "text": [
      "Список уникальных значений колонки: [ 3.  5.  1.  2.  4. nan]\n",
      "========================================================================================================================\n",
      "Распределение данных: count    380.000000\n",
      "mean       3.531579\n",
      "std        1.396019\n",
      "min        1.000000\n",
      "25%        3.000000\n",
      "50%        4.000000\n",
      "75%        5.000000\n",
      "max        5.000000\n",
      "Name: health, dtype: float64\n",
      "========================================================================================================================\n",
      "Количество пропущенных ячеек: 15\n"
     ]
    },
    {
     "data": {
      "text/plain": [
       "<matplotlib.axes._subplots.AxesSubplot at 0x1c183dfb2c8>"
      ]
     },
     "execution_count": 71,
     "metadata": {},
     "output_type": "execute_result"
    },
    {
     "data": {
      "image/png": "[encoded data removed]",
      "text/plain": [
       "<Figure size 1080x504 with 1 Axes>"
      ]
     },
     "metadata": {
      "needs_background": "light"
     },
     "output_type": "display_data"
    }
   ],
   "source": [
    "ColumnInfo(dt.health)"
   ]
  },
  {
   "cell_type": "markdown",
   "metadata": {},
   "source": [
    "Заполним пропущенные значения:"
   ]
  },
  {
   "cell_type": "code",
   "execution_count": 72,
   "metadata": {},
   "outputs": [
    {
     "name": "stdout",
     "output_type": "stream",
     "text": [
      "Количество пропущенных ячеек: 0\n"
     ]
    },
    {
     "data": {
      "text/plain": [
       "<matplotlib.axes._subplots.AxesSubplot at 0x1c183bff688>"
      ]
     },
     "execution_count": 72,
     "metadata": {},
     "output_type": "execute_result"
    },
    {
     "data": {
      "image/png": "[encoded data removed]",
      "text/plain": [
       "<Figure size 1080x504 with 1 Axes>"
      ]
     },
     "metadata": {
      "needs_background": "light"
     },
     "output_type": "display_data"
    }
   ],
   "source": [
    "FillNan(dt.health)\n",
    "ColumnApdateInfo(dt.health)"
   ]
  },
  {
   "cell_type": "markdown",
   "metadata": {},
   "source": [
    "### Колонка absences:\n",
    "Количество пропущенных занятий"
   ]
  },
  {
   "cell_type": "code",
   "execution_count": 73,
   "metadata": {},
   "outputs": [
    {
     "name": "stdout",
     "output_type": "stream",
     "text": [
      "Список уникальных значений колонки: [  6.   4.  10.   2.   0.  16.  nan  14.   7.   8.  25.  12.  54.  18.\n",
      "  26.  20.  56.  24.  28.   5.  13.  15.  22.   3. 385.  21.   1.  75.\n",
      "  30.  19.   9.  11.  38.  40.  23.  17. 212.]\n",
      "========================================================================================================================\n",
      "Распределение данных: count    383.000000\n",
      "mean       7.279373\n",
      "std       23.465197\n",
      "min        0.000000\n",
      "25%        0.000000\n",
      "50%        4.000000\n",
      "75%        8.000000\n",
      "max      385.000000\n",
      "Name: absences, dtype: float64\n",
      "========================================================================================================================\n",
      "Количество пропущенных ячеек: 12\n"
     ]
    },
    {
     "data": {
      "text/plain": [
       "<matplotlib.axes._subplots.AxesSubplot at 0x1c183828908>"
      ]
     },
     "execution_count": 73,
     "metadata": {},
     "output_type": "execute_result"
    },
    {
     "data": {
      "image/png": "[encoded data removed]",
      "text/plain": [
       "<Figure size 1080x504 with 1 Axes>"
      ]
     },
     "metadata": {
      "needs_background": "light"
     },
     "output_type": "display_data"
    }
   ],
   "source": [
    "ColumnInfo(dt.absences)"
   ]
  },
  {
   "cell_type": "markdown",
   "metadata": {},
   "source": [
    "Самый простой способ отфильтровать выбросы — воспользоваться формулой интерквартильного расстояния (межквартильного размаха). Выбросом считаются такие значения, которые лежат вне рамок\n",
    "\n",
    "percentile(25) -1.5*IQR : percentile(75)+1.5*IQR\n",
    "\n",
    "IQR = percentile(75) - percentile(25)."
   ]
  },
  {
   "cell_type": "code",
   "execution_count": 74,
   "metadata": {},
   "outputs": [
    {
     "name": "stdout",
     "output_type": "stream",
     "text": [
      "Границы выбросов - 0 : 20.0\n"
     ]
    }
   ],
   "source": [
    "percintile_25 = 0\n",
    "percintile_75 = 8\n",
    "IQR = percintile_75 - percintile_25\n",
    "\n",
    "Min = percintile_25 - 1.5*IQR\n",
    "Max = percintile_75 + 1.5*IQR\n",
    "\n",
    "if Min <= 0: Min = 0\n",
    "\n",
    "print(f'Границы выбросов - {Min} : {Max}')"
   ]
  },
  {
   "cell_type": "code",
   "execution_count": 75,
   "metadata": {},
   "outputs": [],
   "source": [
    "dt.absences = dt.absences.apply(lambda x: None if x >= 20 else x)"
   ]
  },
  {
   "cell_type": "markdown",
   "metadata": {},
   "source": [
    "Заполним пропущенные значения:"
   ]
  },
  {
   "cell_type": "code",
   "execution_count": 76,
   "metadata": {},
   "outputs": [
    {
     "name": "stdout",
     "output_type": "stream",
     "text": [
      "Количество пропущенных ячеек: 0\n"
     ]
    },
    {
     "data": {
      "text/plain": [
       "<matplotlib.axes._subplots.AxesSubplot at 0x1c183822b08>"
      ]
     },
     "execution_count": 76,
     "metadata": {},
     "output_type": "execute_result"
    },
    {
     "data": {
      "image/png": "[encoded data removed]",
      "text/plain": [
       "<Figure size 1080x504 with 1 Axes>"
      ]
     },
     "metadata": {
      "needs_background": "light"
     },
     "output_type": "display_data"
    }
   ],
   "source": [
    "FillNan(dt.absences)\n",
    "ColumnApdateInfo(dt.absences)"
   ]
  },
  {
   "cell_type": "markdown",
   "metadata": {},
   "source": [
    "### Колонка score:\n",
    "Баллы по госэкзамену по математике"
   ]
  },
  {
   "cell_type": "code",
   "execution_count": 77,
   "metadata": {},
   "outputs": [
    {
     "name": "stdout",
     "output_type": "stream",
     "text": [
      "Список уникальных значений колонки: [ 30.  50.  75.  55.  95.  45.  60.  70.  80.  25.  40.  85.  90.  65.\n",
      " 100.  35.   0.  nan  20.]\n",
      "========================================================================================================================\n",
      "Распределение данных: count    389.000000\n",
      "mean      52.262211\n",
      "std       22.919022\n",
      "min        0.000000\n",
      "25%       40.000000\n",
      "50%       55.000000\n",
      "75%       70.000000\n",
      "max      100.000000\n",
      "Name: score, dtype: float64\n",
      "========================================================================================================================\n",
      "Количество пропущенных ячеек: 6\n"
     ]
    },
    {
     "data": {
      "text/plain": [
       "<matplotlib.axes._subplots.AxesSubplot at 0x1c184115c88>"
      ]
     },
     "execution_count": 77,
     "metadata": {},
     "output_type": "execute_result"
    },
    {
     "data": {
      "image/png": "[encoded data removed]",
      "text/plain": [
       "<Figure size 1080x504 with 1 Axes>"
      ]
     },
     "metadata": {
      "needs_background": "light"
     },
     "output_type": "display_data"
    }
   ],
   "source": [
    "ColumnInfo(dt.score)"
   ]
  },
  {
   "cell_type": "markdown",
   "metadata": {},
   "source": [
    "Заполним пропущенные значения:"
   ]
  },
  {
   "cell_type": "code",
   "execution_count": 78,
   "metadata": {},
   "outputs": [],
   "source": [
    "FillNan(dt.score)"
   ]
  },
  {
   "cell_type": "code",
   "execution_count": 80,
   "metadata": {
    "scrolled": true
   },
   "outputs": [
    {
     "data": {
      "text/html": [
       "<div>\n",
       "<style scoped>\n",
       "    .dataframe tbody tr th:only-of-type {\n",
       "        vertical-align: middle;\n",
       "    }\n",
       "\n",
       "    .dataframe tbody tr th {\n",
       "        vertical-align: top;\n",
       "    }\n",
       "\n",
       "    .dataframe thead th {\n",
       "        text-align: right;\n",
       "    }\n",
       "</style>\n",
       "<table border=\"1\" class=\"dataframe\">\n",
       "  <thead>\n",
       "    <tr style=\"text-align: right;\">\n",
       "      <th></th>\n",
       "      <th>age</th>\n",
       "      <th>m_edu</th>\n",
       "      <th>f_edu</th>\n",
       "      <th>traveltime</th>\n",
       "      <th>studytime</th>\n",
       "      <th>failures</th>\n",
       "      <th>famrel</th>\n",
       "      <th>freetime</th>\n",
       "      <th>go_out</th>\n",
       "      <th>health</th>\n",
       "      <th>absences</th>\n",
       "      <th>score</th>\n",
       "    </tr>\n",
       "  </thead>\n",
       "  <tbody>\n",
       "    <tr>\n",
       "      <th>count</th>\n",
       "      <td>395.000000</td>\n",
       "      <td>395.000000</td>\n",
       "      <td>395.000000</td>\n",
       "      <td>395.000000</td>\n",
       "      <td>395.000000</td>\n",
       "      <td>395.000000</td>\n",
       "      <td>395.000000</td>\n",
       "      <td>395.000000</td>\n",
       "      <td>395.000000</td>\n",
       "      <td>395.000000</td>\n",
       "      <td>395.000000</td>\n",
       "      <td>395.000000</td>\n",
       "    </tr>\n",
       "    <tr>\n",
       "      <th>mean</th>\n",
       "      <td>16.696203</td>\n",
       "      <td>2.751899</td>\n",
       "      <td>2.546835</td>\n",
       "      <td>1.407595</td>\n",
       "      <td>2.037975</td>\n",
       "      <td>0.318987</td>\n",
       "      <td>3.946835</td>\n",
       "      <td>3.225316</td>\n",
       "      <td>3.103797</td>\n",
       "      <td>3.549367</td>\n",
       "      <td>4.397468</td>\n",
       "      <td>52.258228</td>\n",
       "    </tr>\n",
       "    <tr>\n",
       "      <th>std</th>\n",
       "      <td>1.276043</td>\n",
       "      <td>1.094154</td>\n",
       "      <td>1.061418</td>\n",
       "      <td>0.678490</td>\n",
       "      <td>0.834580</td>\n",
       "      <td>0.726244</td>\n",
       "      <td>0.872425</td>\n",
       "      <td>0.980711</td>\n",
       "      <td>1.104610</td>\n",
       "      <td>1.372118</td>\n",
       "      <td>4.519163</td>\n",
       "      <td>22.743865</td>\n",
       "    </tr>\n",
       "    <tr>\n",
       "      <th>min</th>\n",
       "      <td>15.000000</td>\n",
       "      <td>0.000000</td>\n",
       "      <td>0.000000</td>\n",
       "      <td>1.000000</td>\n",
       "      <td>1.000000</td>\n",
       "      <td>0.000000</td>\n",
       "      <td>1.000000</td>\n",
       "      <td>1.000000</td>\n",
       "      <td>1.000000</td>\n",
       "      <td>1.000000</td>\n",
       "      <td>0.000000</td>\n",
       "      <td>0.000000</td>\n",
       "    </tr>\n",
       "    <tr>\n",
       "      <th>25%</th>\n",
       "      <td>16.000000</td>\n",
       "      <td>2.000000</td>\n",
       "      <td>2.000000</td>\n",
       "      <td>1.000000</td>\n",
       "      <td>1.000000</td>\n",
       "      <td>0.000000</td>\n",
       "      <td>4.000000</td>\n",
       "      <td>3.000000</td>\n",
       "      <td>2.000000</td>\n",
       "      <td>3.000000</td>\n",
       "      <td>0.000000</td>\n",
       "      <td>40.000000</td>\n",
       "    </tr>\n",
       "    <tr>\n",
       "      <th>50%</th>\n",
       "      <td>17.000000</td>\n",
       "      <td>3.000000</td>\n",
       "      <td>3.000000</td>\n",
       "      <td>1.000000</td>\n",
       "      <td>2.000000</td>\n",
       "      <td>0.000000</td>\n",
       "      <td>4.000000</td>\n",
       "      <td>3.000000</td>\n",
       "      <td>3.000000</td>\n",
       "      <td>4.000000</td>\n",
       "      <td>4.000000</td>\n",
       "      <td>55.000000</td>\n",
       "    </tr>\n",
       "    <tr>\n",
       "      <th>75%</th>\n",
       "      <td>18.000000</td>\n",
       "      <td>4.000000</td>\n",
       "      <td>3.000000</td>\n",
       "      <td>2.000000</td>\n",
       "      <td>2.000000</td>\n",
       "      <td>0.000000</td>\n",
       "      <td>4.500000</td>\n",
       "      <td>4.000000</td>\n",
       "      <td>4.000000</td>\n",
       "      <td>5.000000</td>\n",
       "      <td>6.000000</td>\n",
       "      <td>70.000000</td>\n",
       "    </tr>\n",
       "    <tr>\n",
       "      <th>max</th>\n",
       "      <td>22.000000</td>\n",
       "      <td>4.000000</td>\n",
       "      <td>4.000000</td>\n",
       "      <td>4.000000</td>\n",
       "      <td>4.000000</td>\n",
       "      <td>3.000000</td>\n",
       "      <td>5.000000</td>\n",
       "      <td>5.000000</td>\n",
       "      <td>5.000000</td>\n",
       "      <td>5.000000</td>\n",
       "      <td>19.000000</td>\n",
       "      <td>100.000000</td>\n",
       "    </tr>\n",
       "  </tbody>\n",
       "</table>\n",
       "</div>"
      ],
      "text/plain": [
       "              age       m_edu       f_edu  traveltime   studytime    failures  \\\n",
       "count  395.000000  395.000000  395.000000  395.000000  395.000000  395.000000   \n",
       "mean    16.696203    2.751899    2.546835    1.407595    2.037975    0.318987   \n",
       "std      1.276043    1.094154    1.061418    0.678490    0.834580    0.726244   \n",
       "min     15.000000    0.000000    0.000000    1.000000    1.000000    0.000000   \n",
       "25%     16.000000    2.000000    2.000000    1.000000    1.000000    0.000000   \n",
       "50%     17.000000    3.000000    3.000000    1.000000    2.000000    0.000000   \n",
       "75%     18.000000    4.000000    3.000000    2.000000    2.000000    0.000000   \n",
       "max     22.000000    4.000000    4.000000    4.000000    4.000000    3.000000   \n",
       "\n",
       "           famrel    freetime      go_out      health    absences       score  \n",
       "count  395.000000  395.000000  395.000000  395.000000  395.000000  395.000000  \n",
       "mean     3.946835    3.225316    3.103797    3.549367    4.397468   52.258228  \n",
       "std      0.872425    0.980711    1.104610    1.372118    4.519163   22.743865  \n",
       "min      1.000000    1.000000    1.000000    1.000000    0.000000    0.000000  \n",
       "25%      4.000000    3.000000    2.000000    3.000000    0.000000   40.000000  \n",
       "50%      4.000000    3.000000    3.000000    4.000000    4.000000   55.000000  \n",
       "75%      4.500000    4.000000    4.000000    5.000000    6.000000   70.000000  \n",
       "max      5.000000    5.000000    5.000000    5.000000   19.000000  100.000000  "
      ]
     },
     "execution_count": 80,
     "metadata": {},
     "output_type": "execute_result"
    }
   ],
   "source": [
    "dt[numerical_col].describe()"
   ]
  },
  {
   "cell_type": "code",
   "execution_count": 82,
   "metadata": {},
   "outputs": [
    {
     "data": {
      "image/png": "[encoded data removed]",
      "text/plain": [
       "<Figure size 864x720 with 1 Axes>"
      ]
     },
     "metadata": {
      "needs_background": "light"
     },
     "output_type": "display_data"
    }
   ],
   "source": [
    "# Создание фигуры\n",
    "fig, ax = plt.subplots(figsize=(12,10))\n",
    "\n",
    "\n",
    "# Создание графикa\n",
    "score_bar = ax.barh(dt['score'].value_counts().index,dt['score'].value_counts(),height=3,color='darkblue');\n",
    "\n",
    "\n",
    "# Настройка параметров\n",
    "#ax.set_facecolor('black')\n",
    "ax.set_xlabel('Количество учеников',fontsize=14);\n",
    "ax.set_ylabel('Оценки',fontsize=14);\n",
    "labels = ['студенты','оценки']\n",
    "ax.text(38,100,'студенты /',color='black',size=21)\n",
    "ax.text(48,100,' баллы',color='skyblue',size=21)\n",
    "ax.set_title('Баллы по госэкзамену по математике',size=14)\n",
    "\n",
    "\n",
    "# Вывод значений\n",
    "for elem in score_bar:\n",
    "    plt.text(elem.get_x() + elem.get_width()-0.5,elem.get_y()+elem.get_height()-2,elem.get_width(),\n",
    "            fontsize=10,bbox=dict(facecolor='white'))\n",
    "for elem in score_bar:\n",
    "    plt.text(elem.get_x() + elem.get_width()+1.2,elem.get_y()+elem.get_height()-2,int(elem.get_y()+1.5),\n",
    "            fontsize=10,bbox=dict(facecolor='skyblue'))\n",
    "    "
   ]
  },
  {
   "cell_type": "markdown",
   "metadata": {},
   "source": [
    "### Корреляционный анализ:"
   ]
  },
  {
   "cell_type": "markdown",
   "metadata": {},
   "source": [
    "Выясним, какие столбцы коррелируют с результатом на успеваемость по математике. Это поможет понять, какие параметры стоит оставить для модели, а какие — исключить. \n",
    "\n",
    "Корреляцию рассмотрим только для числовых столбцов:"
   ]
  },
  {
   "cell_type": "code",
   "execution_count": 83,
   "metadata": {},
   "outputs": [
    {
     "data": {
      "image/png": "[encoded data removed]",
      "text/plain": [
       "<Figure size 1224x1080 with 2 Axes>"
      ]
     },
     "metadata": {
      "needs_background": "light"
     },
     "output_type": "display_data"
    }
   ],
   "source": [
    "plt.figure(figsize=(17,15))\n",
    "sns.heatmap(dt.corr(), xticklabels=dt.corr().columns,\n",
    "            yticklabels=dt.corr().columns, \n",
    "            cmap='RdYlGn', center=0, annot=True)\n",
    "\n",
    "\n",
    "plt.title('Корреляционная матрица признаков', fontsize=22)\n",
    "plt.xticks(fontsize=12)\n",
    "plt.yticks(fontsize=12)\n",
    "plt.show()"
   ]
  },
  {
   "cell_type": "code",
   "execution_count": 85,
   "metadata": {},
   "outputs": [
    {
     "data": {
      "text/plain": [
       "age          -0.153481\n",
       "m_edu         0.207583\n",
       "f_edu         0.123559\n",
       "traveltime   -0.056016\n",
       "studytime     0.114074\n",
       "failures     -0.328451\n",
       "famrel        0.052626\n",
       "freetime      0.017298\n",
       "go_out       -0.127048\n",
       "health       -0.072955\n",
       "absences      0.073030\n",
       "Name: score, dtype: float64"
      ]
     },
     "execution_count": 85,
     "metadata": {},
     "output_type": "execute_result"
    }
   ],
   "source": [
    "dt.corr()[:-1]['score']"
   ]
  },
  {
   "cell_type": "markdown",
   "metadata": {},
   "source": [
    "### Промежуточный вывод:\n",
    "Все значения кроме 'failures' имеют очень слабую корреляцию менее 0.2. Вполне логично что с уменьшением 'failures' значение 'score' будет увеличиваться. \n",
    "Интересно обратить внимание на то что значения Medu и Fedu достаточно сильно коррелируют между собой, но при этом коэффициет корреляции Medu и score равен 0.21, а коэффициет корреляции Fedu и score равен 0.11. Можно предположить что семейные пары формируются в том числе исходя из уроня их образования, а возможно большинство пар просто знакомятся в момент учебы в колледже, университете итд. В любом слючае стоит заметить что уровень образования родителей имеет влияние на вероятность успешно сдать тест. Это еще раз доказывает отрицательная корреляция Medu и Fedu по отношению к 'failures', видимо родители помогают детям делать уроки или хотя бы дают дельные советы)."
   ]
  },
  {
   "cell_type": "markdown",
   "metadata": {},
   "source": [
    "Проверим, есть ли статистическая разница в распределении оценок по числовым признакам с помощью теста Стьюдента. \n",
    "Проверим нулевую гипотезу о том, что распределения оценок результирующего теста по различным параметрам неразличимы:"
   ]
  },
  {
   "cell_type": "markdown",
   "metadata": {},
   "source": [
    "Учтем полученные результаты и составим финальный датасет для числовых признаков:"
   ]
  },
  {
   "cell_type": "code",
   "execution_count": 87,
   "metadata": {},
   "outputs": [],
   "source": [
    "numerical_for_new_date = dt[['age', 'm_edu',\n",
    "                               'studytime', 'failures', 'go_out']]"
   ]
  },
  {
   "cell_type": "markdown",
   "metadata": {},
   "source": [
    "## Рассмотрим номинативные колонки:"
   ]
  },
  {
   "cell_type": "code",
   "execution_count": 89,
   "metadata": {},
   "outputs": [
    {
     "data": {
      "text/html": [
       "<div>\n",
       "<style scoped>\n",
       "    .dataframe tbody tr th:only-of-type {\n",
       "        vertical-align: middle;\n",
       "    }\n",
       "\n",
       "    .dataframe tbody tr th {\n",
       "        vertical-align: top;\n",
       "    }\n",
       "\n",
       "    .dataframe thead th {\n",
       "        text-align: right;\n",
       "    }\n",
       "</style>\n",
       "<table border=\"1\" class=\"dataframe\">\n",
       "  <thead>\n",
       "    <tr style=\"text-align: right;\">\n",
       "      <th></th>\n",
       "      <th>school</th>\n",
       "      <th>sex</th>\n",
       "      <th>address</th>\n",
       "      <th>famsize</th>\n",
       "      <th>p_status</th>\n",
       "      <th>m_job</th>\n",
       "      <th>f_job</th>\n",
       "      <th>reason</th>\n",
       "      <th>guardian</th>\n",
       "      <th>schoolsup</th>\n",
       "      <th>famsup</th>\n",
       "      <th>paid</th>\n",
       "      <th>activities</th>\n",
       "      <th>nursery</th>\n",
       "      <th>higher</th>\n",
       "      <th>internet</th>\n",
       "      <th>romantic</th>\n",
       "    </tr>\n",
       "  </thead>\n",
       "  <tbody>\n",
       "    <tr>\n",
       "      <th>count</th>\n",
       "      <td>395</td>\n",
       "      <td>395</td>\n",
       "      <td>378</td>\n",
       "      <td>368</td>\n",
       "      <td>350</td>\n",
       "      <td>376</td>\n",
       "      <td>359</td>\n",
       "      <td>378</td>\n",
       "      <td>364</td>\n",
       "      <td>386</td>\n",
       "      <td>356</td>\n",
       "      <td>355</td>\n",
       "      <td>381</td>\n",
       "      <td>379</td>\n",
       "      <td>375</td>\n",
       "      <td>361</td>\n",
       "      <td>364</td>\n",
       "    </tr>\n",
       "    <tr>\n",
       "      <th>unique</th>\n",
       "      <td>2</td>\n",
       "      <td>2</td>\n",
       "      <td>2</td>\n",
       "      <td>2</td>\n",
       "      <td>2</td>\n",
       "      <td>5</td>\n",
       "      <td>5</td>\n",
       "      <td>4</td>\n",
       "      <td>3</td>\n",
       "      <td>2</td>\n",
       "      <td>2</td>\n",
       "      <td>2</td>\n",
       "      <td>2</td>\n",
       "      <td>2</td>\n",
       "      <td>2</td>\n",
       "      <td>2</td>\n",
       "      <td>2</td>\n",
       "    </tr>\n",
       "    <tr>\n",
       "      <th>top</th>\n",
       "      <td>GP</td>\n",
       "      <td>F</td>\n",
       "      <td>U</td>\n",
       "      <td>GT3</td>\n",
       "      <td>T</td>\n",
       "      <td>other</td>\n",
       "      <td>other</td>\n",
       "      <td>course</td>\n",
       "      <td>mother</td>\n",
       "      <td>no</td>\n",
       "      <td>yes</td>\n",
       "      <td>no</td>\n",
       "      <td>yes</td>\n",
       "      <td>yes</td>\n",
       "      <td>yes</td>\n",
       "      <td>yes</td>\n",
       "      <td>no</td>\n",
       "    </tr>\n",
       "    <tr>\n",
       "      <th>freq</th>\n",
       "      <td>349</td>\n",
       "      <td>208</td>\n",
       "      <td>295</td>\n",
       "      <td>261</td>\n",
       "      <td>314</td>\n",
       "      <td>133</td>\n",
       "      <td>197</td>\n",
       "      <td>137</td>\n",
       "      <td>250</td>\n",
       "      <td>335</td>\n",
       "      <td>219</td>\n",
       "      <td>200</td>\n",
       "      <td>195</td>\n",
       "      <td>300</td>\n",
       "      <td>356</td>\n",
       "      <td>305</td>\n",
       "      <td>240</td>\n",
       "    </tr>\n",
       "  </tbody>\n",
       "</table>\n",
       "</div>"
      ],
      "text/plain": [
       "       school  sex address famsize p_status  m_job  f_job  reason guardian  \\\n",
       "count     395  395     378     368      350    376    359     378      364   \n",
       "unique      2    2       2       2        2      5      5       4        3   \n",
       "top        GP    F       U     GT3        T  other  other  course   mother   \n",
       "freq      349  208     295     261      314    133    197     137      250   \n",
       "\n",
       "       schoolsup famsup paid activities nursery higher internet romantic  \n",
       "count        386    356  355        381     379    375      361      364  \n",
       "unique         2      2    2          2       2      2        2        2  \n",
       "top           no    yes   no        yes     yes    yes      yes       no  \n",
       "freq         335    219  200        195     300    356      305      240  "
      ]
     },
     "execution_count": 89,
     "metadata": {},
     "output_type": "execute_result"
    }
   ],
   "source": [
    "dt[categorical_col].describe()"
   ]
  },
  {
   "cell_type": "markdown",
   "metadata": {},
   "source": [
    "И в этом наборе данных проще перечислить признаки где отсутствуют пропущенные значения: school, sex. Заполним отсутствующие ячейки наиболее часто встречающимися значениями в признаках:"
   ]
  },
  {
   "cell_type": "code",
   "execution_count": 92,
   "metadata": {},
   "outputs": [],
   "source": [
    "data_describe = dt.describe(include=[object])\n",
    "\n",
    "for col in categorical_col:\n",
    "    dt[col] = dt[col].fillna(data_describe[col]['top'])"
   ]
  },
  {
   "cell_type": "code",
   "execution_count": 93,
   "metadata": {},
   "outputs": [
    {
     "data": {
      "text/html": [
       "<div>\n",
       "<style scoped>\n",
       "    .dataframe tbody tr th:only-of-type {\n",
       "        vertical-align: middle;\n",
       "    }\n",
       "\n",
       "    .dataframe tbody tr th {\n",
       "        vertical-align: top;\n",
       "    }\n",
       "\n",
       "    .dataframe thead th {\n",
       "        text-align: right;\n",
       "    }\n",
       "</style>\n",
       "<table border=\"1\" class=\"dataframe\">\n",
       "  <thead>\n",
       "    <tr style=\"text-align: right;\">\n",
       "      <th></th>\n",
       "      <th>school</th>\n",
       "      <th>sex</th>\n",
       "      <th>address</th>\n",
       "      <th>famsize</th>\n",
       "      <th>Pstatus</th>\n",
       "      <th>Mjob</th>\n",
       "      <th>Fjob</th>\n",
       "      <th>reason</th>\n",
       "      <th>guardian</th>\n",
       "      <th>schoolsup</th>\n",
       "      <th>famsup</th>\n",
       "      <th>paid</th>\n",
       "      <th>activities</th>\n",
       "      <th>nursery</th>\n",
       "      <th>higher</th>\n",
       "      <th>internet</th>\n",
       "      <th>romantic</th>\n",
       "    </tr>\n",
       "  </thead>\n",
       "  <tbody>\n",
       "    <tr>\n",
       "      <th>count</th>\n",
       "      <td>395</td>\n",
       "      <td>395</td>\n",
       "      <td>395</td>\n",
       "      <td>395</td>\n",
       "      <td>350</td>\n",
       "      <td>376</td>\n",
       "      <td>359</td>\n",
       "      <td>378</td>\n",
       "      <td>364</td>\n",
       "      <td>386</td>\n",
       "      <td>356</td>\n",
       "      <td>355</td>\n",
       "      <td>381</td>\n",
       "      <td>379</td>\n",
       "      <td>375</td>\n",
       "      <td>361</td>\n",
       "      <td>364</td>\n",
       "    </tr>\n",
       "    <tr>\n",
       "      <th>unique</th>\n",
       "      <td>2</td>\n",
       "      <td>2</td>\n",
       "      <td>2</td>\n",
       "      <td>2</td>\n",
       "      <td>2</td>\n",
       "      <td>5</td>\n",
       "      <td>5</td>\n",
       "      <td>4</td>\n",
       "      <td>3</td>\n",
       "      <td>2</td>\n",
       "      <td>2</td>\n",
       "      <td>2</td>\n",
       "      <td>2</td>\n",
       "      <td>2</td>\n",
       "      <td>2</td>\n",
       "      <td>2</td>\n",
       "      <td>2</td>\n",
       "    </tr>\n",
       "    <tr>\n",
       "      <th>top</th>\n",
       "      <td>GP</td>\n",
       "      <td>F</td>\n",
       "      <td>U</td>\n",
       "      <td>GT3</td>\n",
       "      <td>T</td>\n",
       "      <td>other</td>\n",
       "      <td>other</td>\n",
       "      <td>course</td>\n",
       "      <td>mother</td>\n",
       "      <td>no</td>\n",
       "      <td>yes</td>\n",
       "      <td>no</td>\n",
       "      <td>yes</td>\n",
       "      <td>yes</td>\n",
       "      <td>yes</td>\n",
       "      <td>yes</td>\n",
       "      <td>no</td>\n",
       "    </tr>\n",
       "    <tr>\n",
       "      <th>freq</th>\n",
       "      <td>349</td>\n",
       "      <td>208</td>\n",
       "      <td>312</td>\n",
       "      <td>288</td>\n",
       "      <td>314</td>\n",
       "      <td>133</td>\n",
       "      <td>197</td>\n",
       "      <td>137</td>\n",
       "      <td>250</td>\n",
       "      <td>335</td>\n",
       "      <td>219</td>\n",
       "      <td>200</td>\n",
       "      <td>195</td>\n",
       "      <td>300</td>\n",
       "      <td>356</td>\n",
       "      <td>305</td>\n",
       "      <td>240</td>\n",
       "    </tr>\n",
       "  </tbody>\n",
       "</table>\n",
       "</div>"
      ],
      "text/plain": [
       "       school  sex address famsize Pstatus   Mjob   Fjob  reason guardian  \\\n",
       "count     395  395     395     395     350    376    359     378      364   \n",
       "unique      2    2       2       2       2      5      5       4        3   \n",
       "top        GP    F       U     GT3       T  other  other  course   mother   \n",
       "freq      349  208     312     288     314    133    197     137      250   \n",
       "\n",
       "       schoolsup famsup paid activities nursery higher internet romantic  \n",
       "count        386    356  355        381     379    375      361      364  \n",
       "unique         2      2    2          2       2      2        2        2  \n",
       "top           no    yes   no        yes     yes    yes      yes       no  \n",
       "freq         335    219  200        195     300    356      305      240  "
      ]
     },
     "execution_count": 93,
     "metadata": {},
     "output_type": "execute_result"
    }
   ],
   "source": [
    "data.describe(include=[object])"
   ]
  },
  {
   "cell_type": "markdown",
   "metadata": {},
   "source": [
    "Очевидно, что для номинативных переменных использовать корреляционный анализ не получится. Однако можно посмотреть, различаются ли распределения score в зависимости от значения этих переменных. Это можно сделать с помощью box-plot (график показывает плотность распределения переменных)."
   ]
  },
  {
   "cell_type": "code",
   "execution_count": 94,
   "metadata": {},
   "outputs": [
    {
     "data": {
      "image/png": "[encoded data removed]",
      "text/plain": [
       "<Figure size 864x576 with 1 Axes>"
      ]
     },
     "metadata": {
      "needs_background": "light"
     },
     "output_type": "display_data"
    },
    {
     "data": {
      "image/png": "[encoded data removed]",
      "text/plain": [
       "<Figure size 864x576 with 1 Axes>"
      ]
     },
     "metadata": {
      "needs_background": "light"
     },
     "output_type": "display_data"
    },
    {
     "data": {
      "image/png": "[encoded data removed]",
      "text/plain": [
       "<Figure size 864x576 with 1 Axes>"
      ]
     },
     "metadata": {
      "needs_background": "light"
     },
     "output_type": "display_data"
    },
    {
     "data": {
      "image/png": "[encoded data removed]",
      "text/plain": [
       "<Figure size 864x576 with 1 Axes>"
      ]
     },
     "metadata": {
      "needs_background": "light"
     },
     "output_type": "display_data"
    },
    {
     "data": {
      "image/png": "[encoded data removed]",
      "text/plain": [
       "<Figure size 864x576 with 1 Axes>"
      ]
     },
     "metadata": {
      "needs_background": "light"
     },
     "output_type": "display_data"
    },
    {
     "data": {
      "image/png": "[encoded data removed]",
      "text/plain": [
       "<Figure size 864x576 with 1 Axes>"
      ]
     },
     "metadata": {
      "needs_background": "light"
     },
     "output_type": "display_data"
    },
    {
     "data": {
      "image/png": "[encoded data removed]",
      "text/plain": [
       "<Figure size 864x576 with 1 Axes>"
      ]
     },
     "metadata": {
      "needs_background": "light"
     },
     "output_type": "display_data"
    },
    {
     "data": {
      "image/png": "[encoded data removed]",
      "text/plain": [
       "<Figure size 864x576 with 1 Axes>"
      ]
     },
     "metadata": {
      "needs_background": "light"
     },
     "output_type": "display_data"
    },
    {
     "data": {
      "image/png": "[encoded data removed]",
      "text/plain": [
       "<Figure size 864x576 with 1 Axes>"
      ]
     },
     "metadata": {
      "needs_background": "light"
     },
     "output_type": "display_data"
    },
    {
     "data": {
      "image/png": "[encoded data removed]",
      "text/plain": [
       "<Figure size 864x576 with 1 Axes>"
      ]
     },
     "metadata": {
      "needs_background": "light"
     },
     "output_type": "display_data"
    },
    {
     "data": {
      "image/png": "[encoded data removed]",
      "text/plain": [
       "<Figure size 864x576 with 1 Axes>"
      ]
     },
     "metadata": {
      "needs_background": "light"
     },
     "output_type": "display_data"
    },
    {
     "data": {
      "image/png": "[encoded data removed]",
      "text/plain": [
       "<Figure size 864x576 with 1 Axes>"
      ]
     },
     "metadata": {
      "needs_background": "light"
     },
     "output_type": "display_data"
    },
    {
     "data": {
      "image/png": "[encoded data removed]",
      "text/plain": [
       "<Figure size 864x576 with 1 Axes>"
      ]
     },
     "metadata": {
      "needs_background": "light"
     },
     "output_type": "display_data"
    },
    {
     "data": {
      "image/png": "[encoded data removed]",
      "text/plain": [
       "<Figure size 864x576 with 1 Axes>"
      ]
     },
     "metadata": {
      "needs_background": "light"
     },
     "output_type": "display_data"
    },
    {
     "data": {
      "image/png": "[encoded data removed]",
      "text/plain": [
       "<Figure size 864x576 with 1 Axes>"
      ]
     },
     "metadata": {
      "needs_background": "light"
     },
     "output_type": "display_data"
    },
    {
     "data": {
      "image/png": "[encoded data removed]",
      "text/plain": [
       "<Figure size 864x576 with 1 Axes>"
      ]
     },
     "metadata": {
      "needs_background": "light"
     },
     "output_type": "display_data"
    },
    {
     "data": {
      "image/png": "[encoded data removed]",
      "text/plain": [
       "<Figure size 864x576 with 1 Axes>"
      ]
     },
     "metadata": {
      "needs_background": "light"
     },
     "output_type": "display_data"
    }
   ],
   "source": [
    "def BoxPlot(col):\n",
    "    if data[col].dtype.name == 'object':\n",
    "        plt.figure(figsize=(12,8))\n",
    "        sns.boxplot(\n",
    "        x=col, y=\"score\", data=data, palette=\"coolwarm\");        \n",
    "    else:\n",
    "        pass\n",
    "    return\n",
    "\n",
    "\n",
    "for col in data:\n",
    "    BoxPlot(col)"
   ]
  },
  {
   "cell_type": "markdown",
   "metadata": {},
   "source": [
    "По графикам похоже, что все параметры, кроме activites, paid, reason могут влиять на результирующие оценки теста. Однако графики являются лишь вспомогательным инструментом, настоящую значимость различий может помочь распознать статистика. \n",
    "Проверим, есть ли статистическая разница в распределении оценок по номинативным признакам, с помощью теста Стьюдента. \n",
    "Проверим нулевую гипотезу о том, что распределения оценок результирующего теста по различным параметрам неразличимы:"
   ]
  },
  {
   "cell_type": "code",
   "execution_count": 98,
   "metadata": {},
   "outputs": [],
   "source": [
    "def get_stat_dif(column):\n",
    "    cols = dt.loc[:, column].value_counts().index\n",
    "    combinations_all = list(combinations(cols, 2))\n",
    "    for comb in combinations_all:\n",
    "        if ttest_ind(dt.loc[dt.loc[:, column] == comb[0], 'score'],\n",
    "                     dt.loc[dt.loc[:, column] == comb[1], 'score']).pvalue \\\n",
    "                <= 0.05/len(combinations_all):  # Учли поправку Бонферони\n",
    "            print('Найдены статистически значимые различия для колонки', column)\n",
    "            break"
   ]
  },
  {
   "cell_type": "code",
   "execution_count": 111,
   "metadata": {},
   "outputs": [
    {
     "name": "stdout",
     "output_type": "stream",
     "text": [
      "Найдены статистически значимые различия для колонки address\n",
      "Найдены статистически значимые различия для колонки m_job\n",
      "Найдены статистически значимые различия для колонки higher\n",
      "Найдены статистически значимые различия для колонки romantic\n"
     ]
    }
   ],
   "source": [
    "for col in dt[categorical_col]:\n",
    "    get_stat_dif(col)"
   ]
  },
  {
   "cell_type": "markdown",
   "metadata": {},
   "source": [
    "Как мы видим, серьёзно отличаются четыре параметра: address,  Mjob, higher  и  romantic. Оставим эти переменные в датасете для дальнейшего построения модели."
   ]
  },
  {
   "cell_type": "code",
   "execution_count": 113,
   "metadata": {},
   "outputs": [
    {
     "data": {
      "text/html": [
       "<div>\n",
       "<style scoped>\n",
       "    .dataframe tbody tr th:only-of-type {\n",
       "        vertical-align: middle;\n",
       "    }\n",
       "\n",
       "    .dataframe tbody tr th {\n",
       "        vertical-align: top;\n",
       "    }\n",
       "\n",
       "    .dataframe thead th {\n",
       "        text-align: right;\n",
       "    }\n",
       "</style>\n",
       "<table border=\"1\" class=\"dataframe\">\n",
       "  <thead>\n",
       "    <tr style=\"text-align: right;\">\n",
       "      <th></th>\n",
       "      <th>address</th>\n",
       "      <th>m_job</th>\n",
       "      <th>higher</th>\n",
       "      <th>romantic</th>\n",
       "    </tr>\n",
       "  </thead>\n",
       "  <tbody>\n",
       "    <tr>\n",
       "      <th>count</th>\n",
       "      <td>395</td>\n",
       "      <td>395</td>\n",
       "      <td>395</td>\n",
       "      <td>395</td>\n",
       "    </tr>\n",
       "    <tr>\n",
       "      <th>unique</th>\n",
       "      <td>2</td>\n",
       "      <td>5</td>\n",
       "      <td>2</td>\n",
       "      <td>2</td>\n",
       "    </tr>\n",
       "    <tr>\n",
       "      <th>top</th>\n",
       "      <td>U</td>\n",
       "      <td>other</td>\n",
       "      <td>yes</td>\n",
       "      <td>no</td>\n",
       "    </tr>\n",
       "    <tr>\n",
       "      <th>freq</th>\n",
       "      <td>312</td>\n",
       "      <td>152</td>\n",
       "      <td>376</td>\n",
       "      <td>271</td>\n",
       "    </tr>\n",
       "  </tbody>\n",
       "</table>\n",
       "</div>"
      ],
      "text/plain": [
       "       address  m_job higher romantic\n",
       "count      395    395    395      395\n",
       "unique       2      5      2        2\n",
       "top          U  other    yes       no\n",
       "freq       312    152    376      271"
      ]
     },
     "execution_count": 113,
     "metadata": {},
     "output_type": "execute_result"
    }
   ],
   "source": [
    "nominative_for_new_date = dt[['address', 'm_job', 'higher', 'romantic']]\n",
    "nominative_for_new_date.describe()"
   ]
  },
  {
   "cell_type": "markdown",
   "metadata": {},
   "source": [
    "### Сформируем итоговый датасет:"
   ]
  },
  {
   "cell_type": "code",
   "execution_count": 114,
   "metadata": {},
   "outputs": [
    {
     "data": {
      "text/html": [
       "<div>\n",
       "<style scoped>\n",
       "    .dataframe tbody tr th:only-of-type {\n",
       "        vertical-align: middle;\n",
       "    }\n",
       "\n",
       "    .dataframe tbody tr th {\n",
       "        vertical-align: top;\n",
       "    }\n",
       "\n",
       "    .dataframe thead th {\n",
       "        text-align: right;\n",
       "    }\n",
       "</style>\n",
       "<table border=\"1\" class=\"dataframe\">\n",
       "  <thead>\n",
       "    <tr style=\"text-align: right;\">\n",
       "      <th></th>\n",
       "      <th>age</th>\n",
       "      <th>m_edu</th>\n",
       "      <th>studytime</th>\n",
       "      <th>failures</th>\n",
       "      <th>go_out</th>\n",
       "      <th>address</th>\n",
       "      <th>m_job</th>\n",
       "      <th>higher</th>\n",
       "      <th>romantic</th>\n",
       "    </tr>\n",
       "  </thead>\n",
       "  <tbody>\n",
       "    <tr>\n",
       "      <th>0</th>\n",
       "      <td>18</td>\n",
       "      <td>4.0</td>\n",
       "      <td>2.0</td>\n",
       "      <td>0.0</td>\n",
       "      <td>4.0</td>\n",
       "      <td>U</td>\n",
       "      <td>at_home</td>\n",
       "      <td>yes</td>\n",
       "      <td>no</td>\n",
       "    </tr>\n",
       "    <tr>\n",
       "      <th>1</th>\n",
       "      <td>17</td>\n",
       "      <td>1.0</td>\n",
       "      <td>2.0</td>\n",
       "      <td>0.0</td>\n",
       "      <td>3.0</td>\n",
       "      <td>U</td>\n",
       "      <td>at_home</td>\n",
       "      <td>yes</td>\n",
       "      <td>no</td>\n",
       "    </tr>\n",
       "    <tr>\n",
       "      <th>2</th>\n",
       "      <td>15</td>\n",
       "      <td>1.0</td>\n",
       "      <td>2.0</td>\n",
       "      <td>3.0</td>\n",
       "      <td>2.0</td>\n",
       "      <td>U</td>\n",
       "      <td>at_home</td>\n",
       "      <td>yes</td>\n",
       "      <td>no</td>\n",
       "    </tr>\n",
       "    <tr>\n",
       "      <th>3</th>\n",
       "      <td>15</td>\n",
       "      <td>4.0</td>\n",
       "      <td>3.0</td>\n",
       "      <td>0.0</td>\n",
       "      <td>2.0</td>\n",
       "      <td>U</td>\n",
       "      <td>health</td>\n",
       "      <td>yes</td>\n",
       "      <td>yes</td>\n",
       "    </tr>\n",
       "    <tr>\n",
       "      <th>4</th>\n",
       "      <td>16</td>\n",
       "      <td>3.0</td>\n",
       "      <td>2.0</td>\n",
       "      <td>0.0</td>\n",
       "      <td>2.0</td>\n",
       "      <td>U</td>\n",
       "      <td>other</td>\n",
       "      <td>yes</td>\n",
       "      <td>no</td>\n",
       "    </tr>\n",
       "    <tr>\n",
       "      <th>...</th>\n",
       "      <td>...</td>\n",
       "      <td>...</td>\n",
       "      <td>...</td>\n",
       "      <td>...</td>\n",
       "      <td>...</td>\n",
       "      <td>...</td>\n",
       "      <td>...</td>\n",
       "      <td>...</td>\n",
       "      <td>...</td>\n",
       "    </tr>\n",
       "    <tr>\n",
       "      <th>390</th>\n",
       "      <td>20</td>\n",
       "      <td>2.0</td>\n",
       "      <td>2.0</td>\n",
       "      <td>2.0</td>\n",
       "      <td>4.0</td>\n",
       "      <td>U</td>\n",
       "      <td>services</td>\n",
       "      <td>yes</td>\n",
       "      <td>no</td>\n",
       "    </tr>\n",
       "    <tr>\n",
       "      <th>391</th>\n",
       "      <td>17</td>\n",
       "      <td>3.0</td>\n",
       "      <td>1.0</td>\n",
       "      <td>0.0</td>\n",
       "      <td>5.0</td>\n",
       "      <td>U</td>\n",
       "      <td>services</td>\n",
       "      <td>yes</td>\n",
       "      <td>no</td>\n",
       "    </tr>\n",
       "    <tr>\n",
       "      <th>392</th>\n",
       "      <td>21</td>\n",
       "      <td>1.0</td>\n",
       "      <td>1.0</td>\n",
       "      <td>3.0</td>\n",
       "      <td>3.0</td>\n",
       "      <td>R</td>\n",
       "      <td>other</td>\n",
       "      <td>yes</td>\n",
       "      <td>no</td>\n",
       "    </tr>\n",
       "    <tr>\n",
       "      <th>393</th>\n",
       "      <td>18</td>\n",
       "      <td>3.0</td>\n",
       "      <td>1.0</td>\n",
       "      <td>0.0</td>\n",
       "      <td>1.0</td>\n",
       "      <td>R</td>\n",
       "      <td>services</td>\n",
       "      <td>yes</td>\n",
       "      <td>no</td>\n",
       "    </tr>\n",
       "    <tr>\n",
       "      <th>394</th>\n",
       "      <td>19</td>\n",
       "      <td>1.0</td>\n",
       "      <td>1.0</td>\n",
       "      <td>0.0</td>\n",
       "      <td>3.0</td>\n",
       "      <td>U</td>\n",
       "      <td>other</td>\n",
       "      <td>yes</td>\n",
       "      <td>no</td>\n",
       "    </tr>\n",
       "  </tbody>\n",
       "</table>\n",
       "<p>395 rows × 9 columns</p>\n",
       "</div>"
      ],
      "text/plain": [
       "     age  m_edu  studytime  failures  go_out address     m_job higher romantic\n",
       "0     18    4.0        2.0       0.0     4.0       U   at_home    yes       no\n",
       "1     17    1.0        2.0       0.0     3.0       U   at_home    yes       no\n",
       "2     15    1.0        2.0       3.0     2.0       U   at_home    yes       no\n",
       "3     15    4.0        3.0       0.0     2.0       U    health    yes      yes\n",
       "4     16    3.0        2.0       0.0     2.0       U     other    yes       no\n",
       "..   ...    ...        ...       ...     ...     ...       ...    ...      ...\n",
       "390   20    2.0        2.0       2.0     4.0       U  services    yes       no\n",
       "391   17    3.0        1.0       0.0     5.0       U  services    yes       no\n",
       "392   21    1.0        1.0       3.0     3.0       R     other    yes       no\n",
       "393   18    3.0        1.0       0.0     1.0       R  services    yes       no\n",
       "394   19    1.0        1.0       0.0     3.0       U     other    yes       no\n",
       "\n",
       "[395 rows x 9 columns]"
      ]
     },
     "execution_count": 114,
     "metadata": {},
     "output_type": "execute_result"
    }
   ],
   "source": [
    "Total_data = pd.concat(\n",
    "    (numerical_for_new_date, nominative_for_new_date), axis=1)\n",
    "Total_data"
   ]
  },
  {
   "cell_type": "markdown",
   "metadata": {},
   "source": [
    "## Вывод:"
   ]
  },
  {
   "cell_type": "markdown",
   "metadata": {},
   "source": [
    "Итак, в результате EDA для анализа условий жизни учащихся в возрасте от 15 до 22 лет на их успеваемость по математике были получены следующие выводы:\n",
    "\n",
    "В данных было достаточно пустых значений, выбросы найдены только в столбцах (Fedu - образование отца) и (famrel - отношения в семье), также выбросы устранены в столбце пропущенных занятий.\n",
    "Пропущенные значения заполнялись средними значениями вычисленные для каждого числового столбца и наиболее часто встречающимися значениями для номинативных значениях.\n",
    "\n",
    "Корреляционный анализ предоставил следующие закономерности:\n",
    "1. Все значения кроме 'failures' имеют очень слабую корреляцию менее 0.2;\n",
    "2. Значения Medu и Fedu достаточно сильно коррелируют между собой;\n",
    "3. Отрицательная корреляция Medu и Fedu по отношению к 'failures';\n",
    "4. \"Нелогичная\" (на мой взгляд) корреляция 'absences'- прогулов к результату теста score. Всего 0.07 и она положительна!\n",
    "5. Достаточно высокая (в сравнении с другими признаками) корреляция 'age' и 'score'. Чем младше ученики тем лучше их результаты.\n",
    "\n",
    "В итоге были оставлены признаки со значениями корреляции выше 0.1.\n",
    "\n",
    "Для номинативных данных была расчитана статистическая разница в распределении оценок по числовым признакам с помощью теста Стьюдента. Проверили нулевую гипотезу о том, что распределения оценок результирующего теста по различным параметрам неразличимы,  в результате получили 4 столбца, где статистически значимые различия были найдены. Столбцы ['address', 'Mjob', 'higher', 'romantic'].\n",
    "\n",
    "Эти операции позволили нам очистить и привести данные к дальнейшему анализу."
   ]
  },
  {
   "cell_type": "markdown",
   "metadata": {},
   "source": [
    "----------------------------------------------------------------------------------------------------\n",
    "----------------------------------------------------------------------------------------------------\n",
    "----------------------------------------------------------------------------------------------------\n",
    "----------------------------------------------------------------------------------------------------\n",
    "----------------------------------------------------------------------------------------------------"
   ]
  },
  {
   "cell_type": "markdown",
   "metadata": {},
   "source": [
    "# Машинное обучение:"
   ]
  },
  {
   "cell_type": "markdown",
   "metadata": {},
   "source": [
    "## Векторизация:"
   ]
  },
  {
   "cell_type": "markdown",
   "metadata": {},
   "source": [
    "Библиотека scikit-learn не умеет напрямую обрабатывать категориальные признаки. Поэтому прежде чем подавать данные на вход алгоритмов машинного обучения преобразуем категориальные признаки в количественные.\n",
    "\n",
    "Категориальные признаки, принимающие два значения (т.е. бинарные признаки) и принимающие большее количество значений будем обрабатывать по-разному."
   ]
  },
  {
   "cell_type": "code",
   "execution_count": 115,
   "metadata": {},
   "outputs": [
    {
     "name": "stdout",
     "output_type": "stream",
     "text": [
      "Колонки с бинарными признаками: ['address', 'higher', 'romantic']\n",
      "========================================================================================================================\n",
      "Колонки с небинарными признаками:['m_job']\n"
     ]
    }
   ],
   "source": [
    "data_describe = nominative_for_new_date.describe(include=[object])\n",
    "\n",
    "binary_columns = [\n",
    "    col for col in nominative_for_new_date if data_describe[col]['unique'] == 2]\n",
    "nonbinary_columns = [\n",
    "    col for col in nominative_for_new_date if data_describe[col]['unique'] > 2]\n",
    "\n",
    "print(f'Колонки с бинарными признаками: {binary_columns}')\n",
    "print(60*'==')\n",
    "print(f'Колонки с небинарными признаками:{nonbinary_columns}')"
   ]
  },
  {
   "cell_type": "markdown",
   "metadata": {},
   "source": [
    "#### Бинарные признаки:"
   ]
  },
  {
   "cell_type": "code",
   "execution_count": 116,
   "metadata": {},
   "outputs": [],
   "source": [
    "def Binary_convert(col):\n",
    "    first = Total_data[col].unique()[0]\n",
    "    second = Total_data[col].unique()[1]\n",
    "\n",
    "    nominative_for_new_date.at[Total_data[col] == first, col] = 1\n",
    "    nominative_for_new_date.at[Total_data[col] == second, col] = 0\n",
    "    return"
   ]
  },
  {
   "cell_type": "code",
   "execution_count": 117,
   "metadata": {},
   "outputs": [],
   "source": [
    "for col in nominative_for_new_date[binary_columns]:\n",
    "    Binary_convert(col)"
   ]
  },
  {
   "cell_type": "code",
   "execution_count": 118,
   "metadata": {},
   "outputs": [
    {
     "data": {
      "text/html": [
       "<div>\n",
       "<style scoped>\n",
       "    .dataframe tbody tr th:only-of-type {\n",
       "        vertical-align: middle;\n",
       "    }\n",
       "\n",
       "    .dataframe tbody tr th {\n",
       "        vertical-align: top;\n",
       "    }\n",
       "\n",
       "    .dataframe thead th {\n",
       "        text-align: right;\n",
       "    }\n",
       "</style>\n",
       "<table border=\"1\" class=\"dataframe\">\n",
       "  <thead>\n",
       "    <tr style=\"text-align: right;\">\n",
       "      <th></th>\n",
       "      <th>address</th>\n",
       "      <th>m_job</th>\n",
       "      <th>higher</th>\n",
       "      <th>romantic</th>\n",
       "    </tr>\n",
       "  </thead>\n",
       "  <tbody>\n",
       "    <tr>\n",
       "      <th>0</th>\n",
       "      <td>1</td>\n",
       "      <td>at_home</td>\n",
       "      <td>1</td>\n",
       "      <td>1</td>\n",
       "    </tr>\n",
       "    <tr>\n",
       "      <th>1</th>\n",
       "      <td>1</td>\n",
       "      <td>at_home</td>\n",
       "      <td>1</td>\n",
       "      <td>1</td>\n",
       "    </tr>\n",
       "    <tr>\n",
       "      <th>2</th>\n",
       "      <td>1</td>\n",
       "      <td>at_home</td>\n",
       "      <td>1</td>\n",
       "      <td>1</td>\n",
       "    </tr>\n",
       "    <tr>\n",
       "      <th>3</th>\n",
       "      <td>1</td>\n",
       "      <td>health</td>\n",
       "      <td>1</td>\n",
       "      <td>0</td>\n",
       "    </tr>\n",
       "    <tr>\n",
       "      <th>4</th>\n",
       "      <td>1</td>\n",
       "      <td>other</td>\n",
       "      <td>1</td>\n",
       "      <td>1</td>\n",
       "    </tr>\n",
       "  </tbody>\n",
       "</table>\n",
       "</div>"
      ],
      "text/plain": [
       "  address    m_job higher romantic\n",
       "0       1  at_home      1        1\n",
       "1       1  at_home      1        1\n",
       "2       1  at_home      1        1\n",
       "3       1   health      1        0\n",
       "4       1    other      1        1"
      ]
     },
     "execution_count": 118,
     "metadata": {},
     "output_type": "execute_result"
    }
   ],
   "source": [
    "nominative_for_new_date.head(5)"
   ]
  },
  {
   "cell_type": "markdown",
   "metadata": {},
   "source": [
    "#### Небинарные признаки:"
   ]
  },
  {
   "cell_type": "markdown",
   "metadata": {},
   "source": [
    "К небинарными признакам применим метод векторизации. Такую векторизацию осуществляет в pandas метод get_dummies:"
   ]
  },
  {
   "cell_type": "code",
   "execution_count": 119,
   "metadata": {},
   "outputs": [],
   "source": [
    "nonbinary_data = pd.get_dummies(nominative_for_new_date[nonbinary_columns])"
   ]
  },
  {
   "cell_type": "code",
   "execution_count": 120,
   "metadata": {},
   "outputs": [
    {
     "data": {
      "text/html": [
       "<div>\n",
       "<style scoped>\n",
       "    .dataframe tbody tr th:only-of-type {\n",
       "        vertical-align: middle;\n",
       "    }\n",
       "\n",
       "    .dataframe tbody tr th {\n",
       "        vertical-align: top;\n",
       "    }\n",
       "\n",
       "    .dataframe thead th {\n",
       "        text-align: right;\n",
       "    }\n",
       "</style>\n",
       "<table border=\"1\" class=\"dataframe\">\n",
       "  <thead>\n",
       "    <tr style=\"text-align: right;\">\n",
       "      <th></th>\n",
       "      <th>m_job_at_home</th>\n",
       "      <th>m_job_health</th>\n",
       "      <th>m_job_other</th>\n",
       "      <th>m_job_services</th>\n",
       "      <th>m_job_teacher</th>\n",
       "    </tr>\n",
       "  </thead>\n",
       "  <tbody>\n",
       "    <tr>\n",
       "      <th>0</th>\n",
       "      <td>1</td>\n",
       "      <td>0</td>\n",
       "      <td>0</td>\n",
       "      <td>0</td>\n",
       "      <td>0</td>\n",
       "    </tr>\n",
       "    <tr>\n",
       "      <th>1</th>\n",
       "      <td>1</td>\n",
       "      <td>0</td>\n",
       "      <td>0</td>\n",
       "      <td>0</td>\n",
       "      <td>0</td>\n",
       "    </tr>\n",
       "    <tr>\n",
       "      <th>2</th>\n",
       "      <td>1</td>\n",
       "      <td>0</td>\n",
       "      <td>0</td>\n",
       "      <td>0</td>\n",
       "      <td>0</td>\n",
       "    </tr>\n",
       "    <tr>\n",
       "      <th>3</th>\n",
       "      <td>0</td>\n",
       "      <td>1</td>\n",
       "      <td>0</td>\n",
       "      <td>0</td>\n",
       "      <td>0</td>\n",
       "    </tr>\n",
       "    <tr>\n",
       "      <th>4</th>\n",
       "      <td>0</td>\n",
       "      <td>0</td>\n",
       "      <td>1</td>\n",
       "      <td>0</td>\n",
       "      <td>0</td>\n",
       "    </tr>\n",
       "  </tbody>\n",
       "</table>\n",
       "</div>"
      ],
      "text/plain": [
       "   m_job_at_home  m_job_health  m_job_other  m_job_services  m_job_teacher\n",
       "0              1             0            0               0              0\n",
       "1              1             0            0               0              0\n",
       "2              1             0            0               0              0\n",
       "3              0             1            0               0              0\n",
       "4              0             0            1               0              0"
      ]
     },
     "execution_count": 120,
     "metadata": {},
     "output_type": "execute_result"
    }
   ],
   "source": [
    "nonbinary_data.head(5)"
   ]
  },
  {
   "cell_type": "code",
   "execution_count": 122,
   "metadata": {},
   "outputs": [
    {
     "data": {
      "text/html": [
       "<div>\n",
       "<style scoped>\n",
       "    .dataframe tbody tr th:only-of-type {\n",
       "        vertical-align: middle;\n",
       "    }\n",
       "\n",
       "    .dataframe tbody tr th {\n",
       "        vertical-align: top;\n",
       "    }\n",
       "\n",
       "    .dataframe thead th {\n",
       "        text-align: right;\n",
       "    }\n",
       "</style>\n",
       "<table border=\"1\" class=\"dataframe\">\n",
       "  <thead>\n",
       "    <tr style=\"text-align: right;\">\n",
       "      <th></th>\n",
       "      <th>address</th>\n",
       "      <th>higher</th>\n",
       "      <th>romantic</th>\n",
       "    </tr>\n",
       "  </thead>\n",
       "  <tbody>\n",
       "    <tr>\n",
       "      <th>0</th>\n",
       "      <td>1</td>\n",
       "      <td>1</td>\n",
       "      <td>1</td>\n",
       "    </tr>\n",
       "    <tr>\n",
       "      <th>1</th>\n",
       "      <td>1</td>\n",
       "      <td>1</td>\n",
       "      <td>1</td>\n",
       "    </tr>\n",
       "    <tr>\n",
       "      <th>2</th>\n",
       "      <td>1</td>\n",
       "      <td>1</td>\n",
       "      <td>1</td>\n",
       "    </tr>\n",
       "    <tr>\n",
       "      <th>3</th>\n",
       "      <td>1</td>\n",
       "      <td>1</td>\n",
       "      <td>0</td>\n",
       "    </tr>\n",
       "    <tr>\n",
       "      <th>4</th>\n",
       "      <td>1</td>\n",
       "      <td>1</td>\n",
       "      <td>1</td>\n",
       "    </tr>\n",
       "  </tbody>\n",
       "</table>\n",
       "</div>"
      ],
      "text/plain": [
       "  address higher romantic\n",
       "0       1      1        1\n",
       "1       1      1        1\n",
       "2       1      1        1\n",
       "3       1      1        0\n",
       "4       1      1        1"
      ]
     },
     "execution_count": 122,
     "metadata": {},
     "output_type": "execute_result"
    }
   ],
   "source": [
    "nominative_for_new_date.drop(['m_job'], inplace=True, axis=1)\n",
    "nominative_for_new_date.head(5)"
   ]
  },
  {
   "cell_type": "markdown",
   "metadata": {},
   "source": [
    "###  Соединим все столбцы в одну таблицу:"
   ]
  },
  {
   "cell_type": "code",
   "execution_count": 123,
   "metadata": {},
   "outputs": [],
   "source": [
    "ML_data = pd.concat(\n",
    "    (numerical_for_new_date, nominative_for_new_date, nonbinary_data), axis=1)"
   ]
  },
  {
   "cell_type": "code",
   "execution_count": 124,
   "metadata": {},
   "outputs": [
    {
     "data": {
      "text/html": [
       "<div>\n",
       "<style scoped>\n",
       "    .dataframe tbody tr th:only-of-type {\n",
       "        vertical-align: middle;\n",
       "    }\n",
       "\n",
       "    .dataframe tbody tr th {\n",
       "        vertical-align: top;\n",
       "    }\n",
       "\n",
       "    .dataframe thead th {\n",
       "        text-align: right;\n",
       "    }\n",
       "</style>\n",
       "<table border=\"1\" class=\"dataframe\">\n",
       "  <thead>\n",
       "    <tr style=\"text-align: right;\">\n",
       "      <th></th>\n",
       "      <th>age</th>\n",
       "      <th>m_edu</th>\n",
       "      <th>studytime</th>\n",
       "      <th>failures</th>\n",
       "      <th>go_out</th>\n",
       "      <th>address</th>\n",
       "      <th>higher</th>\n",
       "      <th>romantic</th>\n",
       "      <th>m_job_at_home</th>\n",
       "      <th>m_job_health</th>\n",
       "      <th>m_job_other</th>\n",
       "      <th>m_job_services</th>\n",
       "      <th>m_job_teacher</th>\n",
       "    </tr>\n",
       "  </thead>\n",
       "  <tbody>\n",
       "    <tr>\n",
       "      <th>0</th>\n",
       "      <td>18</td>\n",
       "      <td>4.0</td>\n",
       "      <td>2.0</td>\n",
       "      <td>0.0</td>\n",
       "      <td>4.0</td>\n",
       "      <td>1</td>\n",
       "      <td>1</td>\n",
       "      <td>1</td>\n",
       "      <td>1</td>\n",
       "      <td>0</td>\n",
       "      <td>0</td>\n",
       "      <td>0</td>\n",
       "      <td>0</td>\n",
       "    </tr>\n",
       "    <tr>\n",
       "      <th>1</th>\n",
       "      <td>17</td>\n",
       "      <td>1.0</td>\n",
       "      <td>2.0</td>\n",
       "      <td>0.0</td>\n",
       "      <td>3.0</td>\n",
       "      <td>1</td>\n",
       "      <td>1</td>\n",
       "      <td>1</td>\n",
       "      <td>1</td>\n",
       "      <td>0</td>\n",
       "      <td>0</td>\n",
       "      <td>0</td>\n",
       "      <td>0</td>\n",
       "    </tr>\n",
       "    <tr>\n",
       "      <th>2</th>\n",
       "      <td>15</td>\n",
       "      <td>1.0</td>\n",
       "      <td>2.0</td>\n",
       "      <td>3.0</td>\n",
       "      <td>2.0</td>\n",
       "      <td>1</td>\n",
       "      <td>1</td>\n",
       "      <td>1</td>\n",
       "      <td>1</td>\n",
       "      <td>0</td>\n",
       "      <td>0</td>\n",
       "      <td>0</td>\n",
       "      <td>0</td>\n",
       "    </tr>\n",
       "    <tr>\n",
       "      <th>3</th>\n",
       "      <td>15</td>\n",
       "      <td>4.0</td>\n",
       "      <td>3.0</td>\n",
       "      <td>0.0</td>\n",
       "      <td>2.0</td>\n",
       "      <td>1</td>\n",
       "      <td>1</td>\n",
       "      <td>0</td>\n",
       "      <td>0</td>\n",
       "      <td>1</td>\n",
       "      <td>0</td>\n",
       "      <td>0</td>\n",
       "      <td>0</td>\n",
       "    </tr>\n",
       "    <tr>\n",
       "      <th>4</th>\n",
       "      <td>16</td>\n",
       "      <td>3.0</td>\n",
       "      <td>2.0</td>\n",
       "      <td>0.0</td>\n",
       "      <td>2.0</td>\n",
       "      <td>1</td>\n",
       "      <td>1</td>\n",
       "      <td>1</td>\n",
       "      <td>0</td>\n",
       "      <td>0</td>\n",
       "      <td>1</td>\n",
       "      <td>0</td>\n",
       "      <td>0</td>\n",
       "    </tr>\n",
       "  </tbody>\n",
       "</table>\n",
       "</div>"
      ],
      "text/plain": [
       "   age  m_edu  studytime  failures  go_out address higher romantic  \\\n",
       "0   18    4.0        2.0       0.0     4.0       1      1        1   \n",
       "1   17    1.0        2.0       0.0     3.0       1      1        1   \n",
       "2   15    1.0        2.0       3.0     2.0       1      1        1   \n",
       "3   15    4.0        3.0       0.0     2.0       1      1        0   \n",
       "4   16    3.0        2.0       0.0     2.0       1      1        1   \n",
       "\n",
       "   m_job_at_home  m_job_health  m_job_other  m_job_services  m_job_teacher  \n",
       "0              1             0            0               0              0  \n",
       "1              1             0            0               0              0  \n",
       "2              1             0            0               0              0  \n",
       "3              0             1            0               0              0  \n",
       "4              0             0            1               0              0  "
      ]
     },
     "execution_count": 124,
     "metadata": {},
     "output_type": "execute_result"
    }
   ],
   "source": [
    "ML_data.head(5)"
   ]
  },
  {
   "cell_type": "markdown",
   "metadata": {},
   "source": [
    "### Разбиваем модель:"
   ]
  },
  {
   "cell_type": "code",
   "execution_count": 125,
   "metadata": {},
   "outputs": [],
   "source": [
    "X = ML_data.iloc[:, :].values\n",
    "y = data.iloc[:, -1].values"
   ]
  },
  {
   "cell_type": "markdown",
   "metadata": {},
   "source": [
    "Сформируем массив для выделенного массива 'score'. В нашем прогнозе зададимся простым условием: сможет ли учащийся сдать тест. Соответственно 1 - сдаст и 0 - не сдаст. Изучив методику оценивания в США и Европе приходим к выводу что минимальное количество для сдачи теста является 49, это и будет нашим граничным значением."
   ]
  },
  {
   "cell_type": "code",
   "execution_count": 126,
   "metadata": {},
   "outputs": [],
   "source": [
    "y = []\n",
    "for i in data['score']:\n",
    "    if i < 49:\n",
    "        y.append(0)\n",
    "    else:\n",
    "        y.append(1)"
   ]
  },
  {
   "cell_type": "code",
   "execution_count": 127,
   "metadata": {},
   "outputs": [],
   "source": [
    "from sklearn.model_selection import train_test_split\n",
    "\n",
    "s = train_test_split(X, y, test_size=0.1, stratify=y, random_state=1)\n",
    "X_train, X_test, y_train, y_test = s"
   ]
  },
  {
   "cell_type": "markdown",
   "metadata": {},
   "source": [
    "### Масштабируем признаки:"
   ]
  },
  {
   "cell_type": "code",
   "execution_count": 128,
   "metadata": {},
   "outputs": [],
   "source": [
    "from sklearn.preprocessing import StandardScaler\n",
    "\n",
    "sc = StandardScaler().fit(X_train)\n",
    "X_train_std = sc.transform(X_train)\n",
    "X_test_std = sc.transform(X_test)"
   ]
  },
  {
   "cell_type": "markdown",
   "metadata": {},
   "source": [
    "# Алгоритмы машинного обучения:"
   ]
  },
  {
   "cell_type": "code",
   "execution_count": 129,
   "metadata": {},
   "outputs": [],
   "source": [
    "Result = []"
   ]
  },
  {
   "cell_type": "code",
   "execution_count": 130,
   "metadata": {},
   "outputs": [],
   "source": [
    "from sklearn.metrics import accuracy_score\n",
    "\n",
    "\n",
    "def log_errors(val_train, val_test):\n",
    "    y_train_pred = val_train\n",
    "    y_test_pred = val_test\n",
    "\n",
    "    num1 = (y_train != y_train_pred).sum()\n",
    "    num2 = (y_test != y_test_pred).sum()\n",
    "\n",
    "    acc1 = round(accuracy_score(y_train, y_train_pred)*100, 2)\n",
    "    acc2 = round(accuracy_score(y_test, y_test_pred)*100, 2)\n",
    "    d = {'Train': acc1, 'Test': acc2}\n",
    "    Result.append(d)\n",
    "    return print(f'Кол-во ошибок обучающей выборки = {num1} \\n',\n",
    "                 f'Кол-во ошибок тестовой выборки = {num2} \\n',\n",
    "                 f'Оценка точности обучающей выборки = {acc1} % \\n',\n",
    "                 f'Оценка точности тестовой выборки = {acc2} %', sep='\\n')"
   ]
  },
  {
   "cell_type": "markdown",
   "metadata": {},
   "source": [
    "# Логистическая регрессия:"
   ]
  },
  {
   "cell_type": "code",
   "execution_count": 131,
   "metadata": {},
   "outputs": [
    {
     "name": "stdout",
     "output_type": "stream",
     "text": [
      "Кол-во ошибок обучающей выборки = 99 \n",
      "\n",
      "Кол-во ошибок тестовой выборки = 11 \n",
      "\n",
      "Оценка точности обучающей выборки = 72.11 % \n",
      "\n",
      "Оценка точности тестовой выборки = 72.5 %\n"
     ]
    }
   ],
   "source": [
    "from sklearn.linear_model import LogisticRegression\n",
    "\n",
    "LgReg = LogisticRegression(random_state  = 2, C = 10.0).fit(X_train_std, y_train)\n",
    "log_errors(LgReg.predict(X_train_std), LgReg.predict(X_test_std))"
   ]
  },
  {
   "cell_type": "markdown",
   "metadata": {},
   "source": [
    "# Метод опорных векторов:  "
   ]
  },
  {
   "cell_type": "markdown",
   "metadata": {},
   "source": [
    "### Выберем ядро RBF:"
   ]
  },
  {
   "cell_type": "code",
   "execution_count": 132,
   "metadata": {},
   "outputs": [
    {
     "name": "stdout",
     "output_type": "stream",
     "text": [
      "CV error    =  0.2873239436619719\n",
      "best C      =  10.0\n",
      "best gamma  =  0.01\n"
     ]
    }
   ],
   "source": [
    "from sklearn.svm import SVC\n",
    "from sklearn.model_selection import learning_curve, GridSearchCV\n",
    "\n",
    "C_array = np.logspace(-3, 3, num=7)\n",
    "gamma_array = np.logspace(-5, 2, num=8)\n",
    "svc = SVC(kernel='rbf')\n",
    "\n",
    "grid = GridSearchCV(svc, param_grid={'C': C_array, 'gamma': gamma_array}).fit(\n",
    "    X_train, y_train)\n",
    "\n",
    "print('CV error    = ', 1 - grid.best_score_)\n",
    "print('best C      = ', grid.best_estimator_.C)\n",
    "print('best gamma  = ', grid.best_estimator_.gamma)"
   ]
  },
  {
   "cell_type": "code",
   "execution_count": 133,
   "metadata": {},
   "outputs": [
    {
     "name": "stdout",
     "output_type": "stream",
     "text": [
      "Кол-во ошибок обучающей выборки = 114 \n",
      "\n",
      "Кол-во ошибок тестовой выборки = 13 \n",
      "\n",
      "Оценка точности обучающей выборки = 67.89 % \n",
      "\n",
      "Оценка точности тестовой выборки = 67.5 %\n"
     ]
    }
   ],
   "source": [
    "svc1 = SVC(kernel='rbf', C=grid.best_estimator_.C,\n",
    "           gamma=grid.best_estimator_.gamma).fit(X_train, y_train)\n",
    "log_errors(svc1.predict(X_train_std), svc1.predict(X_test_std))"
   ]
  },
  {
   "cell_type": "markdown",
   "metadata": {},
   "source": [
    "### Линейное ядро:"
   ]
  },
  {
   "cell_type": "code",
   "execution_count": 134,
   "metadata": {},
   "outputs": [
    {
     "name": "stdout",
     "output_type": "stream",
     "text": [
      "CV error    =  0.2788732394366197\n",
      "best C      =  10.0\n"
     ]
    }
   ],
   "source": [
    "C_array = np.logspace(-3, 3, num=7)\n",
    "svc = SVC(kernel='linear')\n",
    "grid = GridSearchCV(svc, param_grid={'C': C_array}).fit(X_train, y_train)\n",
    "\n",
    "print('CV error    = ', 1 - grid.best_score_)\n",
    "print('best C      = ', grid.best_estimator_.C)"
   ]
  },
  {
   "cell_type": "code",
   "execution_count": 135,
   "metadata": {},
   "outputs": [
    {
     "name": "stdout",
     "output_type": "stream",
     "text": [
      "Кол-во ошибок обучающей выборки = 99 \n",
      "\n",
      "Кол-во ошибок тестовой выборки = 12 \n",
      "\n",
      "Оценка точности обучающей выборки = 72.11 % \n",
      "\n",
      "Оценка точности тестовой выборки = 70.0 %\n"
     ]
    }
   ],
   "source": [
    "svc2 = SVC(kernel='linear', C=grid.best_estimator_.C).fit(X_train, y_train)\n",
    "log_errors(svc2.predict(X_train_std), svc2.predict(X_test_std))"
   ]
  },
  {
   "cell_type": "markdown",
   "metadata": {},
   "source": [
    "# Метод ближайших соседей:"
   ]
  },
  {
   "cell_type": "code",
   "execution_count": 136,
   "metadata": {},
   "outputs": [
    {
     "name": "stdout",
     "output_type": "stream",
     "text": [
      "Кол-во ошибок обучающей выборки = 69 \n",
      "\n",
      "Кол-во ошибок тестовой выборки = 12 \n",
      "\n",
      "Оценка точности обучающей выборки = 80.56 % \n",
      "\n",
      "Оценка точности тестовой выборки = 70.0 %\n"
     ]
    }
   ],
   "source": [
    "from sklearn.neighbors import KNeighborsClassifier\n",
    "\n",
    "nei1 = KNeighborsClassifier(n_neighbors=3).fit(X_train_std, y_train)\n",
    "log_errors(nei1.predict(X_train_std), nei1.predict(X_test_std))"
   ]
  },
  {
   "cell_type": "code",
   "execution_count": 137,
   "metadata": {},
   "outputs": [
    {
     "name": "stdout",
     "output_type": "stream",
     "text": [
      "Кол-во ошибок обучающей выборки = 91 \n",
      "\n",
      "Кол-во ошибок тестовой выборки = 12 \n",
      "\n",
      "Оценка точности обучающей выборки = 74.37 % \n",
      "\n",
      "Оценка точности тестовой выборки = 70.0 %\n"
     ]
    }
   ],
   "source": [
    "from sklearn.neighbors import KNeighborsClassifier\n",
    "\n",
    "nei2 = KNeighborsClassifier(n_neighbors=7).fit(X_train_std, y_train)\n",
    "log_errors(nei2.predict(X_train_std), nei2.predict(X_test_std))"
   ]
  },
  {
   "cell_type": "markdown",
   "metadata": {},
   "source": [
    "# AdaBoost – адаптивный бустинг:"
   ]
  },
  {
   "cell_type": "code",
   "execution_count": 138,
   "metadata": {},
   "outputs": [
    {
     "name": "stdout",
     "output_type": "stream",
     "text": [
      "Кол-во ошибок обучающей выборки = 116 \n",
      "\n",
      "Кол-во ошибок тестовой выборки = 15 \n",
      "\n",
      "Оценка точности обучающей выборки = 67.32 % \n",
      "\n",
      "Оценка точности тестовой выборки = 62.5 %\n"
     ]
    }
   ],
   "source": [
    "from sklearn import ensemble\n",
    "\n",
    "ada = ensemble.AdaBoostClassifier(n_estimators=50, learning_rate=1,\n",
    "                                  algorithm='SAMME.R').fit(X_train, y_train)\n",
    "log_errors(ada.predict(X_train_std), ada.predict(X_test_std))"
   ]
  },
  {
   "cell_type": "markdown",
   "metadata": {},
   "source": [
    "# Tree - дерево решений:"
   ]
  },
  {
   "cell_type": "code",
   "execution_count": 139,
   "metadata": {},
   "outputs": [
    {
     "name": "stdout",
     "output_type": "stream",
     "text": [
      "Кол-во ошибок обучающей выборки = 124 \n",
      "\n",
      "Кол-во ошибок тестовой выборки = 13 \n",
      "\n",
      "Оценка точности обучающей выборки = 65.07 % \n",
      "\n",
      "Оценка точности тестовой выборки = 67.5 %\n"
     ]
    }
   ],
   "source": [
    "from sklearn.tree import DecisionTreeClassifier\n",
    "\n",
    "tree = DecisionTreeClassifier(max_depth=10).fit(X_train, y_train)\n",
    "log_errors(tree.predict(X_train_std), tree.predict(X_test_std))"
   ]
  },
  {
   "cell_type": "markdown",
   "metadata": {},
   "source": [
    "# Random Forest – случайный лес:"
   ]
  },
  {
   "cell_type": "code",
   "execution_count": 140,
   "metadata": {},
   "outputs": [
    {
     "name": "stdout",
     "output_type": "stream",
     "text": [
      "Кол-во ошибок обучающей выборки = 101 \n",
      "\n",
      "Кол-во ошибок тестовой выборки = 11 \n",
      "\n",
      "Оценка точности обучающей выборки = 71.55 % \n",
      "\n",
      "Оценка точности тестовой выборки = 72.5 %\n"
     ]
    }
   ],
   "source": [
    "from sklearn import ensemble\n",
    "\n",
    "rf = ensemble.RandomForestClassifier(criterion='gini', max_depth=3,\n",
    "                                     min_samples_split=2, min_samples_leaf=2).fit(X_train, y_train)\n",
    "log_errors(rf.predict(X_train_std), rf.predict(X_test_std))"
   ]
  },
  {
   "cell_type": "markdown",
   "metadata": {},
   "source": [
    "# GBT – градиентный бустинг деревьев решений:"
   ]
  },
  {
   "cell_type": "code",
   "execution_count": 141,
   "metadata": {},
   "outputs": [
    {
     "name": "stdout",
     "output_type": "stream",
     "text": [
      "Кол-во ошибок обучающей выборки = 134 \n",
      "\n",
      "Кол-во ошибок тестовой выборки = 12 \n",
      "\n",
      "Оценка точности обучающей выборки = 62.25 % \n",
      "\n",
      "Оценка точности тестовой выборки = 70.0 %\n"
     ]
    }
   ],
   "source": [
    "from sklearn import ensemble\n",
    "\n",
    "gbt = ensemble.GradientBoostingClassifier(\n",
    "    n_estimators=50, random_state=3).fit(X_train, y_train)\n",
    "log_errors(gbt.predict(X_train_std), gbt.predict(X_test_std))"
   ]
  },
  {
   "cell_type": "code",
   "execution_count": 142,
   "metadata": {},
   "outputs": [
    {
     "data": {
      "text/html": [
       "<div>\n",
       "<style scoped>\n",
       "    .dataframe tbody tr th:only-of-type {\n",
       "        vertical-align: middle;\n",
       "    }\n",
       "\n",
       "    .dataframe tbody tr th {\n",
       "        vertical-align: top;\n",
       "    }\n",
       "\n",
       "    .dataframe thead th {\n",
       "        text-align: right;\n",
       "    }\n",
       "</style>\n",
       "<table border=\"1\" class=\"dataframe\">\n",
       "  <thead>\n",
       "    <tr style=\"text-align: right;\">\n",
       "      <th></th>\n",
       "      <th>Algoritm</th>\n",
       "      <th>Train</th>\n",
       "      <th>Test</th>\n",
       "    </tr>\n",
       "  </thead>\n",
       "  <tbody>\n",
       "    <tr>\n",
       "      <th>0</th>\n",
       "      <td>Logistic</td>\n",
       "      <td>72.11</td>\n",
       "      <td>72.5</td>\n",
       "    </tr>\n",
       "    <tr>\n",
       "      <th>1</th>\n",
       "      <td>SVC_RBF</td>\n",
       "      <td>67.89</td>\n",
       "      <td>67.5</td>\n",
       "    </tr>\n",
       "    <tr>\n",
       "      <th>2</th>\n",
       "      <td>SVC_linear</td>\n",
       "      <td>72.11</td>\n",
       "      <td>70.0</td>\n",
       "    </tr>\n",
       "    <tr>\n",
       "      <th>3</th>\n",
       "      <td>KNN_n=3</td>\n",
       "      <td>80.56</td>\n",
       "      <td>70.0</td>\n",
       "    </tr>\n",
       "    <tr>\n",
       "      <th>4</th>\n",
       "      <td>KNN_n=7</td>\n",
       "      <td>74.37</td>\n",
       "      <td>70.0</td>\n",
       "    </tr>\n",
       "    <tr>\n",
       "      <th>5</th>\n",
       "      <td>Adaboost</td>\n",
       "      <td>67.32</td>\n",
       "      <td>62.5</td>\n",
       "    </tr>\n",
       "    <tr>\n",
       "      <th>6</th>\n",
       "      <td>Tree</td>\n",
       "      <td>65.07</td>\n",
       "      <td>67.5</td>\n",
       "    </tr>\n",
       "    <tr>\n",
       "      <th>7</th>\n",
       "      <td>Rand_Forest</td>\n",
       "      <td>71.55</td>\n",
       "      <td>72.5</td>\n",
       "    </tr>\n",
       "    <tr>\n",
       "      <th>8</th>\n",
       "      <td>GBT</td>\n",
       "      <td>62.25</td>\n",
       "      <td>70.0</td>\n",
       "    </tr>\n",
       "  </tbody>\n",
       "</table>\n",
       "</div>"
      ],
      "text/plain": [
       "      Algoritm  Train  Test\n",
       "0     Logistic  72.11  72.5\n",
       "1      SVC_RBF  67.89  67.5\n",
       "2   SVC_linear  72.11  70.0\n",
       "3      KNN_n=3  80.56  70.0\n",
       "4      KNN_n=7  74.37  70.0\n",
       "5     Adaboost  67.32  62.5\n",
       "6         Tree  65.07  67.5\n",
       "7  Rand_Forest  71.55  72.5\n",
       "8          GBT  62.25  70.0"
      ]
     },
     "execution_count": 142,
     "metadata": {},
     "output_type": "execute_result"
    }
   ],
   "source": [
    "name = {'Algoritm': ['Logistic', 'SVC_RBF', 'SVC_linear',\n",
    "                     'KNN_n=3', 'KNN_n=7', 'Adaboost', 'Tree', 'Rand_Forest', 'GBT']}\n",
    "\n",
    "Alg = pd.DataFrame(data=name)\n",
    "ML = pd.DataFrame(data=Result)\n",
    "\n",
    "Res = pd.concat((Alg, ML), axis=1)\n",
    "Res"
   ]
  },
  {
   "cell_type": "markdown",
   "metadata": {},
   "source": [
    "Матрица ошибок у  Logistic и Random_Forest показывают, что этм модели - лидеры по поиску истинноположительных ответов. Это говорит о том, что они с большей вероятностью по сравнению с остальными моделями смогут определить учеников, которые сдадут тест по математике."
   ]
  }
 ],
 "metadata": {
  "kernelspec": {
   "display_name": "Python 3 (ipykernel)",
   "language": "python",
   "name": "python3"
  },
  "language_info": {
   "codemirror_mode": {
    "name": "ipython",
    "version": 3
   },
   "file_extension": ".py",
   "mimetype": "text/x-python",
   "name": "python",
   "nbconvert_exporter": "python",
   "pygments_lexer": "ipython3",
   "version": "3.9.7"
  }
 },
 "nbformat": 4,
 "nbformat_minor": 4
}
